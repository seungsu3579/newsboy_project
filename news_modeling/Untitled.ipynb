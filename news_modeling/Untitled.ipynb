{
 "cells": [
  {
   "cell_type": "code",
   "execution_count": 1,
   "id": "327cb9f5",
   "metadata": {},
   "outputs": [],
   "source": [
    "from algoliasearch.search_client import SearchClient"
   ]
  },
  {
   "cell_type": "code",
   "execution_count": 2,
   "id": "c84ad564",
   "metadata": {},
   "outputs": [],
   "source": [
    "client = SearchClient.create('5A0OV7MDCW', '75ea40b6927272cbbd652b331fcb0354')\n",
    "index = client.init_index('newsboy')"
   ]
  },
  {
   "cell_type": "code",
   "execution_count": 4,
   "id": "ae193f7b",
   "metadata": {},
   "outputs": [
    {
     "data": {
      "text/plain": [
       "<algoliasearch.responses.IndexingResponse at 0x7f39bd9f7c18>"
      ]
     },
     "execution_count": 4,
     "metadata": {},
     "output_type": "execute_result"
    }
   ],
   "source": [
    "index.save_object(\n",
    "{\n",
    "    'name' : 'test',\n",
    "    'age' : 19,\n",
    "    'description' : 'this is first record'\n",
    "}, {\n",
    "    'autoGenerateObjectIDIfNotExist': True})"
   ]
  },
  {
   "cell_type": "code",
   "execution_count": null,
   "id": "853c3dd1",
   "metadata": {},
   "outputs": [],
   "source": []
  }
 ],
 "metadata": {
  "kernelspec": {
   "display_name": "Python 3",
   "language": "python",
   "name": "python3"
  },
  "language_info": {
   "codemirror_mode": {
    "name": "ipython",
    "version": 3
   },
   "file_extension": ".py",
   "mimetype": "text/x-python",
   "name": "python",
   "nbconvert_exporter": "python",
   "pygments_lexer": "ipython3",
   "version": "3.6.8"
  }
 },
 "nbformat": 4,
 "nbformat_minor": 5
}
