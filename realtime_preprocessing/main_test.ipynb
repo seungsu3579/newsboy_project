{
 "cells": [
  {
   "cell_type": "markdown",
   "id": "2cb40178",
   "metadata": {},
   "source": [
    "### 요약 및 키워드 추출 클래스"
   ]
  },
  {
   "cell_type": "code",
   "execution_count": 1,
   "id": "c5fc409d",
   "metadata": {},
   "outputs": [],
   "source": [
    "import threading\n",
    "from tqdm import tqdm\n",
    "from pororo import Pororo\n",
    "from database.controller import ServiceDBController\n",
    "from elasticsearch import Elasticsearch\n",
    "import unicodedata as unicode\n",
    "\n",
    "def summarize_keyword(text_list : list, keyword_news_list : list, news_summary_list : list, lock, keyword_lock):\n",
    "    \n",
    "    summ = Pororo(task=\"summarization\", model=\"extractive\", lang=\"ko\")\n",
    "    ner = Pororo(task=\"ner\", lang=\"ko\")\n",
    "    pos = Pororo(task=\"pos\", lang=\"ko\")\n",
    "    es = Elasticsearch(\"http://search.newsboycorp.com:9200\")\n",
    "    tmp_dbs = ServiceDBController()\n",
    "    \n",
    "    error_count = 0\n",
    "    \n",
    "    for text in tqdm(text_list):\n",
    "\n",
    "        \n",
    "        ##### summarize #####\n",
    "        try:\n",
    "            summarized_text = summ(text.get(\"article_context\"))\n",
    "        except:\n",
    "            article = text.get(\"article_context\")\n",
    "            summarized_text = \". \".join(article.split(\". \")[:3])\n",
    "            summarized_text += \"...(후략)\"\n",
    "\n",
    "            error_count += 1\n",
    "        \n",
    "        ##### elastic search add #####\n",
    "        id = text.get(\"id\")\n",
    "        doc = {'title' : text.get('article_headline'), 'summary' : summarized_text, 'article_url' : text.get('article_url'), 'image_url' : text.get('image_url'), \"date\": text.get(\"created_datetime\")}\n",
    "\n",
    "        lock.acquire()\n",
    "#         try:\n",
    "#             es.create(index=\"newsboy_news\", id=id, body=doc)\n",
    "#         except:\n",
    "#             pass\n",
    "        print(f\"ES INSERT : {doc}\")\n",
    "        lock.release()\n",
    "\n",
    "        ##### extract keyword #####\n",
    "        keywords = set()\n",
    "        if len(summarized_text) > 512:\n",
    "            summarized_text_keyword = summarized_text[:512]\n",
    "        else:\n",
    "            summarized_text_keyword = summarized_text\n",
    "        \n",
    "        try:\n",
    "            ner_analysis = ner(summarized_text_keyword)\n",
    "        except:\n",
    "            ner_analysis = []\n",
    "            # continue\n",
    "\n",
    "        flag = True\n",
    "        for word, tp in ner_analysis:\n",
    "            if tp not in ['DATE', 'QUANTITY', 'O', 'COUNTRY', 'LOCATION', 'OCCUPATION', 'TIME', 'CITY', 'CIVILIZATION', 'TERM', 'ANIMAL'] and len(word) > 1:\n",
    "                if word.isalnum() and (word not in STOPWORDS):\n",
    "                    # keywords.add((word, tp))\n",
    "                    for c in word:\n",
    "                        if 'HANGUL' not in unicode.name(c) and 'LATIN' not in unicode.name(c) and 'DIGIT' not in unicode.name(c):\n",
    "                            flag = False\n",
    "                            break\n",
    "                    if flag:\n",
    "                        keywords.add((word, tp))\n",
    "                        flag = True\n",
    "        \n",
    "        for wordlist, tp in [(pos(word), tp) for word, tp in list(keywords)]: \n",
    "            if len(wordlist) == 1:\n",
    "                if len(wordlist[0]) == 0 or wordlist[0][1] != 'NNP':\n",
    "                    keywords.remove((wordlist[0][0], tp))\n",
    "        \n",
    "\n",
    "\n",
    "        # upsert keyword on keyword table    \n",
    "        upsert_keyword_list = []\n",
    "        for keyword, tp in keywords:\n",
    "            now = datetime.datetime.now().strftime('%Y-%m-%d %H:%M:%S')\n",
    "            upsert_keyword_list.append((now, now, keyword, tp, now, keyword,))\n",
    "        \n",
    "#         keyword_lock.acquire()\n",
    "#         tmp_dbs.upsert_keyword(upsert_keyword_list)\n",
    "#         keyword_lock.release()\n",
    "        print(f\"KEYWORD UPSERT : {upsert_keyword_list}\")\n",
    "\n",
    "        # save relation of keyword and article\n",
    "        now = datetime.datetime.now().strftime('%Y-%m-%d %H:%M:%S')\n",
    "        keyword = list(map(lambda x : \"\\'\" + x[0] + \"\\'\", keywords))\n",
    "        if len(keyword) != 0:\n",
    "            keyword_news_relation_list = [(now, now, row['keyword_id'], text.get(\"id\"), now) for row in tmp_dbs.get_keyword_ids(\", \".join(keyword))] \n",
    "        else:\n",
    "            keyword_news_relation_list = []\n",
    "        # tmp_dbs.insert_keyword_news_relation(keyword_news_relation_list)\n",
    "\n",
    "        # lock\n",
    "        lock.acquire()\n",
    "        keyword_news_list += keyword_news_relation_list\n",
    "        news_summary_list.append(\n",
    "            (text.get(\"id\"), text.get(\"created_datetime\").strftime('%Y-%m-%d %H:%M:%S'), now, summarized_text, text.get(\"article_url\"), \n",
    "             text.get(\"category\"), text.get(\"article_headline\"), text.get(\"image_url\"), text.get(\"score\"), now, text.get(\"score\"), )\n",
    "        )\n",
    "        lock.release()\n"
   ]
  },
  {
   "cell_type": "markdown",
   "id": "1634dfde",
   "metadata": {},
   "source": [
    "### ======================="
   ]
  },
  {
   "cell_type": "code",
   "execution_count": 2,
   "id": "bc82d928",
   "metadata": {},
   "outputs": [],
   "source": [
    "import datetime\n",
    "from utils import *\n",
    "from clustering.dbscan import DBSCAN_news\n",
    "from database.controller import DBController, ServiceDBController\n",
    "\n",
    "# time setting\n",
    "date ='2020-01-10 13:05:00'\n",
    "file_date = date[:10]\n",
    "date = datetime.datetime.strptime(date, '%Y-%m-%d %H:%M:%S')\n",
    "delta_hour = 1\n",
    "interval = datetime.timedelta(hours=delta_hour)\n",
    "\n",
    "# date = datetime.datetime.now()\n",
    "# file_date = date[:10]\n",
    "# interval = datetime.timedelta(minutes=NEWS_TIME_INTERVAL)\n",
    "\n",
    "# settings\n",
    "NEWS_TIME_INTERVAL = 5\n",
    "TMP_VECTORIZED_NEWS = f\"{file_date}_vectorized_news.pkl\""
   ]
  },
  {
   "cell_type": "code",
   "execution_count": 3,
   "id": "07cc5620",
   "metadata": {},
   "outputs": [
    {
     "data": {
      "text/plain": [
       "'2020-01-10_vectorized_news.pkl'"
      ]
     },
     "execution_count": 3,
     "metadata": {},
     "output_type": "execute_result"
    }
   ],
   "source": [
    "TMP_VECTORIZED_NEWS"
   ]
  },
  {
   "cell_type": "code",
   "execution_count": 4,
   "id": "f8882490",
   "metadata": {},
   "outputs": [],
   "source": [
    "def cos_sim(A, B):\n",
    "    return np.dot(A, B)/(np.linalg.norm(A)*np.linalg.norm(B))"
   ]
  },
  {
   "cell_type": "markdown",
   "id": "26f2f415",
   "metadata": {},
   "source": [
    "### 새로운 데이터 불러오기"
   ]
  },
  {
   "cell_type": "code",
   "execution_count": 5,
   "id": "c912cd57",
   "metadata": {},
   "outputs": [],
   "source": [
    "db = DBController()\n",
    "dbs = ServiceDBController()"
   ]
  },
  {
   "cell_type": "code",
   "execution_count": 6,
   "id": "680f7e55",
   "metadata": {},
   "outputs": [],
   "source": [
    "recent_news_tmp = db.get_article_by_realtime(date, interval)\n",
    "\n",
    "recent_news_data = dict()\n",
    "for news in recent_news_tmp:\n",
    "    if len(news['article_context'].split('. ')) > 8:\n",
    "        recent_news_data[news['id']] = dict(news)"
   ]
  },
  {
   "cell_type": "markdown",
   "id": "c58f8128",
   "metadata": {},
   "source": [
    "### 이전 데이터 불러오기"
   ]
  },
  {
   "cell_type": "code",
   "execution_count": 7,
   "id": "f799c8a1",
   "metadata": {},
   "outputs": [],
   "source": [
    "\n",
    "try:\n",
    "    prev_news_dict = DataLoader.load_pickle_as_object(TMP_VECTORIZED_NEWS)\n",
    "except FileNotFoundError:\n",
    "    prev_news_dict = dict()\n",
    "    "
   ]
  },
  {
   "cell_type": "markdown",
   "id": "82bb5030",
   "metadata": {},
   "source": [
    "### 데이터 병합 및 필터링"
   ]
  },
  {
   "cell_type": "code",
   "execution_count": 8,
   "id": "85ad1e0b",
   "metadata": {},
   "outputs": [],
   "source": [
    "new_news_list = []\n",
    "duplicate_list = []\n",
    "cnt = 1\n",
    "for k, v in recent_news_data.items():\n",
    "    if prev_news_dict.get(k) == None:\n",
    "        new_news_list.append(v)\n",
    "    else:\n",
    "        duplicate_list.append(v)"
   ]
  },
  {
   "cell_type": "code",
   "execution_count": 9,
   "id": "60ce2708",
   "metadata": {},
   "outputs": [
    {
     "data": {
      "text/plain": [
       "(461, 0, 0)"
      ]
     },
     "execution_count": 9,
     "metadata": {},
     "output_type": "execute_result"
    }
   ],
   "source": [
    "len(new_news_list), len(prev_news_dict.values()), len(duplicate_list)"
   ]
  },
  {
   "cell_type": "markdown",
   "id": "b6ca2357",
   "metadata": {},
   "source": [
    "### 새로운 데이터 벡터화"
   ]
  },
  {
   "cell_type": "code",
   "execution_count": 10,
   "id": "c437fc12",
   "metadata": {},
   "outputs": [
    {
     "name": "stdout",
     "output_type": "stream",
     "text": [
      "CPU times: user 4min 4s, sys: 51.3 s, total: 4min 55s\n",
      "Wall time: 2min 35s\n"
     ]
    }
   ],
   "source": [
    "%%time\n",
    "recent_news_dict = Vectorizer.set_df_thread_pool(new_news_list, 8)"
   ]
  },
  {
   "cell_type": "markdown",
   "id": "e772ccf0",
   "metadata": {},
   "source": [
    "### 전체 데이터 병합 및 클러스터링"
   ]
  },
  {
   "cell_type": "code",
   "execution_count": 11,
   "id": "292e9d1b",
   "metadata": {},
   "outputs": [],
   "source": [
    "all_data = prev_news_dict\n",
    "all_data.update(recent_news_dict)"
   ]
  },
  {
   "cell_type": "code",
   "execution_count": 12,
   "id": "539ef3bc",
   "metadata": {},
   "outputs": [],
   "source": [
    "record_num = len(all_data.keys())"
   ]
  },
  {
   "cell_type": "code",
   "execution_count": 13,
   "id": "ae1bc916",
   "metadata": {},
   "outputs": [
    {
     "data": {
      "text/plain": [
       "True"
      ]
     },
     "execution_count": 13,
     "metadata": {},
     "output_type": "execute_result"
    }
   ],
   "source": [
    "DataLoader.save_object_as_pickle(all_data, TMP_VECTORIZED_NEWS)"
   ]
  },
  {
   "cell_type": "code",
   "execution_count": 14,
   "id": "ccf9322b",
   "metadata": {},
   "outputs": [],
   "source": [
    "cluster = DBSCAN_news(list(all_data.values()), already_vectorized=True)\n",
    "cluster_num = cluster.info()['cluster_num'] + cluster.info()['noise_num']"
   ]
  },
  {
   "cell_type": "code",
   "execution_count": 15,
   "id": "c98026ee",
   "metadata": {},
   "outputs": [],
   "source": [
    "# minimize too big cluster\n",
    "cluster_id_set = []\n",
    "\n",
    "max_cnt = 300\n",
    "eps = 0.15"
   ]
  },
  {
   "cell_type": "code",
   "execution_count": 16,
   "id": "b53ff301",
   "metadata": {},
   "outputs": [
    {
     "name": "stderr",
     "output_type": "stream",
     "text": [
      "/home/swrocksdb/seungsu/pororo/lib64/python3.6/site-packages/ipykernel_launcher.py:2: SettingWithCopyWarning: \n",
      "A value is trying to be set on a copy of a slice from a DataFrame.\n",
      "Try using .loc[row_indexer,col_indexer] = value instead\n",
      "\n",
      "See the caveats in the documentation: https://pandas.pydata.org/pandas-docs/stable/user_guide/indexing.html#returning-a-view-versus-a-copy\n",
      "  \n"
     ]
    }
   ],
   "source": [
    "while True:\n",
    "    cluster.dataframe[\"id\"] = list(cluster.dataframe.index)\n",
    "    total_data = cluster.dataframe.to_dict(\"index\")\n",
    "\n",
    "    # edit eps to minimize cluster\n",
    "    eps -= 0.04\n",
    "    if eps < 0.02:\n",
    "        break\n",
    "\n",
    "    flag = True\n",
    "\n",
    "    for cid in range(cluster_num):\n",
    "        tmp = cluster.dataframe[cluster.dataframe.clusters == cid]\n",
    "        # over max cluster size\n",
    "        if len(tmp) > max_cnt:\n",
    "            flag = False\n",
    "            tmp_dict = tmp.to_dict(orient = 'records')\n",
    "\n",
    "            tmp_cluster = DBSCAN_news(tmp_dict, eps=eps, already_vectorized=True)\n",
    "\n",
    "            # cluster id 가 겹치지 않게 설정\n",
    "            tmp_cluster.dataframe[\"clusters\"] += cluster_num*(cid+1)\n",
    "\n",
    "            tmp_data = tmp_cluster.dataframe.to_dict(\"index\")\n",
    "\n",
    "            for k, v in tmp_data.items():\n",
    "                total_data[k] = v\n",
    "\n",
    "    # relocate cluster id \n",
    "    cluster_id_set = list(set([v[\"clusters\"] for v in total_data.values()]))\n",
    "\n",
    "    for v in total_data.values():\n",
    "        v[\"clusters\"] = cluster_id_set.index(v[\"clusters\"])\n",
    "\n",
    "    cluster.dataframe = pd.DataFrame.from_dict(total_data, \"index\")\n",
    "    cluster_num = len(cluster_id_set)\n",
    "\n",
    "    if flag:\n",
    "        break\n",
    "\n",
    "for k, v in total_data.items():\n",
    "    v[\"id\"] = k\n",
    "    v[\"vector\"] = cluster.dataframe.loc[k, \"vector\"]\n",
    "\n",
    "df = pd.DataFrame.from_dict(total_data, \"index\")\n",
    "df[\"cos_sim\"] = None\n"
   ]
  },
  {
   "cell_type": "code",
   "execution_count": 17,
   "id": "d6d5a74e",
   "metadata": {},
   "outputs": [],
   "source": [
    "# ranking by cos sim group_by cluster id\n",
    "for cid in range(len(cluster_id_set)):\n",
    "    tmp = df[df.clusters == cid]\n",
    "    mean = sum(list(tmp[\"vector\"]))/len(list(tmp[\"vector\"]))\n",
    "\n",
    "    rank = []\n",
    "    for idx in tmp.index:\n",
    "        simularity = cos_sim(df.loc[idx, \"vector\"], mean)\n",
    "        df.loc[idx, \"cos_sim\"] = simularity\n",
    "        rank.append((idx, simularity))\n",
    "\n",
    "    rank.sort(key=lambda x : x[1], reverse=True)\n",
    "\n",
    "    ranking = 1\n",
    "    for idx, v in rank:\n",
    "        df.loc[idx, \"rank\"] = ranking\n",
    "        df.loc[idx, \"score\"] = len(rank)/record_num\n",
    "        # category_num_map['category']\n",
    "        ranking += 1\n"
   ]
  },
  {
   "cell_type": "code",
   "execution_count": 18,
   "id": "08311f7e",
   "metadata": {},
   "outputs": [],
   "source": [
    "# set cluster id not to overlap each other\n",
    "try:\n",
    "    pivot_id = db.get_max_clusterid()[\"max\"] + 1\n",
    "except:\n",
    "    pivot_id = 1\n",
    "df[\"clusters\"] += pivot_id"
   ]
  },
  {
   "cell_type": "code",
   "execution_count": 19,
   "id": "e262c835",
   "metadata": {},
   "outputs": [],
   "source": [
    "# form data to update db\n",
    "total_data = []\n",
    "service_data = dict()\n",
    "no_service_data = dict()\n",
    "\n",
    "for i in df.index:\n",
    "    if df[\"rank\"][i] == 1:\n",
    "        now = datetime.datetime.now().strftime('%Y-%m-%d %H:%M:%S')\n",
    "        data = (int(df[\"clusters\"][i]), \"true\", i)\n",
    "        sdata = (i, df[\"created_datetime\"][i].strftime('%Y-%m-%d %H:%M:%S'), now, df[\"article_context\"][i], df[\"article_url\"][i], df[\"category\"][i], df[\"article_headline\"][i], df[\"image_url\"][i], df[\"score\"][i], now, df[\"score\"][i])\n",
    "        service_data[i] = sdata\n",
    "    else:\n",
    "        ndata = (i, )\n",
    "        no_service_data[i] = ndata\n",
    "        data = (int(df[\"clusters\"][i]), \"false\", i)\n",
    "\n",
    "    total_data.append(data)\n"
   ]
  },
  {
   "cell_type": "markdown",
   "id": "318d0c4d",
   "metadata": {},
   "source": [
    "### 요약할 체크리스트 생성"
   ]
  },
  {
   "cell_type": "code",
   "execution_count": 20,
   "id": "fad251e7",
   "metadata": {},
   "outputs": [],
   "source": [
    "check_list = list(map(lambda x: x, service_data.keys()))"
   ]
  },
  {
   "cell_type": "code",
   "execution_count": 21,
   "id": "b37ec110",
   "metadata": {},
   "outputs": [],
   "source": [
    "check_list = dbs.check_already_serviced_data_by_news_id(check_list)"
   ]
  },
  {
   "cell_type": "code",
   "execution_count": 22,
   "id": "2bb30741",
   "metadata": {},
   "outputs": [],
   "source": [
    "# summary, keyword extract 필요\n",
    "check_list = list(map(lambda x : x.get(\"id\"), check_list))"
   ]
  },
  {
   "cell_type": "code",
   "execution_count": 23,
   "id": "a89d4599",
   "metadata": {},
   "outputs": [],
   "source": [
    "summ_data = [all_data[k] for k in check_list]"
   ]
  },
  {
   "cell_type": "markdown",
   "id": "590333ef",
   "metadata": {},
   "source": [
    "### 요약 및 키워드 추출"
   ]
  },
  {
   "cell_type": "code",
   "execution_count": 24,
   "id": "1b1ef6ff",
   "metadata": {},
   "outputs": [],
   "source": [
    "idx = 0\n",
    "thread_num = 8\n",
    "parallel_data_list = [[]for i in range(thread_num)]\n",
    "while len(summ_data) != 0:\n",
    "    parallel_data_list[idx%thread_num].append(summ_data.pop())\n",
    "    idx += 1"
   ]
  },
  {
   "cell_type": "code",
   "execution_count": 25,
   "id": "1745db53",
   "metadata": {},
   "outputs": [
    {
     "name": "stdout",
     "output_type": "stream",
     "text": [
      "thread starting...\n"
     ]
    },
    {
     "name": "stderr",
     "output_type": "stream",
     "text": [
      "  5%|▌         | 1/20 [00:00<00:03,  5.17it/s]"
     ]
    },
    {
     "name": "stdout",
     "output_type": "stream",
     "text": [
      "ES INSERT : {'title': '중앙시평 조공의 슬픈 기억이 어른거렸다', 'summary': '시진핑 주석이 추진하는 ‘일대일로’ 一帶一路·육해상 실크로드 경유 국가의 언론에 ‘감지 感知 중국’ Experience China 을 해보라는 행사에 초대됐다. 남중국해 인도양 지중해 남태평양을 연결하는 중국 남부의 해상 실크로드 一路 거점을 도는 8일간의 여정이었다. 광둥성 廣東省 광저우 廣州 ·주하이 珠海 ·후이저우 惠州 푸젠성 福建省 샤먼 廈門 ·취안저우 泉州 ·푸저우 福州 등 6개 도시를 2000㎞ 움직이며 둘러봤다.', 'article_url': 'https://news.naver.com/main/read.nhn?mode=LSD&mid=sec&sid1=110&oid=025&aid=0002966762', 'image_url': None, 'date': datetime.datetime(2020, 1, 10, 12, 49)}\n",
      "KEYWORD UPSERT : [('2021-09-01 20:59:05', '2021-09-01 20:59:05', '시진핑', 'PERSON', '2021-09-01 20:59:05', '시진핑')]\n",
      "ES INSERT : {'title': '그 영화 이 장면 기생충', 'summary': '기생충 ‘기생충’에서 ‘냄새’는 인상적인 메타포다. 동익의 표현에 의하면 “아주 오래된 무말랭이 냄새” 혹은 “행주 삶을 때 나는 냄새”다. 그 냄새를 감지하는 사람은 동익과 그의 아들 다솜 정현준 뿐이다.', 'article_url': 'https://news.naver.com/main/read.nhn?mode=LSD&mid=sec&sid1=110&oid=025&aid=0002966745', 'image_url': 'https://imgnews.pstatic.net/image/025/2020/01/10/0002966745_001_20200110061102134.jpg', 'date': datetime.datetime(2020, 1, 10, 12, 13)}\n",
      "KEYWORD UPSERT : [('2021-09-01 20:59:05', '2021-09-01 20:59:05', '정현준', 'PERSON', '2021-09-01 20:59:05', '정현준'), ('2021-09-01 20:59:05', '2021-09-01 20:59:05', '다솜', 'PERSON', '2021-09-01 20:59:05', '다솜'), ('2021-09-01 20:59:05', '2021-09-01 20:59:05', '동익', 'PERSON', '2021-09-01 20:59:05', '동익')]\n"
     ]
    },
    {
     "name": "stderr",
     "output_type": "stream",
     "text": [
      " 20%|██        | 4/20 [00:00<00:02,  7.21it/s]"
     ]
    },
    {
     "name": "stdout",
     "output_type": "stream",
     "text": [
      "ES INSERT : {'title': '사설 규제속도 못따라 가겠다는 中企 호소에 귀 막아선 안 된다', 'summary': '화관법·화평법에 노동 규제 겹쳐 폐업 위기 몰려 기업 현장애로 해소하는 데서 규제개혁 출발해야 환경 관련 규제가 날로 강화되면서 이에 대처할 시간이라도 달라는 중소기업들의 호소가 끊이지 않고 있다. 중소기업인들은 8일 조명래 환경부 장관 초청 간담회에서 “화학물질관리법 화관법 화학물질의 등록 및 평가에 관한 법률 화평법 등과 관련된 비용 급증으로 경영난이 심화되고 있다”며 정부가 적극 나서 부담을 줄여달라고 주문했다. 중소기업인들은 안전을 강화하자는 정부의 취지에는 공감하지만 기업 규모와 무관하게 일률적으로 밀어붙이는 것은 감당하기에 벅차다고 입을 모은다.', 'article_url': 'https://news.naver.com/main/read.nhn?mode=LSD&mid=sec&sid1=110&oid=015&aid=0004271578', 'image_url': None, 'date': datetime.datetime(2020, 1, 10, 12, 9)}\n",
      "KEYWORD UPSERT : [('2021-09-01 20:59:05', '2021-09-01 20:59:05', '조명래', 'PERSON', '2021-09-01 20:59:05', '조명래'), ('2021-09-01 20:59:05', '2021-09-01 20:59:05', '환경부', 'ORGANIZATION', '2021-09-01 20:59:05', '환경부')]\n",
      "ES INSERT : {'title': 'CES2020 동양도 서양도 ‘잠이 보약’…ICT업계 “꿀잠 도와드립니다”', 'summary': '데이터수집→데이터활용 ‘진화’…안대·수면등·베게·이불·침대 “내가 적임자” 디지털데일리 윤상호기자 동서양을 막론하고 잠이 보약이다. 데이터 수집에서 데이터 활용으로 진화했다. 9일 현지시각 미국 라스베이거스에서 CES2020이 진행 중이다.', 'article_url': 'https://news.naver.com/main/read.nhn?mode=LSD&mid=sec&sid1=105&oid=138&aid=0002081506', 'image_url': 'https://imgnews.pstatic.net/image/138/2020/01/10/0002081506_001_20200110125805110.jpg', 'date': datetime.datetime(2020, 1, 10, 12, 58)}\n",
      "KEYWORD UPSERT : [('2021-09-01 20:59:05', '2021-09-01 20:59:05', 'CES2020', 'EVENT', '2021-09-01 20:59:05', 'CES2020')]\n"
     ]
    },
    {
     "name": "stderr",
     "output_type": "stream",
     "text": [
      "\r",
      " 30%|███       | 6/20 [00:00<00:01,  8.38it/s]"
     ]
    },
    {
     "name": "stdout",
     "output_type": "stream",
     "text": [
      "ES INSERT : {'title': '일본 버려지는 식품 줄이기 위해 날씨 정보 활용', 'summary': '앵커 팔다 남아 버려지는 식품을 줄이기 위해 날씨 정보와 스마트폰 앱 등을 활용한 대책이 도입되고 있습니다. 리포트 이 대형마트에서는 매일 신선식품과 반찬 등의 10% 정도가 팔다 남아 버려졌는데요. 식품 폐기는 자원 낭비일 뿐 아니라 점포 입장에서는 손실이기 때문에 이 같은 적극적인 대책을 마련하는 곳이 늘어날 전망입니다.', 'article_url': 'https://news.naver.com/main/read.nhn?mode=LSD&mid=sec&sid1=104&oid=056&aid=0010781295', 'image_url': 'https://imgnews.pstatic.net/image/056/2020/01/10/0010781295_001_20200110125003671.jpg', 'date': datetime.datetime(2020, 1, 10, 12, 50)}\n",
      "KEYWORD UPSERT : []\n",
      "ES INSERT : {'title': '미중 갈등 속 시진핑 올해 첫 해외 순방지로 미얀마 택해', 'summary': '이는 로힝야족 학살 문제로 서방 국가들이 등을 돌린 미얀마에서 중국의 영향력을 확대해 인도양 진출로를 넓히고 미국과 남중국해 영유권 분쟁에서 우위를 확보하려는 포석이 포함된 것으로 보인다. 10일 중국중앙TV에 따르면 시진핑 주석은 오는 17일부터 18일까지 미얀마를 국빈 방문한다. 시 주석의 이번 미얀마 방문은 중국 주도의 확장 정책인 일대일로 一帶一路 육상·해상 실크로드 에 있어 미얀마가 중요하기 때문이다.', 'article_url': 'https://news.naver.com/main/read.nhn?mode=LSD&mid=sec&sid1=104&oid=001&aid=0011327520', 'image_url': 'https://imgnews.pstatic.net/image/001/2020/01/10/PYH2019041108780034000_P2_20200110121209457.jpg', 'date': datetime.datetime(2020, 1, 10, 12, 11)}\n",
      "KEYWORD UPSERT : [('2021-09-01 20:59:06', '2021-09-01 20:59:06', '중국', 'ORGANIZATION', '2021-09-01 20:59:06', '중국'), ('2021-09-01 20:59:06', '2021-09-01 20:59:06', '시진핑', 'PERSON', '2021-09-01 20:59:06', '시진핑'), ('2021-09-01 20:59:06', '2021-09-01 20:59:06', '미국', 'ORGANIZATION', '2021-09-01 20:59:06', '미국'), ('2021-09-01 20:59:06', '2021-09-01 20:59:06', '중국중앙TV', 'ORGANIZATION', '2021-09-01 20:59:06', '중국중앙TV')]\n",
      "ES INSERT : {'title': '사랑의 불시착 손예진 떨어진 북한 군부대가 횡성', 'summary': '사랑의 불시착은 어느 날 돌풍과 함께 패러글라이딩 사고로 북한에 불시착한 재벌 상속녀 윤세리 손예진 와 그녀를 숨기고 지키다 사랑하게 되는 특급 장교 리정혁 현빈 의 러브스토리를 그린 드라마다. 드라마 내용의 특성상 북한 군대의 모습이 자주 등장하게 되는데 북한의 군부대를 비롯한 장마당 북한 시장 등 상당수 촬영이 횡성 묵계리 폐부대에서 촬영됐다. 탄약고와 연병장 생활관 관사 수송부 등 각종 군시설이 그대로 남아 있어 제작진들의 문의가 끊이지 않는 것으로 알려졌다.', 'article_url': 'https://news.naver.com/main/read.nhn?mode=LSD&mid=sec&sid1=103&oid=087&aid=0000783902', 'image_url': 'https://imgnews.pstatic.net/image/087/2020/01/10/0000783902_001_20200110003316936.jpg', 'date': datetime.datetime(2020, 1, 10, 12, 33)}\n"
     ]
    },
    {
     "name": "stderr",
     "output_type": "stream",
     "text": [
      "\r",
      " 40%|████      | 8/20 [00:00<00:01,  8.70it/s]"
     ]
    },
    {
     "name": "stdout",
     "output_type": "stream",
     "text": [
      "KEYWORD UPSERT : [('2021-09-01 20:59:06', '2021-09-01 20:59:06', '패러글라', 'ARTIFACT', '2021-09-01 20:59:06', '패러글라'), ('2021-09-01 20:59:06', '2021-09-01 20:59:06', '현빈', 'PERSON', '2021-09-01 20:59:06', '현빈'), ('2021-09-01 20:59:06', '2021-09-01 20:59:06', '손예진', 'PERSON', '2021-09-01 20:59:06', '손예진'), ('2021-09-01 20:59:06', '2021-09-01 20:59:06', '윤세리', 'PERSON', '2021-09-01 20:59:06', '윤세리'), ('2021-09-01 20:59:06', '2021-09-01 20:59:06', '리정혁', 'PERSON', '2021-09-01 20:59:06', '리정혁')]\n",
      "ES INSERT : {'title': '카드뉴스물 흐르듯 자연스럽게...오늘의 운세', 'summary': '△물병자리 새로운 것을 많이 배우게 되는 날입니다. 멀어졌던 친구나 소원했던 가족들과 다시 잘 지내게 될 수도 있고 직장에서도 선후배들과 급격하게 사이가 좋아지게 됩니다. 다만 사소한 일에 집착하지 말고 여유를 가질 때 이러한 행운과 발전이 따르게 된다는 사실을 염두에 두세요.', 'article_url': 'https://news.naver.com/main/read.nhn?mode=LSD&mid=sec&sid1=103&oid=018&aid=0004552413', 'image_url': 'https://imgnews.pstatic.net/image/018/2020/01/10/0004552413_001_20200110000801795.jpg', 'date': datetime.datetime(2020, 1, 10, 12, 8)}\n",
      "KEYWORD UPSERT : []\n",
      "ES INSERT : {'title': '창녕군 우포늪 생태관 재개관…우포늪으로의 여행 등 5개 구역 조성', 'summary': '창녕 뉴시스 경남 창녕군 우포늪 생태관 재개관. 사진 창녕군 제공 2020.01.10. photo newsis.com 창녕 뉴시스 안지율 기자 경남 창녕군은 지난해 1년간 리모델링을 거친 우포늪 생태관을 재개관했다고 10일 밝혔다. 준공 후 10년이 지나 전시시설 노후화와 시대 흐름에 부적합한 스토리텔링 기법 등 직·간접 체험 콘텐츠 구성물이 없었다. 이에 군은 2019년 환경부와 경남도의 국·도비 지원과 군비를 포함한 총 36억원을 투입해 우포늪으로의 여행 시간을 담다 생명을 담다 공존의 풍경 문화를 담다 등 전체 5개 구역으로 구축했다.', 'article_url': 'https://news.naver.com/main/read.nhn?mode=LSD&mid=sec&sid1=103&oid=003&aid=0009648482', 'image_url': 'https://imgnews.pstatic.net/image/003/2020/01/10/NISI20200110_0000460576_web_20200110121301_20200110122103345.jpg', 'date': datetime.datetime(2020, 1, 10, 12, 19)}\n"
     ]
    },
    {
     "name": "stderr",
     "output_type": "stream",
     "text": [
      " 45%|████▌     | 9/20 [00:01<00:01,  8.54it/s]\n",
      "  0%|          | 0/21 [00:00<?, ?it/s]\u001b[A"
     ]
    },
    {
     "name": "stdout",
     "output_type": "stream",
     "text": [
      "KEYWORD UPSERT : [('2021-09-01 20:59:06', '2021-09-01 20:59:06', '창녕군', 'ORGANIZATION', '2021-09-01 20:59:06', '창녕군'), ('2021-09-01 20:59:06', '2021-09-01 20:59:06', '안지율', 'PERSON', '2021-09-01 20:59:06', '안지율'), ('2021-09-01 20:59:06', '2021-09-01 20:59:06', '경남도', 'ORGANIZATION', '2021-09-01 20:59:06', '경남도'), ('2021-09-01 20:59:06', '2021-09-01 20:59:06', '환경부', 'ORGANIZATION', '2021-09-01 20:59:06', '환경부')]\n",
      "ES INSERT : {'title': '핀란드 리얼 산타 화천 방문 어린이들에게 꿈 심어줘', 'summary': '11일에는 사내도서관을 방문하고 12일에는 산타우체국 본점과 이동점에 머무르며 어린이들과 가족단위 관광객들을 만나 동화책에 나오는 산타이야기를 들려줄 계획이다. ‘산타의 고향’인 핀란드 로바니에미시 산타마을의 산타우체국이 화천에 문을 연 것은 지난 2018년 12월이다. 이곳에서는 산타에게 편지 쓰기 체험을 비롯해 엽서와 기념품 구입 기념사진 촬영 머핀 및 쿠키 만들기 체험 등을 할 수 있다.', 'article_url': 'https://news.naver.com/main/read.nhn?mode=LSD&mid=sec&sid1=102&oid=087&aid=0000784066', 'image_url': 'https://imgnews.pstatic.net/image/087/2020/01/10/0000784066_001_20200110130304049.jpg', 'date': datetime.datetime(2020, 1, 10, 13, 3)}\n"
     ]
    },
    {
     "name": "stderr",
     "output_type": "stream",
     "text": [
      " 50%|█████     | 10/20 [00:01<00:01,  7.13it/s]\n",
      "  5%|▍         | 1/21 [00:00<00:04,  4.62it/s]\u001b[A"
     ]
    },
    {
     "name": "stdout",
     "output_type": "stream",
     "text": [
      "KEYWORD UPSERT : [('2021-09-01 20:59:06', '2021-09-01 20:59:06', '산타이야', 'STUDY_FIELD', '2021-09-01 20:59:06', '산타이야'), ('2021-09-01 20:59:06', '2021-09-01 20:59:06', '산타우체국', 'ORGANIZATION', '2021-09-01 20:59:06', '산타우체국')]\n",
      "ES INSERT : {'title': '언중언야속한 겨울비', 'summary': '엘 듯한 칼바람과 함께 눈이 와야 하는 겨울인데 때아닌 아수라장이 빚어졌다. 소한 小寒 인 지난 6일부터 8일까지 최대 100㎜가 넘는 폭우가 쏟아져 강원도 내 곳곳에서 싱크홀·토사 유출이 속출했다. 기상관측 이래 1월 일일 최다 강수량을 기록한 것에 대한 언론의 표현이 쓴웃음을 짓게 한다.', 'article_url': 'https://news.naver.com/main/read.nhn?mode=LSD&mid=sec&sid1=110&oid=087&aid=0000783996', 'image_url': 'https://imgnews.pstatic.net/image/087/2020/01/10/0000783996_001_20200110003437906.jpg', 'date': datetime.datetime(2020, 1, 10, 12, 34)}\n",
      "KEYWORD UPSERT : []\n",
      "ES INSERT : {'title': '춘천“민선 7기 역점사업 차질없이 추진”', 'summary': '이재수 춘천시장 상고심 직위유지 확정 이 시장 심려 끼쳐 죄송…시민주권시대 만들 것 1억 그루 나무심기·삼악산로프웨이 조성 등 박차 춘천 이재수 춘천시장 사진 이 9일 공직선거법 위반혐의 재판 상고심에서 최종 무죄가 확정되며 민선 7기 현안사업에 탄력이 붙을 것으로 기대된다. 이 시장은 이날 선고 결과 직후 “그동안 심려와 걱정을 드려 송구하다”며 “시민주권 시대를 만들기 위해 앞으로 더욱 매진하겠다”고 밝혔다. 시장직 직위유지 확정에 따라 춘천시정 추진 동력 상실 가능성과 행정 공백 우려는 말끔히 해소됐다. 춘천시는 앞으로 시민주권 강화와 지속가능한 도시 발전을 위해 행정력을 집중할 계획이다.', 'article_url': 'https://news.naver.com/main/read.nhn?mode=LSD&mid=sec&sid1=102&oid=087&aid=0000784024', 'image_url': None, 'date': datetime.datetime(2020, 1, 10, 12, 35)}\n"
     ]
    },
    {
     "name": "stderr",
     "output_type": "stream",
     "text": [
      " 55%|█████▌    | 11/20 [00:01<00:01,  4.93it/s]\n",
      "\n",
      "  0%|          | 0/20 [00:00<?, ?it/s]\u001b[A\u001b[A"
     ]
    },
    {
     "name": "stdout",
     "output_type": "stream",
     "text": [
      "KEYWORD UPSERT : [('2021-09-01 20:59:06', '2021-09-01 20:59:06', '삼악산로프웨이', 'ARTIFACT', '2021-09-01 20:59:06', '삼악산로프웨이'), ('2021-09-01 20:59:06', '2021-09-01 20:59:06', '이재수', 'PERSON', '2021-09-01 20:59:06', '이재수'), ('2021-09-01 20:59:06', '2021-09-01 20:59:06', '춘천시', 'ORGANIZATION', '2021-09-01 20:59:06', '춘천시')]\n",
      "ES INSERT : {'title': '전봉근의 한반도평화워치 북핵 위기 발생 전에 북한과 예방적 대화 필요', 'summary': '북한과 주고받는 거래 없이 북핵 합의 사실상 불가능 북핵 외교 관건은 대북 보상책의 국내 동의 확보 국민은 전쟁 위기 발생하면 북핵 협상 필요 느껴 위기 발생 전 선제적 대화가 훨씬 적은 비용 들어 북핵의 ‘불편한 현실’과 ‘불편한 해법’ 지난해 2월 8일 북한 인민군 창군 70주년 열병식에 등장한 대륙간탄도미사일 ICBM 화성 15형. 김정은 북한 국무위원장은 지난 연말 노동당 전원회의에서 비핵화 협상 차원에서 약속해온 핵무기·ICBM 시험 중단 폐기를 시사했다. 여기서 김정은은 북한 주민에게 미국의 제재 때문에 발생한 “전대미문의 혹독한 도전과 난관”을 자력갱생으로 정면돌파할 것을 요구했다. 밖으로는 미국이 북·미 대화를 시간 벌이에 이용했다고 비난하며 북·미 합의에 매이지 않고 새로운 전략무기를 시위할 것을 위협했다. 한반도에 또다시 북핵 위기와 전쟁 위기의 먹구름이 드리우기 시작했다.', 'article_url': 'https://news.naver.com/main/read.nhn?mode=LSD&mid=sec&sid1=110&oid=025&aid=0002966751', 'image_url': 'https://imgnews.pstatic.net/image/025/2020/01/10/0002966751_001_20200110061109886.jpg', 'date': datetime.datetime(2020, 1, 10, 12, 18)}\n"
     ]
    },
    {
     "name": "stderr",
     "output_type": "stream",
     "text": [
      "\n",
      " 10%|▉         | 2/21 [00:00<00:08,  2.31it/s]\u001b[A"
     ]
    },
    {
     "name": "stdout",
     "output_type": "stream",
     "text": [
      "ES INSERT : {'title': '저예산에 재미·참신 강릉 홍보하는 사나이', 'summary': '저예산에 재미·참신 강릉 홍보하는 사나이 ◇최근 유튜브에 강릉지역을 홍보하는 강릉남자 최팀장 시리즈를 올리고 있는 최용규 강릉시 미디어담당이 지난해 10월 개최된 강릉커피축제에서 가마솥에 1 650잔의 믹스 커피를 끓여 시민과 관광객에게 나눠줘 눈길을 끌었다. 시청 미디어담당 최용규 팀장 유튜브 영상 인기 “B급 감성의 홍보 전략으로 강릉을 알려라.” 최근 유튜브에 강릉남자 시리즈를 올리면서 주목받고 있는 강릉시 미디어담당 최용규 49 팀장. 그는 지난해 여름 휴가철을 맞아 주문진 BTS정류장을 찾아 해변에서 구두를 비롯해 옷까지 하나씩 벗어던진 것을 시작으로 경포 모래사장에 온몸을 묻으며 경포에 뼈를 묻겠다고 다짐했다. 최용규 팀장은 “요즘 트렌드가 많은 예산을 들여 고퀄리티로 만든 좋은 영상보다 저예산이지만 재미있고 참신한 영상에 대한 조회 수가 더 많다 보니 강릉을 알리기 위한 시도를 다방면으로 모색하고 있다”며 “앞으로 강릉시 홍보를 위해 다양한 방안을 계획 중이며 SNS기자단도 말랑말랑한 콘텐츠를 다양하게 올릴 수 있도록 할 예정”이라고 했다. 강릉시는 10일 오전 10시 시청 상황실에서 2020 SNS 서포터즈 위촉식 및 교육을 통해 강릉 알리기에 나선다.', 'article_url': 'https://news.naver.com/main/read.nhn?mode=LSD&mid=sec&sid1=102&oid=087&aid=0000783924', 'image_url': 'https://imgnews.pstatic.net/image/087/2020/01/10/0000783924_001_20200110003338956.jpg', 'date': datetime.datetime(2020, 1, 10, 12, 33)}\n",
      "KEYWORD UPSERT : [('2021-09-01 20:59:07', '2021-09-01 20:59:07', '노동당', 'ORGANIZATION', '2021-09-01 20:59:07', '노동당'), ('2021-09-01 20:59:07', '2021-09-01 20:59:07', '열병식', 'EVENT', '2021-09-01 20:59:07', '열병식'), ('2021-09-01 20:59:07', '2021-09-01 20:59:07', '대륙간탄도미사일', 'ARTIFACT', '2021-09-01 20:59:07', '대륙간탄도미사일'), ('2021-09-01 20:59:07', '2021-09-01 20:59:07', '북한', 'ORGANIZATION', '2021-09-01 20:59:07', '북한'), ('2021-09-01 20:59:07', '2021-09-01 20:59:07', '인민군', 'ORGANIZATION', '2021-09-01 20:59:07', '인민군'), ('2021-09-01 20:59:07', '2021-09-01 20:59:07', '핵무기', 'ARTIFACT', '2021-09-01 20:59:07', '핵무기'), ('2021-09-01 20:59:07', '2021-09-01 20:59:07', '미국', 'ORGANIZATION', '2021-09-01 20:59:07', '미국'), ('2021-09-01 20:59:07', '2021-09-01 20:59:07', '김정은', 'PERSON', '2021-09-01 20:59:07', '김정은')]\n"
     ]
    },
    {
     "name": "stderr",
     "output_type": "stream",
     "text": [
      " 60%|██████    | 12/20 [00:02<00:02,  3.20it/s]\n",
      "\n",
      "\n",
      "  0%|          | 0/21 [00:00<?, ?it/s]\u001b[A\u001b[A\u001b[A\n",
      "\n",
      "\n",
      "\n",
      "  0%|          | 0/20 [00:00<?, ?it/s]\u001b[A\u001b[A\u001b[A\u001b[A"
     ]
    },
    {
     "name": "stdout",
     "output_type": "stream",
     "text": [
      "KEYWORD UPSERT : [('2021-09-01 20:59:07', '2021-09-01 20:59:07', 'BTS정류장', 'ARTIFACT', '2021-09-01 20:59:07', 'BTS정류장'), ('2021-09-01 20:59:07', '2021-09-01 20:59:07', '최용규', 'PERSON', '2021-09-01 20:59:07', '최용규'), ('2021-09-01 20:59:07', '2021-09-01 20:59:07', '강릉커피축제', 'EVENT', '2021-09-01 20:59:07', '강릉커피축제'), ('2021-09-01 20:59:07', '2021-09-01 20:59:07', '강릉남자', 'ARTIFACT', '2021-09-01 20:59:07', '강릉남자')]\n",
      "ES INSERT : {'title': '신영균 남기고 싶은 이야기 목숨 걸고 찍었다…경주마서 떨어지고 실탄 피해가고', 'summary': '빨간 마후라 후회 없이 살았다 죽을 뻔 만주를 배경으로 한 액션 활극 ‘무숙자’ 1968 에서 주연한 신영균. 신상옥 감독은 할리우드 서부극 분위기를 재연했다. ‘무숙자’ 1968 를 찍을 때 말에서 떨어져 손가락이 골절됐는데 바로 치료하지 못했다.', 'article_url': 'https://news.naver.com/main/read.nhn?mode=LSD&mid=sec&sid1=110&oid=025&aid=0002966759', 'image_url': 'https://imgnews.pstatic.net/image/025/2020/01/10/0002966759_001_20200114183002240.jpg', 'date': datetime.datetime(2020, 1, 10, 12, 43)}\n"
     ]
    },
    {
     "name": "stderr",
     "output_type": "stream",
     "text": [
      "\n",
      "\n",
      "\n",
      "\n",
      "\n",
      "  0%|          | 0/20 [00:00<?, ?it/s]\u001b[A\u001b[A\u001b[A\u001b[A\u001b[A\n",
      "\n",
      "\n",
      "\n",
      "\n",
      "\n",
      "  0%|          | 0/20 [00:00<?, ?it/s]\u001b[A\u001b[A\u001b[A\u001b[A\u001b[A\u001b[A"
     ]
    },
    {
     "name": "stdout",
     "output_type": "stream",
     "text": [
      "ES INSERT : {'title': '오형규 칼럼 사슴을 말이라고 해서야', 'summary': '지난해 ‘2주년 경제분야 주요 성과’ 발표자료 총 39쪽 중 37쪽을 자화자찬으로 채운 정부가 아닌가. 신년사에서 나열한 경제 성과를 하나하나 뜯어보면 경제실상과 한참 동떨어져 있다. 누구나 물 먹은 솜 같은 경제 현실을 걱정하는데 이토록 태연한 정부가 또 있을까.', 'article_url': 'https://news.naver.com/main/read.nhn?mode=LSD&mid=sec&sid1=110&oid=015&aid=0004271587', 'image_url': 'https://imgnews.pstatic.net/image/015/2020/01/10/0004271587_001_20200110001405304.jpg', 'date': datetime.datetime(2020, 1, 10, 12, 14)}\n"
     ]
    },
    {
     "name": "stderr",
     "output_type": "stream",
     "text": [
      "\n",
      "\n",
      "  5%|▌         | 1/20 [00:01<00:21,  1.14s/it]\u001b[A\u001b[A\n",
      " 14%|█▍        | 3/21 [00:01<00:13,  1.35it/s]\u001b[A"
     ]
    },
    {
     "name": "stdout",
     "output_type": "stream",
     "text": [
      "ES INSERT : {'title': '현장에서정부 비판 대자보 붙이자 건조물침입죄라니…', 'summary': '천안 동남경찰서는 김 씨의 행위가 ‘건조물 침입죄’에 해당한다며 지난해 12월 16일 기소의견으로 검찰에 송치했다. 그러나 정작 단국대 측은 ‘건조물 침입’을 당한 적이 없다고 주장한다. 하지만 건물주는 가만히 있는데 경찰이 ‘건조물 침입죄’라며 김 씨를 처벌하겠다고 나선 것은 공권력의 남용으로 볼 수 있다.', 'article_url': 'https://news.naver.com/main/read.nhn?mode=LSD&mid=sec&sid1=102&oid=021&aid=0002413600', 'image_url': 'https://imgnews.pstatic.net/image/021/2020/01/10/0002413600_001_20200110124104784.jpg', 'date': datetime.datetime(2020, 1, 10, 12, 31)}\n",
      "KEYWORD UPSERT : [('2021-09-01 20:59:08', '2021-09-01 20:59:08', '신영균', 'PERSON', '2021-09-01 20:59:08', '신영균'), ('2021-09-01 20:59:08', '2021-09-01 20:59:08', '신상옥', 'PERSON', '2021-09-01 20:59:08', '신상옥'), ('2021-09-01 20:59:08', '2021-09-01 20:59:08', '무숙자', 'ARTIFACT', '2021-09-01 20:59:08', '무숙자')]\n",
      "ES INSERT : {'title': '신년특별기고 핵무기 확산시대 새 지정학 판도 한국의 갈 길은', 'summary': '그러나 2010년대로 들어서면서 유럽과 중동에서는 이란의 핵무기 개발 가능성이 커지고 동아시아에서는 북한의 핵과 미사일 등 전략무기의 실전 배치가 시도되면서 새로운 차원에서 전쟁위기가 표출되기 시작했다. 특히 이란·미국 대결에 더하여 이란·이스라엘 대결이 어떻게 진전될지 그리고 러시아가 이 기회를 어느 정도 적극적으로 세력 판도 재편에 활용할지는 지속적 관심의 대상이 될 수밖에 없다. 한편 이란 사태에 못지않게 국제정치 판도에 심대한 영향을 줄 수 있는 또 하나의 관심사는 지난해 말부터 지속해서 정책 전환을 위협적으로 선언해온 그리고 이미 핵 강국임을 자처하고 있는 북한이 지금의 전환기에 임하는 자세다. 북한은 어떤 경우에도 핵무기를 포기하지는 않을 것이라는 광범위한 관측에 한국 정부도 동의하고 있다는 것은 새로운 뉴스가 될 수는 없다.', 'article_url': 'https://news.naver.com/main/read.nhn?mode=LSD&mid=sec&sid1=110&oid=025&aid=0002966760', 'image_url': None, 'date': datetime.datetime(2020, 1, 10, 12, 45)}\n",
      "ES INSERT : {'title': '특별기고청년 그들이 미래다', 'summary': '황창희 알베르토 신부 가톨릭관동대 총장 2019년 마지막 총학생회와의 간담회는 학교 앞 작은 식당에서 이뤄졌다. 대학생들이 대부분 수도권이나 타 지역에서 전입해 오는 경우가 70% 정도 되므로 이러한 학생 전입은 그 한계가 분명히 존재한다고 말할 수 있다. 생산연령인구 확충 절대인구 감소 충격 완화 고령인구 증가 대응 복지지출 증가 관리라는 핵심 전략은 중앙정부에서뿐만 아니라 지자체에서도 이에 따른 철저한 준비가 필요할 것이라고 생각된다.', 'article_url': 'https://news.naver.com/main/read.nhn?mode=LSD&mid=sec&sid1=110&oid=087&aid=0000783997', 'image_url': 'https://imgnews.pstatic.net/image/087/2020/01/10/0000783997_001_20200110003438999.jpg', 'date': datetime.datetime(2020, 1, 10, 12, 34)}\n",
      "KEYWORD UPSERT : []\n"
     ]
    },
    {
     "name": "stderr",
     "output_type": "stream",
     "text": [
      "\n",
      "\n",
      "\n",
      "\n",
      "\n",
      "\n",
      "\n",
      " 65%|██████▌   | 13/20 [00:03<00:03,  1.89it/s]\u001b[A\u001b[A\u001b[A\u001b[A\n",
      "\n",
      "\n",
      "  5%|▍         | 1/21 [00:01<00:21,  1.09s/it]\u001b[A\u001b[A\u001b[A"
     ]
    },
    {
     "name": "stdout",
     "output_type": "stream",
     "text": [
      "ES INSERT : {'title': '사설여야 정세균 총리 후보자 인준 신속히 처리해야', 'summary': '임명동의는 후보자 적격 여부 따지는 제도 정국 주도권 둘러싼 난타전 전락돼선 안 돼 야당 당당한 표결 참여로 민심을 전할 때 여야는 정치력을 발휘해 정세균 국무총리 후보자 임명동의안을 신속히 처리해야 한다. 여야는 정 총리 후보자 인사청문회 이틀째인 지난 8일 삼권분립 훼손 논란과 각종 의혹에 대해 날 선 공방을 이어 갔다. 산적한 민생 현안 처리를 위해 국회는 즉각 정상 가동돼야 하며 정 총리 후보자 임명동의안을 걸림돌로 둬선 안 된다.', 'article_url': 'https://news.naver.com/main/read.nhn?mode=LSD&mid=sec&sid1=110&oid=087&aid=0000783995', 'image_url': None, 'date': datetime.datetime(2020, 1, 10, 12, 34)}\n",
      "ES INSERT : {'title': '사설고성군수 직위 상실 군정 공백은 없어야 한다', 'summary': '공직선거법 위반 혐의로 기소돼 2심에서 벌금 90만원을 선고받은 이재수 춘천시장과 징역 8월의 당선무효형을 선고받은 이경일 고성군수의 형이 9일 대법원 상고심에서 그대로 확정됐다. 춘천시장과 공무원들은 직위 유지에만 기뻐할 것이 아니라 이번 재판 과정을 춘천시정을 돌아보는 계기로 삼아야 한다. 주민과 지역 발전을 위해 사명의식을 갖고 창의력을 발휘하는 공무원들이야말로 지역의 소중한 자산이며 에너지다.', 'article_url': 'https://news.naver.com/main/read.nhn?mode=LSD&mid=sec&sid1=110&oid=087&aid=0000783994', 'image_url': None, 'date': datetime.datetime(2020, 1, 10, 12, 34)}\n",
      "KEYWORD UPSERT : [('2021-09-01 20:59:08', '2021-09-01 20:59:08', '단국대', 'ORGANIZATION', '2021-09-01 20:59:08', '단국대')]\n",
      "KEYWORD UPSERT : [('2021-09-01 20:59:08', '2021-09-01 20:59:08', '황창희', 'PERSON', '2021-09-01 20:59:08', '황창희'), ('2021-09-01 20:59:08', '2021-09-01 20:59:08', '알베르토', 'PERSON', '2021-09-01 20:59:08', '알베르토'), ('2021-09-01 20:59:08', '2021-09-01 20:59:08', '중앙정부', 'ORGANIZATION', '2021-09-01 20:59:08', '중앙정부'), ('2021-09-01 20:59:08', '2021-09-01 20:59:08', '가톨릭관동대', 'ORGANIZATION', '2021-09-01 20:59:08', '가톨릭관동대')]\n"
     ]
    },
    {
     "name": "stderr",
     "output_type": "stream",
     "text": [
      "\n",
      "\n",
      "\n",
      "\n",
      "  5%|▌         | 1/20 [00:01<00:22,  1.17s/it]\u001b[A\u001b[A\u001b[A\u001b[A"
     ]
    },
    {
     "name": "stdout",
     "output_type": "stream",
     "text": [
      "KEYWORD UPSERT : [('2021-09-01 20:59:08', '2021-09-01 20:59:08', '북한', 'ORGANIZATION', '2021-09-01 20:59:08', '북한'), ('2021-09-01 20:59:08', '2021-09-01 20:59:08', '핵무기', 'ARTIFACT', '2021-09-01 20:59:08', '핵무기'), ('2021-09-01 20:59:08', '2021-09-01 20:59:08', '미국', 'ORGANIZATION', '2021-09-01 20:59:08', '미국'), ('2021-09-01 20:59:08', '2021-09-01 20:59:08', '러시아', 'ORGANIZATION', '2021-09-01 20:59:08', '러시아'), ('2021-09-01 20:59:08', '2021-09-01 20:59:08', '이스라엘', 'ORGANIZATION', '2021-09-01 20:59:08', '이스라엘')]\n"
     ]
    },
    {
     "name": "stderr",
     "output_type": "stream",
     "text": [
      "\n",
      "\n",
      "\n",
      "\n",
      "\n",
      "\n",
      "  5%|▌         | 1/20 [00:01<00:22,  1.21s/it]\u001b[A\u001b[A\u001b[A\u001b[A\u001b[A\u001b[A\n",
      "\n",
      "\n",
      "\n",
      "\n",
      "  5%|▌         | 1/20 [00:01<00:24,  1.27s/it]\u001b[A\u001b[A\u001b[A\u001b[A\u001b[A"
     ]
    },
    {
     "name": "stdout",
     "output_type": "stream",
     "text": [
      "ES INSERT : {'title': '시론‘침묵하는 다수’ 나서야 폭정 막는다', 'summary': 'CEO스코어가 국내 10대 그룹의 2020년 신년사 키워드 빈도수를 조사한 결과에 따르면 ‘고객’이 56회로 가장 많았다. 대한민국 정책 결정자들이 그들이다. 특히 문재인 정부 들어 펼치는 각종 정책을 보노라면 “정책 소비자인 국민을 이렇게 무시해도 되나” 하는 생각이 절로 든다.', 'article_url': 'https://news.naver.com/main/read.nhn?mode=LSD&mid=sec&sid1=110&oid=021&aid=0002413599', 'image_url': 'https://imgnews.pstatic.net/image/021/2020/01/10/0002413599_001_20200110123109432.jpg', 'date': datetime.datetime(2020, 1, 10, 12, 31)}\n",
      "ES INSERT : {'title': '필동정담 분노의 전쟁', 'summary': '이렇게 시작된 분노의 전쟁 은 초반엔 유비 군이 기세를 높였지만 지략이 뛰어났던 오나라 육손의 지구전에 이은 화공으로 승패가 갈렸다. 미국이 가셈 솔레이마니 이란 혁명수비대 쿠드스군 사령관을 제거하며 긴장이 고조되고 있는 중동 사태는 효정전쟁의 망령을 되살린다. 하지만 영웅을 잃은 사람들의 분노는 이성을 마비시킬 수 있다.', 'article_url': 'https://news.naver.com/main/read.nhn?mode=LSD&mid=sec&sid1=110&oid=009&aid=0004497939', 'image_url': None, 'date': datetime.datetime(2020, 1, 10, 12, 5)}\n",
      "KEYWORD UPSERT : [('2021-09-01 20:59:09', '2021-09-01 20:59:09', '정세균', 'PERSON', '2021-09-01 20:59:09', '정세균'), ('2021-09-01 20:59:09', '2021-09-01 20:59:09', '인사청문회', 'EVENT', '2021-09-01 20:59:09', '인사청문회')]\n",
      "KEYWORD UPSERT : [('2021-09-01 20:59:09', '2021-09-01 20:59:09', '대법원', 'ORGANIZATION', '2021-09-01 20:59:09', '대법원'), ('2021-09-01 20:59:09', '2021-09-01 20:59:09', '이재수', 'PERSON', '2021-09-01 20:59:09', '이재수'), ('2021-09-01 20:59:09', '2021-09-01 20:59:09', '이경일', 'PERSON', '2021-09-01 20:59:09', '이경일')]\n"
     ]
    },
    {
     "name": "stderr",
     "output_type": "stream",
     "text": [
      "\n",
      "\n",
      " 10%|█         | 2/20 [00:02<00:22,  1.23s/it]\u001b[A\u001b[A"
     ]
    },
    {
     "name": "stdout",
     "output_type": "stream",
     "text": [
      "ES INSERT : {'title': '부산교육청 상반기 교육공무직원 공개채용 경쟁률 4.9대 1', 'summary': '헤럴드경제 부산 부산시교육청 교육감 김석준 은 2020년 상반기 교육공무직원 채용시험 원서를 접수한 결과 7개 직종 263명 모집에 1299명이 지원해 평균경쟁률 4.9대 1을 기록했다고 10일 밝혔다. 이는 지난해 하반기 76명 모집에 352명이 지원한 4.6대 1의 경쟁률보다 다소 높아진 것이다. 구직자들의 취업여건이 어려운 환경속에서 교육공무직이 양질의 일자리로 인식된 것으로 분석된다.', 'article_url': 'https://news.naver.com/main/read.nhn?mode=LSD&mid=sec&sid1=102&oid=016&aid=0001622983', 'image_url': None, 'date': datetime.datetime(2020, 1, 10, 12, 56)}\n",
      "ES INSERT : {'title': '발언대소금산 출렁다리 또 다른 변신을 기대한다', 'summary': '최창선 소금산 출렁다리 검표원 소금산 출렁다리가 2018년 1월11일 처음으로 생겨난 지 어언 2년이 됐다. 그동안 관광객이 578개의 계단을 오르내리는 수고와 혹여나 있을지 모를 안전사고 위험 여기에 출렁다리에 화장실이 없어 불편함을 호소했었던 관광객들의 불편사항들은 말끔히 해소될 것으로 보인다. 원주시를 비롯해 소금강 출렁다리를 관리하고 있는 담당자들은 충분한 안전조치를 위해 만전을 기하고 있다.', 'article_url': 'https://news.naver.com/main/read.nhn?mode=LSD&mid=sec&sid1=110&oid=087&aid=0000783966', 'image_url': 'https://imgnews.pstatic.net/image/087/2020/01/10/0000783966_001_20200110003412826.jpg', 'date': datetime.datetime(2020, 1, 10, 12, 34)}\n",
      "ES INSERT : {'title': '오후여담부동산 투자 공식', 'summary': '이신우 논설고문 참여정부의 유지를 계승해서인가 현 집권 세력의 부동산 정책을 들여다보면 노무현 전 대통령 때와 묘한 데자뷔를 느끼게 된다. 문재인 대통령은 지난 신년사를 통해 “부동산 투기와의 전쟁에서 결코 지지 않을 것”이라고 공개 선언했다. 경실련이 최근 내놓은 자료에 따르면 노무현 정부 5년간 땅값이 3123조 원 올랐고 문재인 정부 들어서는 2년간 2054조 원 상승했다.', 'article_url': 'https://news.naver.com/main/read.nhn?mode=LSD&mid=sec&sid1=110&oid=021&aid=0002413604', 'image_url': 'https://imgnews.pstatic.net/image/021/2020/01/10/0002413604_001_20200110123112284.jpg', 'date': datetime.datetime(2020, 1, 10, 12, 31)}\n",
      "KEYWORD UPSERT : [('2021-09-01 20:59:09', '2021-09-01 20:59:09', '문재인', 'PERSON', '2021-09-01 20:59:09', '문재인'), ('2021-09-01 20:59:09', '2021-09-01 20:59:09', 'CEO스코어', 'ORGANIZATION', '2021-09-01 20:59:09', 'CEO스코어')]\n",
      "ES INSERT : {'title': '김동호의 직격인터뷰 지금은 부동산 아니라 ‘규제 기득권층과 전쟁’ 벌일 때', 'summary': \"경기 침체는 정부 경제운영 실패 탓 자세 전환 없이는 상황 돌파 어려워 현 정책 지속 고집하면 자원만 낭비 내각 안 보이고 청와대 주도는 문제 4차 산업 위해 규제·노동 개혁 시급 국제 정세 불안할 때 동맹 더욱 필요 ━ 윤증현 전 기획재정부 장관이 제시한 경제 회생의 길 윤증현 전 기획재정부 장관은 ’올해는 문재인 정부가 경제정책 기조를 바꿔야 한국 경제가 어려운 상황을 돌파해 나갈 수 있다“고 말했다. 한국 경제가 한 치 앞을 내다보기 어려운 안개 속으로 들어가고 있다. 성장률은 1%대 나락으로 떨어질 조짐을 보이고 반도체를 빼면 수출기업의 실적도 바닥을 헤매고 있다. 2020년은 한국 경제가 침체를 딛고 회복하느냐 계속 침체의 늪에서 허우적거리냐의 갈림길에 선 시점이다. 이럴 때일수록 노련한 전문가의 조언이 필요하다. 2010년 글로벌 금융위기 때 기획재정부 장관을 맡아 경제위기 극복을 주도한 윤증현 74 윤경제연구소 소장을 만난 이유다. 그는 숫자를 줄줄 꿰면서 풍부한 사례를 곁들여 사이다 같은 분석을 쏟아냈다. 윤 전 장관이 제시한 대안은 문재인 대통령과 현 정부 정책 책임자들이 직접 들었으면 좋았을 내용이었다. Q 경제 활력이 너무 떨어졌다. A “국민소득에 영향을 주는 모든 경제활동이 반영된 종합물가지수로 꼽히는 ‘GDP 국내총생산 디플레이터’가 4분기 연속 마이너스였다. 일부 전문가들은 우리 경제가 이미 디플레이션 상황에 진입하고 있다고 해석한다. 물론 한국은행은 동의하지 않고 있다. 아직 소비자물가지수가 플러스를 유지하고 있어서다. 그러나 우리 경제가 동력을 잃고 침체 속에서 헤매고 있는 것은 분명하다. 이런 지표는 현 정부의 경제 운영 실패가 초래한 결과 아니겠나. 지금부터라도 새로운 패러다임을 구축해 나가야 한다. 위기를 과장해도 안 되지만 근거 없는 장밋빛 전망으로 국민을 현혹에 빠뜨려서도 안 된다. 경제는 미리 대응해야 하는 측면이 있기 때문이다.” Q 소득주도 성장이 3년째 강행되면서 파장이 커지고 있다. A “지금 우리 경제 상황을 어떻게 해석하고 어떻게 돌파해 나가냐의 핵심 질문이다. 자세 전환 없이는 상황 돌파가 어렵고 결국 막대한 국가 자원을 낭비할 것이란 생각이 든다. 소득주도 성장이란 게 반 反 시장·반기업 정책의 내용을 담고 있는 게 분명하다. 정말 이해하기 어려운 것은 어떻게 임금 지급자의 입장을 고려하지 않고 이런 일이 있을 수 있냐는 거다. 주 52시간제는 더 난센스다. 일하는 사람은 ‘저녁 있는 삶’이 중요한 게 아니라 ‘먹을 게 있는 저녁’이 중요하다. 근로소득이 줄어드니 결국 투잡을 뛰게 했다. 이게 말이 되나. 최저임금과 근로시간은 직업·업종·규모별로 다 달라야 한다.” 대통령 말 치열한 토론 거쳐 나와야 Q 그런 문제를 아무리 지적해도 현 정부는 꿈쩍도 하지 않는다. A “나도 그것이 의문이다. 이 정부는 피드백이 없다. 아무리 시장에서 말이 나오고 언론에서 말을 해도 마이동풍에 내로남불·아전인수다. 소위 ‘커뮤니케이션 소통 이 안 된다’. 피드백을 통해 문제가 있으면 바로 수정하거나 고쳐야 한다. 그런데 이게 전혀 작동하지 않는다. 그러다 보니 땜질 처방이 나오고 단발성 정책을 하고 있다. 정부가 할 일은 시장에서 자율적으로 기업의 창의와 도전이 빛을 보도록 자율성을 허용하고 시장 질서를 지켜주는 데 그쳐야 한다. 지금 정부가 해야 할 제일 중요한 일은 소득주도 성장 정책을 전면적으로 고치는 것이다. 그게 파장을 최소화하는 길이다.” Q 안타깝게도 문 대통령은 신년사에서 ‘마이웨이’를 다시 선언했다. “부동산과의 전쟁은 절대 지지 않겠다”고도 했다. 야당에서는 “현실 인식 능력이 고장 났다”는 비판이 나왔다. A “국정 운영에 참여했던 경험으로 보면 도저히 이해하기 어렵다. 대통령이 스피치를 할 때 참모들이 파트별로 맡아서 써 올리면 관계자들이 독회한다. 그런데 지금 그런 프로세스가 있는지 모르겠다. 나의 경험으로는 대통령의 말씀 노트를 놓고 참모들 간에 격론이 벌어지고 연필이 날아가기도 한다. 이런 과정을 거쳐 대안을 모색하는 것이 국가 원수가 국민에게 내놓을 수 있는 이야기다.” Q 그래서 ‘청와대 정부’라고 하질 않나. A “현 정부에서 정책은 주로 청와대가 정하고 일도 주도한다. 내각은 그 명을 받아서 집행하는 모습이다. 이게 말이 안 된다. 대통령 중심제에서 각 정부 부처가 왜 있나. 부처 간에도 의견이 맞지 않을 때 그것을 조정하라고 총리가 있고 부총리가 있는 거다. 거기서 ‘핫'한 논쟁과 격론을 벌여 대안 모색이 일어나는 거다.\", 'article_url': 'https://news.naver.com/main/read.nhn?mode=LSD&mid=sec&sid1=110&oid=025&aid=0002966754', 'image_url': 'https://imgnews.pstatic.net/image/025/2020/01/10/0002966754_001_20200110095502018.jpg', 'date': datetime.datetime(2020, 1, 10, 12, 22)}\n"
     ]
    },
    {
     "name": "stderr",
     "output_type": "stream",
     "text": [
      "\n",
      " 70%|███████   | 14/20 [00:04<00:04,  1.43it/s][A"
     ]
    },
    {
     "name": "stdout",
     "output_type": "stream",
     "text": [
      "KEYWORD UPSERT : [('2021-09-01 20:59:09', '2021-09-01 20:59:09', '육손', 'PERSON', '2021-09-01 20:59:09', '육손'), ('2021-09-01 20:59:09', '2021-09-01 20:59:09', '쿠드스군', 'ORGANIZATION', '2021-09-01 20:59:09', '쿠드스군'), ('2021-09-01 20:59:09', '2021-09-01 20:59:09', '혁명수비대', 'ORGANIZATION', '2021-09-01 20:59:09', '혁명수비대'), ('2021-09-01 20:59:09', '2021-09-01 20:59:09', '미국', 'ORGANIZATION', '2021-09-01 20:59:09', '미국'), ('2021-09-01 20:59:09', '2021-09-01 20:59:09', '지구전', 'EVENT', '2021-09-01 20:59:09', '지구전'), ('2021-09-01 20:59:09', '2021-09-01 20:59:09', '효정전쟁', 'EVENT', '2021-09-01 20:59:09', '효정전쟁')]\n",
      "ES INSERT : {'title': '분수대 카를로스 곤의 확률 게임', 'summary': '일반적으로 1%라면 매우 낮은 확률에 속한다. 확률 얘기를 꺼낸 건 ‘희대의 탈주극’을 벌인 카를로스 곤 전 르노·닛산 얼라이언스 회장이 8일 기자회견에서 한 말 때문이다. 민간군사기업까지 동원한 탈주극의 확률이 1%보다 높다면 여기에 ‘배팅’하는 게 놀라운 일은 아니다.', 'article_url': 'https://news.naver.com/main/read.nhn?mode=LSD&mid=sec&sid1=110&oid=025&aid=0002966750', 'image_url': None, 'date': datetime.datetime(2020, 1, 10, 12, 17)}\n",
      "ES INSERT : {'title': '글로벌 아이 별님반 치짱', 'summary': '윤설영 도쿄 특파원 어린이집 별님반 치짱의 존재를 알게 된 건 학부모 참관수업에서였다. 치짱은 어린이집에서 자연스럽게 사회의 일원으로 살아가는 방법을 배우고 있었고 아이들도 몸이 불편한 치짱이 있다는 걸 공기처럼 당연하게 여기는 듯했다. 제도 개선이 필요하겠지만 그보다 다른 사람들을 이해하고 배려하는 자세가 먼저다.', 'article_url': 'https://news.naver.com/main/read.nhn?mode=LSD&mid=sec&sid1=110&oid=025&aid=0002966749', 'image_url': None, 'date': datetime.datetime(2020, 1, 10, 12, 16)}\n",
      "KEYWORD UPSERT : [('2021-09-01 20:59:09', '2021-09-01 20:59:09', '김석준', 'PERSON', '2021-09-01 20:59:09', '김석준'), ('2021-09-01 20:59:09', '2021-09-01 20:59:09', '부산시교육청', 'ORGANIZATION', '2021-09-01 20:59:09', '부산시교육청')]\n"
     ]
    },
    {
     "name": "stderr",
     "output_type": "stream",
     "text": [
      "\n",
      "\n",
      "\n",
      "\n",
      " 10%|█         | 2/20 [00:02<00:19,  1.09s/it]\u001b[A\u001b[A\u001b[A\u001b[A\n",
      "\n",
      "\n",
      "\n",
      "\n",
      "\n",
      "\n",
      "  5%|▌         | 1/20 [00:01<00:23,  1.26s/it]\u001b[A\u001b[A\u001b[A\u001b[A\u001b[A\u001b[A\u001b[A"
     ]
    },
    {
     "name": "stdout",
     "output_type": "stream",
     "text": [
      "KEYWORD UPSERT : [('2021-09-01 20:59:09', '2021-09-01 20:59:09', '경실련', 'ORGANIZATION', '2021-09-01 20:59:09', '경실련'), ('2021-09-01 20:59:09', '2021-09-01 20:59:09', '참여정부', 'ORGANIZATION', '2021-09-01 20:59:09', '참여정부'), ('2021-09-01 20:59:09', '2021-09-01 20:59:09', '노무현', 'PERSON', '2021-09-01 20:59:09', '노무현'), ('2021-09-01 20:59:09', '2021-09-01 20:59:09', '문재인', 'PERSON', '2021-09-01 20:59:09', '문재인'), ('2021-09-01 20:59:09', '2021-09-01 20:59:09', '이신우', 'PERSON', '2021-09-01 20:59:09', '이신우')]\n",
      "KEYWORD UPSERT : [('2021-09-01 20:59:09', '2021-09-01 20:59:09', '최창선', 'PERSON', '2021-09-01 20:59:09', '최창선')]\n",
      "ES INSERT : {'title': '암호화폐 커뮤니티 코박 10일 새해 첫 토큰 판매 진행', 'summary': '암호화폐 커뮤니티 코박이 새해 첫 토큰 판매를 10일 오후 2시부터 진행한다. 해당 토큰 프로젝트는 외국인 유학생의 유학 준비단계부터 한국 정착 순간까지의 경험을 개선하고 투명하고 검증된 유학 정보 공유로 만족스러운 유학경험을 제공하기 위해 시작된 두드림체인이다. 토큰 판매는 10일 14시부터 코박 홈페이지와 애플리케이션을 통해 개시된다.', 'article_url': 'https://news.naver.com/main/read.nhn?mode=LSD&mid=sec&sid1=105&oid=014&aid=0004355766', 'image_url': 'https://imgnews.pstatic.net/image/014/2020/01/10/0004355766_001_20200110123002500.jpg', 'date': datetime.datetime(2020, 1, 10, 12, 30)}\n",
      "ES INSERT : {'title': '매경춘추 역발상 면역 항암 치료제', 'summary': '최근에는 이 면역 치료 방법이 암 치료에까지 적용되고 있다. 환자 자신의 면역 기능을 이용하여 암과 싸우게 하는 자가 저항력 나아가 치유력을 증강하고자 하는 것이 면역 항암 치료의 기본 원리다. 과거에는 이 방법에 대해 학자들 사이에서 논란이 많았지만 최근에는 면역관문억제제와 같은 표적치료제가 개발되어 첨단 암 치료 수단으로 활용되고 있다.', 'article_url': 'https://news.naver.com/main/read.nhn?mode=LSD&mid=sec&sid1=110&oid=009&aid=0004497942', 'image_url': 'https://imgnews.pstatic.net/image/009/2020/01/10/0004497942_001_20200110000601527.jpg', 'date': datetime.datetime(2020, 1, 10, 12, 6)}\n"
     ]
    },
    {
     "name": "stderr",
     "output_type": "stream",
     "text": [
      "\n",
      "\n",
      "\n",
      "\n",
      "\n",
      "\n",
      " 10%|█         | 2/20 [00:02<00:18,  1.00s/it]\u001b[A\u001b[A\u001b[A\u001b[A\u001b[A\u001b[A\n",
      "\n",
      "\n",
      "\n",
      "\n",
      " 10%|█         | 2/20 [00:02<00:19,  1.07s/it]\u001b[A\u001b[A\u001b[A\u001b[A\u001b[A"
     ]
    },
    {
     "name": "stdout",
     "output_type": "stream",
     "text": [
      "KEYWORD UPSERT : [('2021-09-01 20:59:10', '2021-09-01 20:59:10', '르노', 'ORGANIZATION', '2021-09-01 20:59:10', '르노')]\n",
      "KEYWORD UPSERT : [('2021-09-01 20:59:10', '2021-09-01 20:59:10', '윤설영', 'PERSON', '2021-09-01 20:59:10', '윤설영'), ('2021-09-01 20:59:10', '2021-09-01 20:59:10', '치짱', 'PERSON', '2021-09-01 20:59:10', '치짱')]\n"
     ]
    },
    {
     "name": "stderr",
     "output_type": "stream",
     "text": [
      "\n",
      " 24%|██▍       | 5/21 [00:03<00:13,  1.17it/s]\u001b[A\n",
      "\n",
      "\n",
      " 10%|▉         | 2/21 [00:02<00:27,  1.45s/it]\u001b[A\u001b[A\u001b[A\n",
      "\n",
      " 15%|█▌        | 3/20 [00:03<00:18,  1.11s/it]\u001b[A\u001b[A"
     ]
    },
    {
     "name": "stdout",
     "output_type": "stream",
     "text": [
      "ES INSERT : {'title': '양주시 글로벌 핵심인재 육성 ‘결실’', 'summary': '감동양주 로고. 사진제공 양주시 양주 파이낸셜뉴스 양주시가 오는 2월4일까지 1개월 간 한국외식과학고등학교 졸업예정자 3명을 대상으로 국제교류도시인 중국 둥잉시 란하이 국제호텔 Blue Horizon Hotel 에서 실무연수를 진행한다. 최상기 양주시 자치행정과장은 9일 “양주시의 우수 인재들이 국제우호도시와의 특성화교육 국제교류를 통해 전문역량을 더욱 강화해 글로벌 핵심인재로 성장할 수 있도록 적극 지원하겠다”고 말했다. 실무연수생은 란하이호텔 뷔페와 디저트바에서 정식 직무에 참여하며 직원 기숙사 생활 회의 참여 등 현지 직원과 다름없는 일과를 경험하는 등 현장실무를 경험한다.', 'article_url': 'https://news.naver.com/main/read.nhn?mode=LSD&mid=sec&sid1=102&oid=014&aid=0004355586', 'image_url': 'https://imgnews.pstatic.net/image/014/2020/01/10/0004355586_001_20200110003202821.jpg', 'date': datetime.datetime(2020, 1, 10, 12, 32)}\n",
      "ES INSERT : {'title': '기고 바이오산업의 신천지를 개척하자', 'summary': '최근에 마이크로바이옴 이라는 새로운 생명공학 분야가 바이오산업의 신천지로 급속히 부상하고 있다. 마이크로바이옴이란 단어가 좀 어렵지만 우리 몸 안팎에서 일어나고 있는 자연현상에 불과하다. 초능력 미생물이 주축 세력인 마이크로바이옴 분야야말로 한국이 최고의 경쟁력을 가지고 있다.', 'article_url': 'https://news.naver.com/main/read.nhn?mode=LSD&mid=sec&sid1=110&oid=009&aid=0004497943', 'image_url': 'https://imgnews.pstatic.net/image/009/2020/01/10/0004497943_001_20200110000701484.jpg', 'date': datetime.datetime(2020, 1, 10, 12, 7)}\n",
      "KEYWORD UPSERT : [('2021-09-01 20:59:10', '2021-09-01 20:59:10', '코박', 'ORGANIZATION', '2021-09-01 20:59:10', '코박')]\n",
      "KEYWORD UPSERT : [('2021-09-01 20:59:10', '2021-09-01 20:59:10', '기획재정부', 'ORGANIZATION', '2021-09-01 20:59:10', '기획재정부'), ('2021-09-01 20:59:10', '2021-09-01 20:59:10', '윤증현', 'PERSON', '2021-09-01 20:59:10', '윤증현'), ('2021-09-01 20:59:10', '2021-09-01 20:59:10', '청와대', 'ORGANIZATION', '2021-09-01 20:59:10', '청와대'), ('2021-09-01 20:59:10', '2021-09-01 20:59:10', '문재인', 'PERSON', '2021-09-01 20:59:10', '문재인'), ('2021-09-01 20:59:10', '2021-09-01 20:59:10', '윤경제연구소', 'ORGANIZATION', '2021-09-01 20:59:10', '윤경제연구소')]\n",
      "ES INSERT : {'title': '한은화의 생활건축 저승사자는 왜 정부세종청사에 세워졌을까', 'summary': '‘건축물에 대한 미술작품 설치 등’ 관련 조항 때문이다. 건축비와 연동시켜 짓는 비용이 많이 들수록 더 비싸거나 더 많은 작품을 설치해야 한다. 공공건축물일 경우 건물에 어울리는 작품을 고를 건축주가 없다', 'article_url': 'https://news.naver.com/main/read.nhn?mode=LSD&mid=sec&sid1=110&oid=025&aid=0002966747', 'image_url': None, 'date': datetime.datetime(2020, 1, 10, 12, 15)}\n",
      "KEYWORD UPSERT : []\n"
     ]
    },
    {
     "name": "stderr",
     "output_type": "stream",
     "text": [
      "\r",
      " 75%|███████▌  | 15/20 [00:05<00:03,  1.29it/s]"
     ]
    },
    {
     "name": "stdout",
     "output_type": "stream",
     "text": [
      "ES INSERT : {'title': '특파원 칼럼 카를로스 곤이 벗긴 日의 가면', 'summary': '외부에서 도입한 ‘선진 기술’을 남에게 보여주기 위해 외형을 극대화하는 형태로 드러낸 것은 유아적인 ‘후진국 콤플렉스’라는 지적이다. 고대 세계뿐 아니라 오늘날에도 일본인이 남의 시선을 과하게 의식한다는 생각이 드는 때가 적지 않다. 일본인이 타인의 시선을 과도하게 의식하는 것이 공격적인 배외주의 排外主義 와 결합되는 경우도 잦다. 모습 드러낸 이중성 이 같은 일본인들의 배타적 대외 콤플렉스의 실상이 명확히 드러난 사건이 카를로스 곤 전 르노·닛산 얼라이언스 회장의 ‘일본 탈출’이다.', 'article_url': 'https://news.naver.com/main/read.nhn?mode=LSD&mid=sec&sid1=110&oid=015&aid=0004271585', 'image_url': None, 'date': datetime.datetime(2020, 1, 10, 12, 13)}\n",
      "ES INSERT : {'title': '사설 시장이 외면한 관제 제로페이 언제까지 혈세 퍼부을 건가', 'summary': '서울시가 지난해 말 간편결제 서비스인 ‘제로페이’ 관련 조례 개정안 19건을 공포했다. 공공자전거 ‘따릉이’ 등 공공시설을 이용할 때 제로페이로 결제하면 최대 50% 깎아주는 것을 1년 연장한다는 내용이다. 지난 1년간 제로페이 실적은 낙제 수준이다.', 'article_url': 'https://news.naver.com/main/read.nhn?mode=LSD&mid=sec&sid1=110&oid=015&aid=0004271581', 'image_url': None, 'date': datetime.datetime(2020, 1, 10, 12, 9)}\n",
      "KEYWORD UPSERT : [('2021-09-01 20:59:10', '2021-09-01 20:59:10', '감동양주', 'ORGANIZATION', '2021-09-01 20:59:10', '감동양주'), ('2021-09-01 20:59:10', '2021-09-01 20:59:10', '한국외식과학고등학교', 'ORGANIZATION', '2021-09-01 20:59:10', '한국외식과학고등학교'), ('2021-09-01 20:59:10', '2021-09-01 20:59:10', '양주시', 'ORGANIZATION', '2021-09-01 20:59:10', '양주시'), ('2021-09-01 20:59:10', '2021-09-01 20:59:10', '최상기', 'PERSON', '2021-09-01 20:59:10', '최상기'), ('2021-09-01 20:59:10', '2021-09-01 20:59:10', '란하이호텔', 'ORGANIZATION', '2021-09-01 20:59:10', '란하이호텔')]\n"
     ]
    },
    {
     "name": "stderr",
     "output_type": "stream",
     "text": [
      "\n",
      "\n",
      "\n",
      "\n",
      " 15%|█▌        | 3/20 [00:03<00:18,  1.06s/it]\u001b[A\u001b[A\u001b[A\u001b[A\n",
      "\n",
      "\n",
      "\n",
      "\n",
      "\n",
      "\n",
      " 10%|█         | 2/20 [00:02<00:20,  1.16s/it]\u001b[A\u001b[A\u001b[A\u001b[A\u001b[A\u001b[A\u001b[A"
     ]
    },
    {
     "name": "stdout",
     "output_type": "stream",
     "text": [
      "KEYWORD UPSERT : [('2021-09-01 20:59:10', '2021-09-01 20:59:10', '마이크로바이옴', 'MATERIAL', '2021-09-01 20:59:10', '마이크로바이옴'), ('2021-09-01 20:59:10', '2021-09-01 20:59:10', '생명공학', 'STUDY_FIELD', '2021-09-01 20:59:10', '생명공학'), ('2021-09-01 20:59:10', '2021-09-01 20:59:10', '바이오', 'STUDY_FIELD', '2021-09-01 20:59:10', '바이오')]\n",
      "KEYWORD UPSERT : []\n",
      "ES INSERT : {'title': '뉴스와 시각추미애의 새로운 ‘주홍글씨’', 'summary': '방승배 사회부 차장 추미애 법무부 장관이 지난달 30일 국회 인사청문회에서 양쪽 허벅지를 손수건으로 묶은 채 앉아 있는 모습이 화제를 모았다. 추 장관은 지난 2004년 노무현 전 대통령 탄핵에 찬성했다가 노 전 대통령 지지자들로부터 거센 비판이 쏟아지자 사죄 차원에서 2박 3일 동안 15㎞에 걸쳐 삼보일배를 했었다. 추 장관은 “내 정치 인생 중 가장 큰 실수”라고 인정했다.', 'article_url': 'https://news.naver.com/main/read.nhn?mode=LSD&mid=sec&sid1=110&oid=021&aid=0002413598', 'image_url': 'https://imgnews.pstatic.net/image/021/2020/01/10/0002413598_001_20200110123107932.jpg', 'date': datetime.datetime(2020, 1, 10, 12, 31)}\n",
      "ES INSERT : {'title': '좀 쉬자 프랑스 연금 충돌… 총파업 36일째', 'summary': '머니투데이 연금개혁 반발 노조 이젠 쉴 권리를 … 정부 불어나는 적자 감당 못해 9일 현지시간 프랑스에서 퇴직연금 체제 개편에 반대하는 제4차 총파업 대회가 열렸다. 이날로 파업은 36일째 역대 최장기간을 기록했다 더 오래 일하고 연금은 더 적게 받게 만드는 정부의 연금개혁안을 폐기하든지 수정하라는 것.', 'article_url': 'https://news.naver.com/main/read.nhn?mode=LSD&mid=sec&sid1=104&oid=008&aid=0004338235', 'image_url': 'https://imgnews.pstatic.net/image/008/2020/01/10/0004338235_001_20200110121604888.jpg', 'date': datetime.datetime(2020, 1, 10, 12, 15)}\n",
      "ES INSERT : {'title': '맛집앱 1위 시럽테이블 가상화폐 결제플랫폼으로 탈바꿈 코인터뷰', 'summary': '몬스터큐브는 시럽테이블 앱에 암호화폐 결제를 접목해 소다플레이 라는 디앱 DApp·탈중앙화 앱 으로 탈바꿈하는 작업을 진행 중이다. 실생활에서 암호화폐가 사용되도록 만들어야 할 필요가 있다고 느껴 소다플레이를 만들게 됐다. 소다플레이는 맛집에만 초점을 뒀던 시럽테이블과 달리 일상생활 결제 서비스 전반에 쓰인다.', 'article_url': 'https://news.naver.com/main/read.nhn?mode=LSD&mid=sec&sid1=105&oid=015&aid=0004271836', 'image_url': 'https://imgnews.pstatic.net/image/015/2020/01/10/0004271836_001_20200110124601578.jpg', 'date': datetime.datetime(2020, 1, 10, 12, 39)}\n"
     ]
    },
    {
     "name": "stderr",
     "output_type": "stream",
     "text": [
      "\n",
      "\n",
      "\n",
      "\n",
      "\n",
      "\n",
      " 15%|█▌        | 3/20 [00:03<00:17,  1.06s/it]\u001b[A\u001b[A\u001b[A\u001b[A\u001b[A\u001b[A\n",
      "\n",
      "\n",
      "\n",
      "\n",
      " 15%|█▌        | 3/20 [00:03<00:18,  1.09s/it]\u001b[A\u001b[A\u001b[A\u001b[A\u001b[A"
     ]
    },
    {
     "name": "stdout",
     "output_type": "stream",
     "text": [
      "KEYWORD UPSERT : [('2021-09-01 20:59:11', '2021-09-01 20:59:11', '르노', 'ORGANIZATION', '2021-09-01 20:59:11', '르노'), ('2021-09-01 20:59:11', '2021-09-01 20:59:11', '배외주의', 'THEORY', '2021-09-01 20:59:11', '배외주의')]\n",
      "KEYWORD UPSERT : [('2021-09-01 20:59:11', '2021-09-01 20:59:11', '공공자전거', 'ARTIFACT', '2021-09-01 20:59:11', '공공자전거'), ('2021-09-01 20:59:11', '2021-09-01 20:59:11', '따릉이', 'ARTIFACT', '2021-09-01 20:59:11', '따릉이'), ('2021-09-01 20:59:11', '2021-09-01 20:59:11', '서울시', 'ORGANIZATION', '2021-09-01 20:59:11', '서울시')]\n"
     ]
    },
    {
     "name": "stderr",
     "output_type": "stream",
     "text": [
      "\n",
      " 29%|██▊       | 6/21 [00:05<00:14,  1.01it/s]\u001b[A\n",
      "\n",
      "\n",
      " 14%|█▍        | 3/21 [00:03<00:23,  1.32s/it]\u001b[A\u001b[A\u001b[A\n",
      "\n",
      " 20%|██        | 4/20 [00:04<00:18,  1.14s/it]\u001b[A\u001b[A"
     ]
    },
    {
     "name": "stdout",
     "output_type": "stream",
     "text": [
      "ES INSERT : {'title': 'CES2020 5G로 달아오른 AR·VR 대전…아직은 ‘글쎄’', 'summary': '디지털데일리 권하영기자 5G 상용화로 전기를 맞은 증강·가상현실 AR·VR 에 대한 기대감이 높아지고 있다. 9일 현지시간 미국 라스베이거스에서 열리고 있는 세계 최대 정보기술 IT ·가전 전시회 ‘CES2020’에서는 각양각색의 실감형 서비스가 모였다. 하지만 현장에서 확인한 일부 AR·VR 전용 서비스들은 빈약한 콘텐츠와 설익은 기술력으로 실망감을 불러일으켰다.', 'article_url': 'https://news.naver.com/main/read.nhn?mode=LSD&mid=sec&sid1=105&oid=138&aid=0002081505', 'image_url': 'https://imgnews.pstatic.net/image/138/2020/01/10/0002081505_001_20200123095905976.jpg', 'date': datetime.datetime(2020, 1, 10, 12, 55)}\n",
      "ES INSERT : {'title': '시론 부동산 정책 실패가 양극화 키운다', 'summary': '수요와 공급 시장원리를 적대시하는 부동산 정책은 규제효과보다 큰 부작용 초래 선호지역 공급 늘리고 다른 지역도 선호되도록 주거여건 개선하는 게 정석 성태윤 연세대 경제학부 교수 부동산이 주요 화제다. 서울과 지방의 이런 가격 양극화는 2017년 이후 일련의 부동산 정책이 다주택자에게 불이익을 주는 데 초점을 둔 것과 관련이 크다. 이렇게 되면 사람들이 핵심 선호지역에 자산을 보유하도록 포트폴리오 재편을 유도하기 때문이다.', 'article_url': 'https://news.naver.com/main/read.nhn?mode=LSD&mid=sec&sid1=110&oid=015&aid=0004271580', 'image_url': None, 'date': datetime.datetime(2020, 1, 10, 12, 9)}\n",
      "ES INSERT : {'title': '마을자치는 ‘산골마을 기적’도 가능하다', 'summary': '스님 이장님이 마을사업추진을 시작하게 된 것이다. 오대산 중산간지역마을로 소금강 동해로 가는 길목이라 교통량이 많았던 시절에는 자릿값을 하던 마을이었다. 당시 다른 마을들은 새농어촌건설사업을 도전해 마을변화를 도모하고 있었지만 이 마을은 마을인구수가 적고 기반이 취약해 도전 조건 자체가 어려운 상황이었다.', 'article_url': 'https://news.naver.com/main/read.nhn?mode=LSD&mid=sec&sid1=102&oid=002&aid=0002117915', 'image_url': 'https://imgnews.pstatic.net/image/002/2020/01/10/0002117915_001_20200110005800896.jpg', 'date': datetime.datetime(2020, 1, 10, 12, 58)}\n",
      "KEYWORD UPSERT : []\n",
      "KEYWORD UPSERT : [('2021-09-01 20:59:11', '2021-09-01 20:59:11', '추미애', 'PERSON', '2021-09-01 20:59:11', '추미애'), ('2021-09-01 20:59:11', '2021-09-01 20:59:11', '법무부', 'ORGANIZATION', '2021-09-01 20:59:11', '법무부'), ('2021-09-01 20:59:11', '2021-09-01 20:59:11', '노무현', 'PERSON', '2021-09-01 20:59:11', '노무현'), ('2021-09-01 20:59:11', '2021-09-01 20:59:11', '방승배', 'PERSON', '2021-09-01 20:59:11', '방승배'), ('2021-09-01 20:59:11', '2021-09-01 20:59:11', '인사청문회', 'EVENT', '2021-09-01 20:59:11', '인사청문회')]\n",
      "KEYWORD UPSERT : [('2021-09-01 20:59:11', '2021-09-01 20:59:11', '몬스터큐브', 'ORGANIZATION', '2021-09-01 20:59:11', '몬스터큐브')]\n"
     ]
    },
    {
     "name": "stderr",
     "output_type": "stream",
     "text": [
      "\n",
      "\n",
      "\n",
      "\n",
      " 80%|████████  | 16/20 [00:06<00:03,  1.11it/s][A\u001b[A\u001b[A\u001b[A\n",
      "\n",
      "\n",
      "\n",
      "\n",
      "\n",
      "\n",
      " 15%|█▌        | 3/20 [00:03<00:18,  1.08s/it]\u001b[A\u001b[A\u001b[A\u001b[A\u001b[A\u001b[A\u001b[A"
     ]
    },
    {
     "name": "stdout",
     "output_type": "stream",
     "text": [
      "ES INSERT : {'title': '미세한 부분이 성패를 가른다', 'summary': '이 말은 시진핑이 중앙판공청 각 부서 간부 구성원과 노조 간부들의 좌담회에서 연설 할 때 한비자·유로喩老 편에서 따왔다. 조금도 빈틈이 없이 엄밀하고 섬세하며 신중하게 하는 정신이 무엇보다 중요하다. 서양속담에 로마는 하루아침에 이루어지지 않았다 는 말이 있다.', 'article_url': 'https://news.naver.com/main/read.nhn?mode=LSD&mid=sec&sid1=110&oid=006&aid=0000100589', 'image_url': 'https://imgnews.pstatic.net/image/006/2020/01/10/0000100589_001_20200110121601280.jpg', 'date': datetime.datetime(2020, 1, 10, 12, 16)}\n",
      "ES INSERT : {'title': '미래생각기대와 다른 방향으로 가는 미래', 'summary': '서울 뉴시스 박성원 국회미래연구원 연구위원 서울 뉴시스 20년 전부터 저출산을 사회적 문제로 간주하고 다양한 대책을 실행했지만 저출산의 흐름은 막지 못하고 1인가구는 증가하고 있다. 통계청이 펴낸 인구주택총조사 2018 를 보면 2000년에 1인가구가 222만 가구였으나 2017년 562만 가구로 2.5배 이상 증가했다. 이런 경향은 지속되어 2045년 1인가구가 810만이 넘을 것으로 예측된다 KB금융 2019 . 환경보존의 중요성은 사회에서 늘 강조하고 있지만 도시화로 자연환경은 파괴되고 오염은 심각해졌다.', 'article_url': 'https://news.naver.com/main/read.nhn?mode=LSD&mid=sec&sid1=110&oid=003&aid=0009648525', 'image_url': 'https://imgnews.pstatic.net/image/003/2020/01/10/NISI20190919_0000398273_web_20190919225923_20200110130103531.jpg', 'date': datetime.datetime(2020, 1, 10, 13, 0)}\n",
      "KEYWORD UPSERT : [('2021-09-01 20:59:11', '2021-09-01 20:59:11', '정보기술', 'STUDY_FIELD', '2021-09-01 20:59:11', '정보기술'), ('2021-09-01 20:59:11', '2021-09-01 20:59:11', 'CES2020', 'EVENT', '2021-09-01 20:59:11', 'CES2020'), ('2021-09-01 20:59:11', '2021-09-01 20:59:11', '권하영', 'PERSON', '2021-09-01 20:59:11', '권하영')]\n",
      "KEYWORD UPSERT : []\n",
      "KEYWORD UPSERT : [('2021-09-01 20:59:11', '2021-09-01 20:59:11', '연세대', 'ORGANIZATION', '2021-09-01 20:59:11', '연세대'), ('2021-09-01 20:59:11', '2021-09-01 20:59:11', '성태윤', 'PERSON', '2021-09-01 20:59:11', '성태윤')]\n",
      "ES INSERT : {'title': '이라크 미군기지 인근 또 로켓 공격…인명 피해 없어', 'summary': '이번 공격으로 인한 인명 피해는 없었습니다. 다만 지난 8일 이뤄진 알 아사드 미군기지 미사일 공격 이후 이란이 중동 지역 미군 철수를 계속 주장함에 따라 이번 공격도 연장선에 있는 것으로 추정됩니다. 이와 관련해 이란 혁명수비대는 알 아사드 공격이 시작일 뿐이라며 중동 지역의 저항 조직들이 다음 행동을 취할 것이라고 경고했습니다.', 'article_url': 'https://news.naver.com/main/read.nhn?mode=LSD&mid=sec&sid1=104&oid=056&aid=0010781272', 'image_url': 'https://imgnews.pstatic.net/image/056/2020/01/10/0010781272_001_20200110121503545.jpg', 'date': datetime.datetime(2020, 1, 10, 12, 15)}\n"
     ]
    },
    {
     "name": "stderr",
     "output_type": "stream",
     "text": [
      "\n",
      "\n",
      "\n",
      "\n",
      "\n",
      "\n",
      " 20%|██        | 4/20 [00:04<00:16,  1.02s/it]\u001b[A\u001b[A\u001b[A\u001b[A\u001b[A\u001b[A"
     ]
    },
    {
     "name": "stdout",
     "output_type": "stream",
     "text": [
      "ES INSERT : {'title': '스마트폰이 뇌를 따라갈 순 없지', 'summary': '〈나의 뇌는 나보다 잘났다〉 프란카 파리아넨 지음 유영미 옮김 을유문화사 펴냄 젊은 뇌과학자인 저자는 우리 뇌가 스마트폰 같다고 쓴다. 이 책은 일종의 ‘사용설명서’에 가깝다. 하지만 설명서가 으레 그렇듯 ‘각 잡고’ 찬찬히 정독하면 복잡한 뇌를 이해하는 데 도움을 받을 수 있다.', 'article_url': 'https://news.naver.com/main/read.nhn?mode=LSD&mid=sec&sid1=103&oid=308&aid=0000026273', 'image_url': 'https://imgnews.pstatic.net/image/308/2020/01/10/0000026273_001_20200110125909395.jpg', 'date': datetime.datetime(2020, 1, 10, 12, 58)}\n",
      "ES INSERT : {'title': '기자24시 열흘 앞 다가온 경남 운명의 날', 'summary': '지난 8일 김경수 경남지사는 새해 기자간담회를 하면서 이례적으로 프레젠테이션에 나섰다. 경남의 어려운 상황을 1시간 넘게 할애해 자세히 설명하고 경남의 미래 비전까지 제시했다. 이날 김 지사 얘기의 요지는 수도권 블랙홀 현상이 심해지면서 지방이 소멸하고 있다는 것이었다.', 'article_url': 'https://news.naver.com/main/read.nhn?mode=LSD&mid=sec&sid1=110&oid=009&aid=0004497940', 'image_url': 'https://imgnews.pstatic.net/image/009/2020/01/10/0004497940_001_20200110000503366.jpg', 'date': datetime.datetime(2020, 1, 10, 12, 5)}\n",
      "KEYWORD UPSERT : [('2021-09-01 20:59:12', '2021-09-01 20:59:12', '서양속담', 'STUDY_FIELD', '2021-09-01 20:59:12', '서양속담'), ('2021-09-01 20:59:12', '2021-09-01 20:59:12', '중앙판공청', 'ORGANIZATION', '2021-09-01 20:59:12', '중앙판공청'), ('2021-09-01 20:59:12', '2021-09-01 20:59:12', '시진핑', 'PERSON', '2021-09-01 20:59:12', '시진핑'), ('2021-09-01 20:59:12', '2021-09-01 20:59:12', '한비자', 'ORGANIZATION', '2021-09-01 20:59:12', '한비자')]\n",
      "ES INSERT : {'title': '산불로 삶의 터전을 잃은 호주 주민들', 'summary': '앵커 호주에서 산불이 계속되는 가운데 일부 진화된 곳에는 주민들의 귀향이 허용됐습니다. 산불은 급속도로 퍼지며 모든 것을 집어 삼겼는데요. 소방대원들은 주민들의 집을 제대로 지키지 못했다며 미안해 합니다. 주민 수천 명이 사라져 버린 집으로 돌아 왔고 앞길이 막막한 상탭니다.', 'article_url': 'https://news.naver.com/main/read.nhn?mode=LSD&mid=sec&sid1=104&oid=056&aid=0010781294', 'image_url': 'https://imgnews.pstatic.net/image/056/2020/01/10/0010781294_001_20200110124803599.jpg', 'date': datetime.datetime(2020, 1, 10, 12, 48)}\n"
     ]
    },
    {
     "name": "stderr",
     "output_type": "stream",
     "text": [
      "\n",
      "\n",
      "\n",
      "\n",
      "\n",
      " 20%|██        | 4/20 [00:04<00:16,  1.04s/it]\u001b[A\u001b[A\u001b[A\u001b[A\u001b[A\n",
      "\n",
      " 25%|██▌       | 5/20 [00:05<00:14,  1.02it/s]\u001b[A\u001b[A"
     ]
    },
    {
     "name": "stdout",
     "output_type": "stream",
     "text": [
      "KEYWORD UPSERT : [('2021-09-01 20:59:12', '2021-09-01 20:59:12', '통계청', 'ORGANIZATION', '2021-09-01 20:59:12', '통계청'), ('2021-09-01 20:59:12', '2021-09-01 20:59:12', '인구주택총조사', 'ARTIFACT', '2021-09-01 20:59:12', '인구주택총조사'), ('2021-09-01 20:59:12', '2021-09-01 20:59:12', 'KB금융', 'ORGANIZATION', '2021-09-01 20:59:12', 'KB금융'), ('2021-09-01 20:59:12', '2021-09-01 20:59:12', '국회미래연구원', 'ORGANIZATION', '2021-09-01 20:59:12', '국회미래연구원'), ('2021-09-01 20:59:12', '2021-09-01 20:59:12', '박성원', 'PERSON', '2021-09-01 20:59:12', '박성원')]\n",
      "ES INSERT : {'title': '위메이드 전일대비 10.06% 상승... 외국인 기관 동시 순매수 중', 'summary': '한국경제TV 라이온봇 기자 위메이드 온라인·모바일게임 개발 서비스업체인 위메이드 112040 가 오후에 들어서 강세를 보이고 있다. 0.64% 상승출발한 주가는 꾸준히 올라 오후 12시 54분 현재 전일대비 10.06% 수준인 3만4450원을 기록하고 있다. 거래량은 전거래일 대비 114.61% 수준인 37만4008주를 넘어서고 있다.', 'article_url': 'https://news.naver.com/main/read.nhn?mode=LSD&mid=sec&sid1=101&oid=215&aid=0000838194', 'image_url': 'https://imgnews.pstatic.net/image/215/2020/01/10/A202001100286_1_20200110125506472.jpg', 'date': datetime.datetime(2020, 1, 10, 12, 54)}\n",
      "ES INSERT : {'title': '이슈 모비 데빌북 CBT 참여권 및 문화상품권 지급 이벤트 진행', 'summary': '편집자주 헝그리앱이 서비스하는 사전예약 어플리케이션 ‘모비’가 출시를 앞둔 모바일게임 기대작 ‘데빌북’의 CBT Closed Beta Test 비공개 테스트 참여권을 추가하고 문화상품권을 지급하는 기대평 이벤트를 진행한다. 아울러 출시 전까지 어플 내 ‘기대평’ 탭에 게임에 대한 기대평을 작성하면 정식 출시 후 추첨을 통해 5명에게 문화상품권 5 000원권이 지급된다. CBT는 오는 17일부터 20일까지 4일간 안드로이드 기기 이용자를 대상으로 진행된다.', 'article_url': 'https://news.naver.com/main/read.nhn?mode=LSD&mid=sec&sid1=105&oid=347&aid=0000139155', 'image_url': 'https://imgnews.pstatic.net/image/347/2020/01/10/0000139155_001_20200110123306452.jpg', 'date': datetime.datetime(2020, 1, 10, 12, 33)}\n",
      "KEYWORD UPSERT : [('2021-09-01 20:59:12', '2021-09-01 20:59:12', '미군기지', 'ORGANIZATION', '2021-09-01 20:59:12', '미군기지'), ('2021-09-01 20:59:12', '2021-09-01 20:59:12', '혁명수비대', 'ORGANIZATION', '2021-09-01 20:59:12', '혁명수비대')]\n"
     ]
    },
    {
     "name": "stderr",
     "output_type": "stream",
     "text": [
      "\n",
      "\n",
      "\n",
      " 19%|█▉        | 4/21 [00:05<00:20,  1.23s/it]\u001b[A\u001b[A\u001b[A\n",
      " 33%|███▎      | 7/21 [00:06<00:14,  1.03s/it]\u001b[A"
     ]
    },
    {
     "name": "stdout",
     "output_type": "stream",
     "text": [
      "KEYWORD UPSERT : [('2021-09-01 20:59:12', '2021-09-01 20:59:12', '김경수', 'PERSON', '2021-09-01 20:59:12', '김경수')]\n",
      "KEYWORD UPSERT : [('2021-09-01 20:59:12', '2021-09-01 20:59:12', '을유문화사', 'ORGANIZATION', '2021-09-01 20:59:12', '을유문화사'), ('2021-09-01 20:59:12', '2021-09-01 20:59:12', '유영미', 'PERSON', '2021-09-01 20:59:12', '유영미')]\n",
      "ES INSERT : {'title': '시리아 피스타치오 껍질 태워 난방', 'summary': '겨울을 맞아 시리아에서는 견과류 껍질을 연료로 활용하는 이색 난로가 인기를 끌고 있습니다. 난방에 필요한 다른 연료가 없기 때문에 사람들이 피스타치오 난로를 선호하고 잘 팔립니다. 난민캠프에서 추운 겨울을 보내야 하는 난민들에게도 피스타치오로 불을 피우는 난로가 기부되고 있는데요.', 'article_url': 'https://news.naver.com/main/read.nhn?mode=LSD&mid=sec&sid1=104&oid=056&aid=0010781297', 'image_url': 'https://imgnews.pstatic.net/image/056/2020/01/10/0010781297_001_20200110125403567.jpg', 'date': datetime.datetime(2020, 1, 10, 12, 54)}\n"
     ]
    },
    {
     "name": "stderr",
     "output_type": "stream",
     "text": [
      "\n",
      "\n",
      "\n",
      "\n",
      " 85%|████████▌ | 17/20 [00:07<00:02,  1.06it/s][A\u001b[A\u001b[A\u001b[A\n",
      "\n",
      "\n",
      "\n",
      "\n",
      "\n",
      "\n",
      " 20%|██        | 4/20 [00:04<00:17,  1.09s/it]\u001b[A\u001b[A\u001b[A\u001b[A\u001b[A\u001b[A\u001b[A"
     ]
    },
    {
     "name": "stdout",
     "output_type": "stream",
     "text": [
      "ES INSERT : {'title': '글로벌 뉴스룸이란 미사일 두 발에 여객기 격추 추정', 'summary': '우크라이나 여객기 추락 사고와 관련해 새로운 영상이 공개됐습니다. 외신들은 우크라이나 여객기가 이란의 지대공 미사일 두 발에 의해 격추된 것이라고 보도했습니다. 해리 왕자 부부는 성명을 통해 시니어 왕실 가족의 일원에서 물러나 재정적으로 독립하려 한다 며 영국과 북미에서 살 것이라고 밝혔습니다.', 'article_url': 'https://news.naver.com/main/read.nhn?mode=LSD&mid=sec&sid1=104&oid=449&aid=0000184495', 'image_url': 'https://imgnews.pstatic.net/image/449/2020/01/10/0000184495_001_20200110121447739.jpg', 'date': datetime.datetime(2020, 1, 10, 12, 8)}\n",
      "KEYWORD UPSERT : []\n",
      "KEYWORD UPSERT : [('2021-09-01 20:59:13', '2021-09-01 20:59:13', '라이온봇', 'PERSON', '2021-09-01 20:59:13', '라이온봇'), ('2021-09-01 20:59:13', '2021-09-01 20:59:13', '위메이드', 'ORGANIZATION', '2021-09-01 20:59:13', '위메이드')]\n",
      "KEYWORD UPSERT : [('2021-09-01 20:59:13', '2021-09-01 20:59:13', '헝그리앱', 'ORGANIZATION', '2021-09-01 20:59:13', '헝그리앱'), ('2021-09-01 20:59:13', '2021-09-01 20:59:13', '데빌북', 'ARTIFACT', '2021-09-01 20:59:13', '데빌북')]\n"
     ]
    },
    {
     "name": "stderr",
     "output_type": "stream",
     "text": [
      "\n",
      "\n",
      "\n",
      "\n",
      "\n",
      " 25%|██▌       | 5/20 [00:05<00:15,  1.01s/it]\u001b[A\u001b[A\u001b[A\u001b[A\u001b[A\n",
      "\n",
      "\n",
      "\n",
      "\n",
      "\n",
      " 25%|██▌       | 5/20 [00:05<00:16,  1.09s/it]\u001b[A\u001b[A\u001b[A\u001b[A\u001b[A\u001b[A"
     ]
    },
    {
     "name": "stdout",
     "output_type": "stream",
     "text": [
      "ES INSERT : {'title': 'CES 2020“라스베이거스 놀러왔어요” CES 사로잡은 ‘라이언’', 'summary': '카카오IX가 세계 최대 전자쇼 CES 2020 서 스마트홈 기기 카카오프렌즈 홈킷 을 선보였다. 카카오IX 제공 9일 현지시간 카카오IX는 국내 캐릭터 브랜드 최초로 CES에 참가해 성공적인 데뷔전을 치르고 있다. 카카오IX가 선보인 카카오프렌즈 홈킷은 사물인터넷 IoT 을 적용한 스마트홈 기기다.', 'article_url': 'https://news.naver.com/main/read.nhn?mode=LSD&mid=sec&sid1=105&oid=015&aid=0004271830', 'image_url': 'https://imgnews.pstatic.net/image/015/2020/01/10/0004271830_001_20200110135201538.jpg', 'date': datetime.datetime(2020, 1, 10, 12, 17)}\n",
      "KEYWORD UPSERT : [('2021-09-01 20:59:13', '2021-09-01 20:59:13', '피스타', 'MATERIAL', '2021-09-01 20:59:13', '피스타')]\n",
      "ES INSERT : {'title': '피플 LIVE동화작가 된 ‘둘리’ 아빠…만화가 김수정', 'summary': '오늘 이 시간 둘리의 아버지 만화가 김수정 씨 모셨습니다. 우리 만화가 김수정 선생님이 최근에 만화가 아닌 동화를 썼다고 해요. 그래서 우리가 사실은 이제 아버지이지만 딸이라든가 우리 애들에 대해서 사실 속속들이 잘 모르는 부분들이 있거든요.', 'article_url': 'https://news.naver.com/main/read.nhn?mode=LSD&mid=sec&sid1=103&oid=449&aid=0000184500', 'image_url': 'https://imgnews.pstatic.net/image/449/2020/01/10/0000184500_001_20200110124109963.jpg', 'date': datetime.datetime(2020, 1, 10, 12, 14)}\n",
      "ES INSERT : {'title': '배에서 보낸 5박6일…낮엔 기항지 투어 밤엔 선상파티', 'summary': '무게 11만t 폭 290m의 이탈리아 선박 코스타 세레나호는 웅장했다. 승객은 3000명이 타는데 승무원은 무려 1000명에 달한다. 3000여 명이 탈 수 있어 ‘바다 위 호텔’로 불리는 코스타 세레나호. 사진 롯데관광 이탈리아 마술사의 매직쇼 한국 오페라 가수 비보이팀과 복면가왕 스타의 공연이 잇달았다. 가수 조갑경과 홍서범 커플이 무대에 오른 날 반응은 절정에 달했다.', 'article_url': 'https://news.naver.com/main/read.nhn?mode=LSD&mid=sec&sid1=103&oid=025&aid=0002966714', 'image_url': 'https://imgnews.pstatic.net/image/025/2020/01/10/0002966714_001_20200110191002109.jpg', 'date': datetime.datetime(2020, 1, 10, 12, 5)}\n",
      "KEYWORD UPSERT : [('2021-09-01 20:59:13', '2021-09-01 20:59:13', '여객기', 'ARTIFACT', '2021-09-01 20:59:13', '여객기'), ('2021-09-01 20:59:13', '2021-09-01 20:59:13', '해리', 'PERSON', '2021-09-01 20:59:13', '해리')]\n"
     ]
    },
    {
     "name": "stderr",
     "output_type": "stream",
     "text": [
      "\n",
      "\n",
      "\n",
      " 24%|██▍       | 5/21 [00:05<00:17,  1.12s/it]\u001b[A\u001b[A\u001b[A"
     ]
    },
    {
     "name": "stdout",
     "output_type": "stream",
     "text": [
      "ES INSERT : {'title': '중국 스무살 여군 신병들의 고공 낙하 훈련', 'summary': '앵커 새해를 맞아 중국 공군 소속 여군 신병들의 첫 고공 낙하 훈련이 실시됐습니다. 철저한 사전 준비가 필수입니다. 마지막 병사까지 무사히 착지하면서 여군 신병들의 새해 첫 고공 낙하 훈련은 성공적으로 마무리됐습니다.', 'article_url': 'https://news.naver.com/main/read.nhn?mode=LSD&mid=sec&sid1=104&oid=056&aid=0010781296', 'image_url': 'https://imgnews.pstatic.net/image/056/2020/01/10/0010781296_001_20200110125103483.jpg', 'date': datetime.datetime(2020, 1, 10, 12, 51)}\n",
      "ES INSERT : {'title': 'PRNewswire 아시아 최고의 바 탑 50 시상식 올 5월 14일 싱가포르에서 개최', 'summary': '싱가포르 2020년 1월 10일 PRNewswire 연합뉴스 5월 14일 Perrier의 후원으로 3년 연속 아시아 최고의 바 탑 50 Asia s 50 Best Bars 시상식이 싱가포르에서 개최된다. 이날 행사에는 아시아 전역에서 칵테일 권위자와 안목 있는 음주가들이 참석할 전망이다. 2021년 세계 최고의 바 50 World s 50 Best Bars 시상식이 싱가포르에서 개최될 예정이기 때문이다.', 'article_url': 'https://news.naver.com/main/read.nhn?mode=LSD&mid=sec&sid1=104&oid=001&aid=0011327511', 'image_url': None, 'date': datetime.datetime(2020, 1, 10, 12, 8)}\n",
      "ES INSERT : {'title': '글로벌 3大 악재에 산업계 살얼음판…‘수출 플러스’ 도 암울', 'summary': '韓경제 새해부터 외부 리스크 油價 상승 경상수지 적자 예고 통상 악화 제어 불가능한데다 내수 부진 겹쳐 한국경제 캄캄 “취약한 수출구조 개선 필요” 10년 만의 두 자릿수 하락이란 수출 부진과 내수 침체에 시달리고 있는 한국 경제가 올해 반등을 모색해야 할 시점이지만 연초부터 이를 위협할 복병 성격의 외부 리스크는 더 점증하는 형국이다. 이런 상황에서 국가 간 통상마찰 심화 주요국 통화정책 기조 변화 영향 미·중 무역분쟁 중국 경기둔화 언제 폭발할지 모르는 ‘뇌관’으로 떠오른 중동정세의 불안감까지 가세했다. 미·이란 갈등은 확전을 자제키로 했지만 최고 수위의 경제제재를 미국이 지속하기로 한 터라 장기적인 리스크를 키우고 있다.', 'article_url': 'https://news.naver.com/main/read.nhn?mode=LSD&mid=sec&sid1=101&oid=021&aid=0002413569', 'image_url': 'https://imgnews.pstatic.net/image/021/2020/01/10/0002413569_001_20200110121106893.jpg', 'date': datetime.datetime(2020, 1, 10, 12, 11)}\n",
      "KEYWORD UPSERT : [('2021-09-01 20:59:13', '2021-09-01 20:59:13', '사물인터넷', 'STUDY_FIELD', '2021-09-01 20:59:13', '사물인터넷'), ('2021-09-01 20:59:13', '2021-09-01 20:59:13', '카카오IX', 'ARTIFACT', '2021-09-01 20:59:13', '카카오IX')]\n"
     ]
    },
    {
     "name": "stderr",
     "output_type": "stream",
     "text": [
      "\n",
      "\n",
      " 30%|███       | 6/20 [00:06<00:15,  1.09s/it]\u001b[A\u001b[A\n",
      " 38%|███▊      | 8/21 [00:07<00:13,  1.01s/it]\u001b[A"
     ]
    },
    {
     "name": "stdout",
     "output_type": "stream",
     "text": [
      "KEYWORD UPSERT : [('2021-09-01 20:59:13', '2021-09-01 20:59:13', '둘리', 'ARTIFACT', '2021-09-01 20:59:13', '둘리'), ('2021-09-01 20:59:13', '2021-09-01 20:59:13', '김수정', 'PERSON', '2021-09-01 20:59:13', '김수정')]\n",
      "KEYWORD UPSERT : [('2021-09-01 20:59:13', '2021-09-01 20:59:13', '롯데관광', 'ORGANIZATION', '2021-09-01 20:59:13', '롯데관광'), ('2021-09-01 20:59:13', '2021-09-01 20:59:13', '홍서범', 'PERSON', '2021-09-01 20:59:13', '홍서범'), ('2021-09-01 20:59:13', '2021-09-01 20:59:13', '조갑경', 'PERSON', '2021-09-01 20:59:13', '조갑경')]\n",
      "ES INSERT : {'title': 'PRNewswire 넥스티어 중국 쑤저우에 최첨단 기술센터 설립', 'summary': '새로운 기술센터는 넥스티어가 APAC의 성장 기회를 활용하고 엔지니어링 세계화를 확대하며 고객 지원을 향상하는데 일조할 전망 쑤저우 중국 2020년 1월 10일 PRNewswire 연합뉴스 9일 넥스티어 오토모티브 Nexteer Automotive 가 중국 쑤저우 산업단지에 최첨단 기술센터를 대대적으로 개장하며 이를 자축했다. 넥스티어의 국제 풋프린트에 가장 최근 추가된 이 기술센터는 넥스티어가 회사의 엔지니어링 전문지식을 세계화하고 지역적인 기술 지원을 향상시키며 아시아태평양 지역에서 신흥 시장의 성장 기회를 활용하도록 지원할 전망이다. 이어 그는 자사의 아시아태평양 기술센터는 자사의 국제 엔지니어링 전문지식을 확장하고 지역 고객 지원을 향상시키며 신흥 시장 특히 중국에서 자사의 성장을 촉진할 것 이라고 설명했다.', 'article_url': 'https://news.naver.com/main/read.nhn?mode=LSD&mid=sec&sid1=104&oid=001&aid=0011327582', 'image_url': None, 'date': datetime.datetime(2020, 1, 10, 13, 0)}\n",
      "ES INSERT : {'title': '美서 징병통보 가짜 메시지 기승…육군 문의폭증에 사실 아냐', 'summary': '2020.01.09 서울 뉴시스 이란 혁명수비대 쿠드스군 사령관 거셈 솔레이마니가 사망하고 중동에서 새로운 전쟁이 발발할 수 있다는 우려가 고조되면서 미국 남성들에게 징병 대상이니까 즉각 특정 장소로 집결하라 고 알리는 허위 문자 또는 이메일이 기승을 부리고 있다. 이에 미 육군 당국이 공식 성명을 통해 징병은 사실이 아니라고 해명해야 했다고 CNBC가 9일 현지시간 보도했다. 가짜 문자 메시지 또는 이메일은 당신은 징병 대상이다. 즉각 이란으로 출발할 수 있도록 가장 가까운 집결지에 도착하라 는 내용이다.', 'article_url': 'https://news.naver.com/main/read.nhn?mode=LSD&mid=sec&sid1=104&oid=003&aid=0009648522', 'image_url': 'https://imgnews.pstatic.net/image/003/2020/01/10/NISI20200109_0015961461_web_20200109080436_20200110125503332.jpg', 'date': datetime.datetime(2020, 1, 10, 12, 54)}\n"
     ]
    },
    {
     "name": "stderr",
     "output_type": "stream",
     "text": [
      "\n",
      "\n",
      "\n",
      "\n",
      "\n",
      "\n",
      "\n",
      " 25%|██▌       | 5/20 [00:05<00:14,  1.02it/s]\u001b[A\u001b[A\u001b[A\u001b[A\u001b[A\u001b[A\u001b[A\n",
      "\n",
      "\n",
      "\n",
      " 90%|█████████ | 18/20 [00:08<00:01,  1.06it/s][A\u001b[A\u001b[A\u001b[A"
     ]
    },
    {
     "name": "stdout",
     "output_type": "stream",
     "text": [
      "KEYWORD UPSERT : []\n",
      "KEYWORD UPSERT : []\n",
      "KEYWORD UPSERT : [('2021-09-01 20:59:13', '2021-09-01 20:59:13', '미국', 'ORGANIZATION', '2021-09-01 20:59:13', '미국')]\n"
     ]
    },
    {
     "name": "stderr",
     "output_type": "stream",
     "text": [
      "\n",
      "\n",
      "\n",
      "\n",
      "\n",
      " 30%|███       | 6/20 [00:06<00:13,  1.01it/s]\u001b[A\u001b[A\u001b[A\u001b[A\u001b[A\n",
      "\n",
      "\n",
      "\n",
      "\n",
      "\n",
      " 30%|███       | 6/20 [00:06<00:14,  1.01s/it]\u001b[A\u001b[A\u001b[A\u001b[A\u001b[A\u001b[A"
     ]
    },
    {
     "name": "stdout",
     "output_type": "stream",
     "text": [
      "ES INSERT : {'title': '물고기 아예 없다 시진핑도 푸념…중국 젖줄의 역습', 'summary': '웨이치웨이 양쯔강 어업연구소장 주걱철갑상어를 포함해 지난 3년간 물고기들의 흔적을 찾을 수가 없었습니다. 무분별한 물고기 포획과 환경오염 때문이죠. 중국인에게 수천 년간 삶의 터전인 양쯔강이 지금 무분별한 남용의 대가를 요구하고 있습니다.', 'article_url': 'https://news.naver.com/main/read.nhn?mode=LSD&mid=sec&sid1=104&oid=055&aid=0000784577', 'image_url': 'https://imgnews.pstatic.net/image/055/2020/01/10/0000784577_001_20200110132203263.jpg', 'date': datetime.datetime(2020, 1, 10, 12, 48)}\n",
      "KEYWORD UPSERT : [('2021-09-01 20:59:14', '2021-09-01 20:59:14', '넥스티어', 'ORGANIZATION', '2021-09-01 20:59:14', '넥스티어')]\n",
      "ES INSERT : {'title': '출판 단신 뉴스 중독의 시대 올바른 뉴스 소비법', 'summary': '“언론은 사람들의 관심을 끌 만한 자극적 이슈를 ‘중대한’ 소식으로 치환해 팔아왔고 선정적인 이슈 취재에만 집중해왔다”고 지적한다. 뉴스를 마구잡이로 읽는 ‘뉴스 중독자’들에게 건강한 정보 소비법 ‘뉴스 다이어트’의 방법을 제시한다. 책은 과거 애덤 스미스의 자본주의부터 최근의 인공지능 공유경제까지 자본주의 역사를 되짚는다.', 'article_url': 'https://news.naver.com/main/read.nhn?mode=LSD&mid=sec&sid1=103&oid=053&aid=0000026930', 'image_url': 'https://imgnews.pstatic.net/image/053/2020/01/10/0000026930_001_20200110125905615.jpg', 'date': datetime.datetime(2020, 1, 10, 12, 59)}\n",
      "ES INSERT : {'title': '역경의 열매 김인숙 14 유엔 “한국 아동인권 인식 낮다” 권고문에…', 'summary': '위원회는 2003년 11월 17일 ‘아동권리주간 선포식’을 열었다. 아동인권을 보장함에 있어 정부의 책무성과 역할이 가장 우선돼야 한다는 의미로 협약에 명시된 내용이다. 아동권리주간 선포식을 시작으로 아동권리 인식 증진과 교육·훈련을 위해 다양한 민관협력 사업을 만들었다.', 'article_url': 'https://news.naver.com/main/read.nhn?mode=LSD&mid=sec&sid1=103&oid=005&aid=0001276845', 'image_url': 'https://imgnews.pstatic.net/image/005/2020/01/10/202001100006_23110924117039_1_20200110000702264.jpg', 'date': datetime.datetime(2020, 1, 10, 12, 7)}\n",
      "ES INSERT : {'title': '인도 뉴델리 테러 모의 3명 체포…IS 연계 의혹', 'summary': '이들은 뉴델리를 포함해 인근 우타르프라데시주 등에 대한 테러를 모의했다는 혐의를 받고 있다. 경찰은 이들이 이슬람 극단주의 무장단체인 이슬람국가 IS 와 연계된 것으로 여기고 있다. 인도 경찰은 지난해부터 나렌드라 모디 인도 총리를 겨냥한 테러 모의 등 여러 건의 테러 관련 첩보를 입수해왔다.', 'article_url': 'https://news.naver.com/main/read.nhn?mode=LSD&mid=sec&sid1=104&oid=001&aid=0011327560', 'image_url': 'https://imgnews.pstatic.net/image/001/2020/01/10/AKR20200110076400077_01_i_20200110124408167.jpg', 'date': datetime.datetime(2020, 1, 10, 12, 43)}\n",
      "KEYWORD UPSERT : [('2021-09-01 20:59:14', '2021-09-01 20:59:14', '혁명수비대', 'ORGANIZATION', '2021-09-01 20:59:14', '혁명수비대'), ('2021-09-01 20:59:14', '2021-09-01 20:59:14', '쿠드스군', 'ORGANIZATION', '2021-09-01 20:59:14', '쿠드스군')]\n"
     ]
    },
    {
     "name": "stderr",
     "output_type": "stream",
     "text": [
      "\n",
      "\n",
      "\n",
      " 29%|██▊       | 6/21 [00:06<00:15,  1.03s/it]\u001b[A\u001b[A\u001b[A"
     ]
    },
    {
     "name": "stdout",
     "output_type": "stream",
     "text": [
      "ES INSERT : {'title': '손 안의 보석 작은 옛 그릇들이 보여주는 문화적 차이', 'summary': '상감기법의 모란꽃이 새겨진 병과 연꽃무늬의 그릇들에서는 화장품 등을 보관했던 옛 여인들의 향기가 느껴집니다. 한 손에 쏙 들어올 만한 크기의 작은 자기들 93점이 한자리에 모였습니다. 이원광 호림박물관 학예연구실장 고려시대 도자기는 고려의 귀족문화와 관련해 상당히 화려한 모습을 보여주고 있고 조선시대 도자기는 조선의 선비문화와 관련해서 간결하고 검소한 모습을 보여주고 있습니다. 대부분 호림박물관의 소장품들로 그동안 일반에 공개되지 않았던 유물들도 많고 고려와 조선의 문화적 차이까지 비교해볼 수 있는 소중한 기회입니다.', 'article_url': 'https://news.naver.com/main/read.nhn?mode=LSD&mid=sec&sid1=103&oid=055&aid=0000784576', 'image_url': 'https://imgnews.pstatic.net/image/055/2020/01/10/0000784576_001_20200110124615690.jpg', 'date': datetime.datetime(2020, 1, 10, 12, 44)}\n",
      "ES INSERT : {'title': '휴넷 일머리 없는 직장인 모여라 엑셀·PPT 등 필수 교육 평생 무제한', 'summary': '사진제공 휴넷 직장인교육 전문기업 휴넷 대표 조영탁 은 이러한 직장인들을 위해 직장인 필수과정 34종을 한데 모았다. 휴넷 관계자는 “엑셀 PPT부터 기획서 작성 회계 과정까지 소위 직장인의 일머리를 높여주는 과정들로 묶었다”고 전했다. △엑셀 PPT 회계재무 등 직장인 실무 지식 과정 △디지털 마케팅 데이터 분석 등 트렌디한 과정 △공인중개사 전산세무회계 등 자격증 과정 △매일 맞춤형 교육을 추천해주는 데일리 인사이트 과정 △북러닝 과정 △ 힐링 과정 등 직장인에게 필요한 교육 과정들이 대거 포함됐다.', 'article_url': 'https://news.naver.com/main/read.nhn?mode=LSD&mid=sec&sid1=101&oid=008&aid=0004338243', 'image_url': 'https://imgnews.pstatic.net/image/008/2020/01/10/0004338243_001_20200110122801901.jpg', 'date': datetime.datetime(2020, 1, 10, 12, 27)}\n",
      "ES INSERT : {'title': '신간안내누구도 멈출 수 없다 外', 'summary': '여성 소비자들의 마음에 다가서려는 기업과 조직 개인을 위한 지침서. 2030 여성 소비자들의 소비 패턴과 구매 요인 트렌드 등을 면밀히 분석한다. 이들이 강력한 소비 주체로 떠오른 배경을 살피며 대한민국의 쉬코노미 SHEconomy 현상을 입체적으로 분석한다.', 'article_url': 'https://news.naver.com/main/read.nhn?mode=LSD&mid=sec&sid1=103&oid=277&aid=0004603781', 'image_url': 'https://imgnews.pstatic.net/image/277/2020/01/10/0004603781_001_20200110125105728.jpg', 'date': datetime.datetime(2020, 1, 10, 12, 50)}\n",
      "KEYWORD UPSERT : [('2021-09-01 20:59:14', '2021-09-01 20:59:14', '웨이치웨이', 'PERSON', '2021-09-01 20:59:14', '웨이치웨이')]\n"
     ]
    },
    {
     "name": "stderr",
     "output_type": "stream",
     "text": [
      "\n",
      " 43%|████▎     | 9/21 [00:08<00:11,  1.03it/s]\u001b[A\n",
      "\n",
      " 35%|███▌      | 7/20 [00:07<00:13,  1.03s/it]\u001b[A\u001b[A\n",
      "\n",
      "\n",
      "\n",
      "\n",
      "\n",
      "\n",
      " 30%|███       | 6/20 [00:06<00:12,  1.09it/s]\u001b[A\u001b[A\u001b[A\u001b[A\u001b[A\u001b[A\u001b[A\n",
      "\n",
      "\n",
      "\n",
      " 35%|███▌      | 7/20 [00:07<00:12,  1.08it/s]\u001b[A\u001b[A\u001b[A\u001b[A"
     ]
    },
    {
     "name": "stdout",
     "output_type": "stream",
     "text": [
      "KEYWORD UPSERT : [('2021-09-01 20:59:14', '2021-09-01 20:59:14', '인공지능', 'STUDY_FIELD', '2021-09-01 20:59:14', '인공지능'), ('2021-09-01 20:59:14', '2021-09-01 20:59:14', '자본주의', 'THEORY', '2021-09-01 20:59:14', '자본주의')]\n",
      "KEYWORD UPSERT : []\n",
      "KEYWORD UPSERT : [('2021-09-01 20:59:14', '2021-09-01 20:59:14', '이슬람국가', 'ORGANIZATION', '2021-09-01 20:59:14', '이슬람국가'), ('2021-09-01 20:59:14', '2021-09-01 20:59:14', '극단주의', 'THEORY', '2021-09-01 20:59:14', '극단주의')]\n",
      "KEYWORD UPSERT : [('2021-09-01 20:59:14', '2021-09-01 20:59:14', '모란꽃', 'PLANT', '2021-09-01 20:59:14', '모란꽃'), ('2021-09-01 20:59:14', '2021-09-01 20:59:14', '호림박물관', 'ORGANIZATION', '2021-09-01 20:59:14', '호림박물관'), ('2021-09-01 20:59:14', '2021-09-01 20:59:14', '이원광', 'PERSON', '2021-09-01 20:59:14', '이원광'), ('2021-09-01 20:59:14', '2021-09-01 20:59:14', '상감기법', 'THEORY', '2021-09-01 20:59:14', '상감기법')]\n"
     ]
    },
    {
     "name": "stderr",
     "output_type": "stream",
     "text": [
      " 95%|█████████▌| 19/20 [00:09<00:00,  1.08it/s]\n",
      "\n",
      "\n",
      "\n",
      "\n",
      " 35%|███▌      | 7/20 [00:06<00:11,  1.09it/s]\u001b[A\u001b[A\u001b[A\u001b[A\u001b[A"
     ]
    },
    {
     "name": "stdout",
     "output_type": "stream",
     "text": [
      "ES INSERT : {'title': '새로 나온 책', 'summary': '남북 신통상 송기호 지음 한티재 펴냄 “남과 북이 함께 번영할 용기가 필요하다.” 국제통상 전문 변호사인 저자는 북한 삼일포 협동농장의 생산성 향상 프로그램에 참여한 바 있다. 저자는 “북한은 실리를 추구하려는 욕구가 핵무기보다 더 강할 수 있다”라며 남북 경협의 경험을 활용해서 평화와 번영의 길을 열어가자고 역설한다. ‘조선의 잔다르크’ ‘백마 탄 여장군’ 등의 별칭으로 불리며 항일 무장투쟁의 최전선에서 싸운 사회주의 계열 독립운동가 김명시의 생애를 소설로 재현했다.', 'article_url': 'https://news.naver.com/main/read.nhn?mode=LSD&mid=sec&sid1=103&oid=308&aid=0000026272', 'image_url': 'https://imgnews.pstatic.net/image/308/2020/01/10/0000026272_001_20200110125906113.jpg', 'date': datetime.datetime(2020, 1, 10, 12, 58)}\n",
      "KEYWORD UPSERT : [('2021-09-01 20:59:14', '2021-09-01 20:59:14', '휴넷', 'ORGANIZATION', '2021-09-01 20:59:14', '휴넷'), ('2021-09-01 20:59:14', '2021-09-01 20:59:14', '조영탁', 'PERSON', '2021-09-01 20:59:14', '조영탁')]\n",
      "KEYWORD UPSERT : []\n",
      "ES INSERT : {'title': '되는전도 목회자 세미나 2022일 충북 청주서 개최', 'summary': '되는전도훈련원장 임승채 목사 특강 전도실습 등 인도 되는전도훈련원은 20 22일 충북 청주시 서원구 수곡동에 있는 이 단체 세미나실에서 ‘되는전도 목회자 세미나’를 개최한다. 교회 및 신앙생활 전반을 다룬다. 참가 대상은 목회자와 사모 부교역자 등이다. 등록비는 교재와 숙식 포함해 5만원이다.', 'article_url': 'https://news.naver.com/main/read.nhn?mode=LSD&mid=sec&sid1=103&oid=005&aid=0001277019', 'image_url': 'https://imgnews.pstatic.net/image/005/2020/01/10/612211110014116670_1_20200111044303469.jpg', 'date': datetime.datetime(2020, 1, 10, 12, 47)}\n"
     ]
    },
    {
     "name": "stderr",
     "output_type": "stream",
     "text": [
      "\n",
      "\n",
      "\n",
      "\n",
      "\n",
      "\n",
      " 35%|███▌      | 7/20 [00:07<00:12,  1.00it/s]\u001b[A\u001b[A\u001b[A\u001b[A\u001b[A\u001b[A"
     ]
    },
    {
     "name": "stdout",
     "output_type": "stream",
     "text": [
      "ES INSERT : {'title': '노화시계 멈춰라… 동안 만드는 ‘안티에이징 성형’은', 'summary': '비록 나이는 한 살 먹지만 건강 나이나 외모 나이는 한 살이라도 젊어지려는 것. 이렇다보니 연초에는 안티에이징에 대한 관심이 부쩍 높아진다. 운동하고 소식하는 등 자가관리에 신경쓰는 것은 물론 설을 앞두고 보다 적극적인 ‘의학적 관리’를 고려하기도 한다. 배원배 더멘토성형외과 대표원장의 도움말로 보다 똑똑하게 젊음을 관리하는 방법에 대해 들어봤다.', 'article_url': 'https://news.naver.com/main/read.nhn?mode=LSD&mid=sec&sid1=103&oid=396&aid=0000536669', 'image_url': 'https://imgnews.pstatic.net/image/396/2020/01/10/0000536669_001_20200110003507264.jpg', 'date': datetime.datetime(2020, 1, 10, 12, 35)}\n",
      "ES INSERT : {'title': '이정옥 장관 선거 연령 하향은 청소년계 염원 새로운 전환기', 'summary': '2020년 청소년계 신년인사회서 밝혀 이정옥 여성가족부 장관. 뉴스1 © News1 서울 뉴스1 이재상 기자 이정옥 여성가족부 장관이 선거법 개정으로 만 18세 청소년부터 선거 참여가 가능해진 것에 대해 환영의 뜻을 나타냈다. 이 장관은 10일 서울 강서구 방화동 국제청소년센터에서 열린 청소년계 신년인사회 축사에서 최근 법 개정으로 만 18세부터 선거 참여가 가능해졌다 라며 선거 연령 인하는 그간 청소년계의 염원이었던 만큼 아주 뜻 깊은 변화라고 생각한다. 이 장관은 다양한 정책을 통해 청소년들의 적극적인 활동을 돕겠다고 약속했다.', 'article_url': 'https://news.naver.com/main/read.nhn?mode=LSD&mid=sec&sid1=102&oid=421&aid=0004402337', 'image_url': 'https://imgnews.pstatic.net/image/421/2020/01/10/0004402337_001_20200110123608518.jpg', 'date': datetime.datetime(2020, 1, 10, 12, 30)}\n",
      "ES INSERT : {'title': '장애인과 함께하는 설교 기회를 잃지 말라', 'summary': '●누가복음 16장 19 31절 기회란 누구에게나 다가오지만 지나가면 아무도 잡지 못합니다. 예수님께서는 부자와 나사로 이야기를 통해 기회를 바르게 사용하는 것이 얼마나 중요한지 말씀하셨습니다. 먼저 잘못을 반성할 기회를 잃지 마시기 바랍니다.', 'article_url': 'https://news.naver.com/main/read.nhn?mode=LSD&mid=sec&sid1=103&oid=005&aid=0001276855', 'image_url': 'https://imgnews.pstatic.net/image/005/2020/01/10/202001100008_23110924117174_1_20200110000905098.jpg', 'date': datetime.datetime(2020, 1, 10, 12, 9)}\n",
      "ES INSERT : {'title': '핫 이사람영화·TV·광고까지 진출…어엿한 스타이자 9년차 공무원', 'summary': '실제로 그는 아직은 잘 알려지지 않았지만 현역배우다. 최근에는 자신의 우상인 마동석씨의 대역으로 활동했고 드라마와 영화에서도 활약하고 있다. 본업이자 제1의 정체성인 청원경찰로서 강원도청 방호에 매진하면서도 제2의 정체성인 배우로서의 입지도 다져 가고 제3의 정체성인 보디빌딩 강원도 대표라는 꿈도 키워 가고 있는 준혁씨의 바쁜 삶을 들여다봤다.', 'article_url': 'https://news.naver.com/main/read.nhn?mode=LSD&mid=sec&sid1=103&oid=087&aid=0000784051', 'image_url': 'https://imgnews.pstatic.net/image/087/2020/01/10/0000784051_001_20201109133639520.jpg', 'date': datetime.datetime(2020, 1, 10, 12, 35)}\n",
      "KEYWORD UPSERT : [('2021-09-01 20:59:15', '2021-09-01 20:59:15', '북한', 'ORGANIZATION', '2021-09-01 20:59:15', '북한'), ('2021-09-01 20:59:15', '2021-09-01 20:59:15', '잔다르크', 'PERSON', '2021-09-01 20:59:15', '잔다르크'), ('2021-09-01 20:59:15', '2021-09-01 20:59:15', '한티재', 'ORGANIZATION', '2021-09-01 20:59:15', '한티재'), ('2021-09-01 20:59:15', '2021-09-01 20:59:15', '핵무기', 'ARTIFACT', '2021-09-01 20:59:15', '핵무기'), ('2021-09-01 20:59:15', '2021-09-01 20:59:15', '송기호', 'PERSON', '2021-09-01 20:59:15', '송기호'), ('2021-09-01 20:59:15', '2021-09-01 20:59:15', '여장군', 'PERSON', '2021-09-01 20:59:15', '여장군'), ('2021-09-01 20:59:15', '2021-09-01 20:59:15', '김명시', 'PERSON', '2021-09-01 20:59:15', '김명시'), ('2021-09-01 20:59:15', '2021-09-01 20:59:15', '사회주의', 'THEORY', '2021-09-01 20:59:15', '사회주의'), ('2021-09-01 20:59:15', '2021-09-01 20:59:15', '남북', 'ORGANIZATION', '2021-09-01 20:59:15', '남북')]\n"
     ]
    },
    {
     "name": "stderr",
     "output_type": "stream",
     "text": [
      "\n",
      "\n",
      "\n",
      "\n",
      " 40%|████      | 8/20 [00:07<00:10,  1.17it/s]\u001b[A\u001b[A\u001b[A\u001b[A\n",
      "\n",
      "\n",
      " 33%|███▎      | 7/21 [00:07<00:14,  1.01s/it]\u001b[A\u001b[A\u001b[A"
     ]
    },
    {
     "name": "stdout",
     "output_type": "stream",
     "text": [
      "ES INSERT : {'title': '9일 본회의 문턱 넘은 198건 비쟁점법안과 그 내용은', 'summary': '특히 2004년부터 추진되어온 ‘지방이양일괄법’이 지난 9일 국회 본회의 문턱을 넘으면서 16년 만에 중앙부처가 맡았던 400개 국가사무가 내년에 지방자치단체 소관으로 넘어간다. 이날 통과된 ‘지방이양일괄법’은 중앙의 행정권한과 사무 등을 포괄적으로 지자체에 넘겨주기 위해 관련 법률을 모아 한 번에 개정하는 법률이다. 이번 개정으로 16개 중앙부처 소관 46개 법률의 사무 400개가 지방으로 일괄 이양되게 되며 내년 1월 1일부터 시행된다.', 'article_url': 'https://news.naver.com/main/read.nhn?mode=LSD&mid=sec&sid1=100&oid=082&aid=0000972921', 'image_url': 'https://imgnews.pstatic.net/image/082/2020/01/10/0000972921_001_20200110122104113.jpg', 'date': datetime.datetime(2020, 1, 10, 12, 21)}\n",
      "KEYWORD UPSERT : [('2021-09-01 20:59:15', '2021-09-01 20:59:15', '되는전도훈련원', 'ORGANIZATION', '2021-09-01 20:59:15', '되는전도훈련원'), ('2021-09-01 20:59:15', '2021-09-01 20:59:15', '임승채', 'PERSON', '2021-09-01 20:59:15', '임승채')]\n",
      "ES INSERT : {'title': '“직면이 곧 내 삶의 만사형통하는 노하우”', 'summary': '㈜엔터스코리아 책쓰기브랜딩스쿨은 지난 8일 서울 강남구민회관 공연장에서 ‘제1회 저자강연회’를 개최했다. 씨크릿우먼 김 대표는 지난 20년 동안 기업을 일궈오며 겪었던 경험과 노하우를 소개했다. 김 대표는 “직면이 곧 내 삶의 만사형통하는 노하우”라며 삶을 통찰하는 직면의 기술을 참여자들에게 전달했다.', 'article_url': 'https://news.naver.com/main/read.nhn?mode=LSD&mid=sec&sid1=103&oid=018&aid=0004552756', 'image_url': 'https://imgnews.pstatic.net/image/018/2020/01/10/0004552756_001_20200110125601863.jpg', 'date': datetime.datetime(2020, 1, 10, 12, 56)}\n",
      "KEYWORD UPSERT : [('2021-09-01 20:59:15', '2021-09-01 20:59:15', '배원배', 'PERSON', '2021-09-01 20:59:15', '배원배'), ('2021-09-01 20:59:15', '2021-09-01 20:59:15', '더멘토성형외과', 'ORGANIZATION', '2021-09-01 20:59:15', '더멘토성형외과')]\n"
     ]
    },
    {
     "name": "stderr",
     "output_type": "stream",
     "text": [
      "\n",
      " 48%|████▊     | 10/21 [00:09<00:11,  1.02s/it]\u001b[A\n",
      "\n",
      " 40%|████      | 8/20 [00:08<00:12,  1.06s/it]\u001b[A\u001b[A\n",
      "\n",
      "\n",
      "\n",
      "\n",
      "\n",
      "\n",
      " 35%|███▌      | 7/20 [00:07<00:13,  1.02s/it]\u001b[A\u001b[A\u001b[A\u001b[A\u001b[A\u001b[A\u001b[A"
     ]
    },
    {
     "name": "stdout",
     "output_type": "stream",
     "text": [
      "KEYWORD UPSERT : [('2021-09-01 20:59:15', '2021-09-01 20:59:15', '이재상', 'PERSON', '2021-09-01 20:59:15', '이재상'), ('2021-09-01 20:59:15', '2021-09-01 20:59:15', '이정옥', 'PERSON', '2021-09-01 20:59:15', '이정옥'), ('2021-09-01 20:59:15', '2021-09-01 20:59:15', '국제청소년센터', 'ARTIFACT', '2021-09-01 20:59:15', '국제청소년센터'), ('2021-09-01 20:59:15', '2021-09-01 20:59:15', '여성가족부', 'ORGANIZATION', '2021-09-01 20:59:15', '여성가족부')]\n",
      "KEYWORD UPSERT : [('2021-09-01 20:59:15', '2021-09-01 20:59:15', '예수님', 'PERSON', '2021-09-01 20:59:15', '예수님'), ('2021-09-01 20:59:15', '2021-09-01 20:59:15', '누가복음', 'ARTIFACT', '2021-09-01 20:59:15', '누가복음')]\n",
      "KEYWORD UPSERT : [('2021-09-01 20:59:15', '2021-09-01 20:59:15', '강원도청', 'ORGANIZATION', '2021-09-01 20:59:15', '강원도청'), ('2021-09-01 20:59:15', '2021-09-01 20:59:15', '마동석', 'PERSON', '2021-09-01 20:59:15', '마동석'), ('2021-09-01 20:59:15', '2021-09-01 20:59:15', '준혁', 'PERSON', '2021-09-01 20:59:15', '준혁')]\n"
     ]
    },
    {
     "name": "stderr",
     "output_type": "stream",
     "text": [
      "100%|██████████| 20/20 [00:10<00:00,  1.87it/s]\n",
      "\n",
      "\n",
      "\n",
      "\n",
      "\n",
      " 40%|████      | 8/20 [00:08<00:11,  1.04it/s]\u001b[A\u001b[A\u001b[A\u001b[A\u001b[A"
     ]
    },
    {
     "name": "stdout",
     "output_type": "stream",
     "text": [
      "ES INSERT : {'title': '한성우 교수의 맛의 말 말의 맛군고구마', 'summary': '군고구마의 사촌인 군밤도 있는데 불에 구워서 만든 것이니 ‘구운 고구마’나 ‘구운 밤’이 변해서 된 말임을 알 수 있다. 여러 조리법이 있지만 최초의 조리법은 역시 불에 굽는 것일 수밖에 없다. 가장 원초적인 조리법인 굽는 방법은 앞에 쓰일 때는 ‘구운’으로 뒤에 쓰일 때는 ‘구이’로 나타난다.', 'article_url': 'https://news.naver.com/main/read.nhn?mode=LSD&mid=sec&sid1=103&oid=021&aid=0002413605', 'image_url': 'https://imgnews.pstatic.net/image/021/2020/01/10/0002413605_001_20200110124105627.jpg', 'date': datetime.datetime(2020, 1, 10, 12, 41)}\n",
      "ES INSERT : {'title': '시청자 LIVE‘윤석열 사단’ 교체…치과의사의 ‘두 얼굴’', 'summary': '그제 발표된 검찰 지휘부 인사에 대한 시청자들의 관심이 뜨겁습니다. 현 정부를 상대로 수사하던 검사들이 대거 교체되면서 적절한 인사였는지에 대한 찬반이 분분한데요. 검찰 개혁에 대한 의지가 반영된 인사인 만큼 이참에 검찰조직 전체가 쇄신하는 기회로 삼자는 따끔한 지적도 나옵니다.', 'article_url': 'https://news.naver.com/main/read.nhn?mode=LSD&mid=sec&sid1=102&oid=449&aid=0000184501', 'image_url': 'https://imgnews.pstatic.net/image/449/2020/01/10/0000184501_001_20200110121439089.jpg', 'date': datetime.datetime(2020, 1, 10, 12, 14)}\n",
      "KEYWORD UPSERT : [('2021-09-01 20:59:15', '2021-09-01 20:59:15', '지방자치단체', 'ORGANIZATION', '2021-09-01 20:59:15', '지방자치단체')]\n",
      "KEYWORD UPSERT : [('2021-09-01 20:59:16', '2021-09-01 20:59:16', '저자강연회', 'EVENT', '2021-09-01 20:59:16', '저자강연회'), ('2021-09-01 20:59:16', '2021-09-01 20:59:16', '씨크릿우먼', 'ORGANIZATION', '2021-09-01 20:59:16', '씨크릿우먼'), ('2021-09-01 20:59:16', '2021-09-01 20:59:16', '강남구민회관', 'ARTIFACT', '2021-09-01 20:59:16', '강남구민회관')]\n"
     ]
    },
    {
     "name": "stderr",
     "output_type": "stream",
     "text": [
      "\n",
      "\n",
      "\n",
      "\n",
      "\n",
      "\n",
      " 40%|████      | 8/20 [00:08<00:12,  1.02s/it]\u001b[A\u001b[A\u001b[A\u001b[A\u001b[A\u001b[A"
     ]
    },
    {
     "name": "stdout",
     "output_type": "stream",
     "text": [
      "KEYWORD UPSERT : []\n",
      "ES INSERT : {'title': 'e갤러리 증강현실에도 나뒹구는 소주병…한민수 증강현실', 'summary': '작품명까지 ‘증강현실’ 2019 이니. 어디까지 가상이고 어디까지 현실인지 구분이 안 되는 거다. 23일까지 서울 종로구 우정국로 올미아트스페이스서 여는 기획전 ‘올미씨의 행복여행전 Ⅳ’에서 볼 수 있다.', 'article_url': 'https://news.naver.com/main/read.nhn?mode=LSD&mid=sec&sid1=103&oid=018&aid=0004552419', 'image_url': 'https://imgnews.pstatic.net/image/018/2020/01/10/0004552419_001_20200110003601903.jpg', 'date': datetime.datetime(2020, 1, 10, 12, 36)}\n",
      "ES INSERT : {'title': '이어령 “연초에 달력 아닌 지도 펴는 사람이 100년 끌고가”', 'summary': '광화문문화예술상 수상 강연 “대륙 편 바다 편 선택하는 것보다 반도가 살 수 있는 길 창조해야” 광화문문화포럼 창립 20주년을 맞아 9일 서울 중구 한국프레스센터에서 열린 제1회 광화문문화예술상 시상식에서 수상자인 이어령 전 문화부장관 앞줄 왼쪽 여섯째 등 참석자들이 축하떡을 자르고 있다. 앞줄 왼쪽부터 표재순 문화기획학교 이사장 김동호 강릉국제영화제조직위원장 남시욱 화정평화재단이사장 이세중 전 대한변협회장 오지철 광화문문화포럼 회장 이어령 전 장관 강인숙 영인문학관 관장 이근배 예술원 회장 이종덕 전 예술의전당 사장 박정자 연극인 김영수 전 문체부장관 김남조 시인 육완순 무용가. 그가 행복했다면 귀가 들리고 궁정악사가 됐다면 우리는 결코 환희의 기쁨을 못 느낀다.', 'article_url': 'https://news.naver.com/main/read.nhn?mode=LSD&mid=sec&sid1=103&oid=025&aid=0002966719', 'image_url': 'https://imgnews.pstatic.net/image/025/2020/01/10/0002966719_001_20200110060936997.jpg', 'date': datetime.datetime(2020, 1, 10, 12, 5)}\n"
     ]
    },
    {
     "name": "stderr",
     "output_type": "stream",
     "text": [
      "\n",
      "\n",
      "\n",
      "\n",
      " 45%|████▌     | 9/20 [00:08<00:10,  1.05it/s]\u001b[A\u001b[A\u001b[A\u001b[A"
     ]
    },
    {
     "name": "stdout",
     "output_type": "stream",
     "text": [
      "ES INSERT : {'title': '아는 만큼 맛있다횡성한우 언제부터 유명해졌나', 'summary': '결과적으로 횡성한우는 한결같은 품질로 국빈 입맛을 사로잡았고 2007년 남북정상회담 식단에까지 포함되면서 명성이 하늘로 치솟았다. 판로가 막히자 횡성축협은 1997년 직접 판매장을 꾸려 생산과 유통을 결합했다. 횡성축협한우는 지난해 2020대한민국 퍼스트브랜드 대상을 4년 연속 2019국가브랜드 대상을 2년 연속 수상했다.', 'article_url': 'https://news.naver.com/main/read.nhn?mode=LSD&mid=sec&sid1=102&oid=087&aid=0000784048', 'image_url': None, 'date': datetime.datetime(2020, 1, 10, 12, 35)}\n",
      "ES INSERT : {'title': '오픽달리는 택시에서…기사 멱살 잡고 ‘퍽퍽’', 'summary': '첫 번째 키워드 택시 기사 폭행은 하루 8건 꼴로 일어날 정도로 심각합니다. 세 번째 키워드 승리. 버닝썬 사건 을 수사 중인 검찰이 가수 승리에 대해 구속영장을 청구했습니다. 올해부터 난임부부 시술비 지원액이 최대 110만 원으로 늘어납니다.', 'article_url': 'https://news.naver.com/main/read.nhn?mode=LSD&mid=sec&sid1=102&oid=449&aid=0000184494', 'image_url': 'https://imgnews.pstatic.net/image/449/2020/01/10/0000184494_001_20200110121413114.jpg', 'date': datetime.datetime(2020, 1, 10, 12, 8)}\n",
      "KEYWORD UPSERT : []\n"
     ]
    },
    {
     "name": "stderr",
     "output_type": "stream",
     "text": [
      "\n",
      "\n",
      "\n",
      "\n",
      "\n",
      "\n",
      "\n",
      " 40%|████      | 8/20 [00:08<00:11,  1.05it/s]\u001b[A\u001b[A\u001b[A\u001b[A\u001b[A\u001b[A\u001b[A\n",
      "\n",
      "\n",
      " 38%|███▊      | 8/21 [00:09<00:14,  1.11s/it]\u001b[A\u001b[A\u001b[A\n",
      " 52%|█████▏    | 11/21 [00:10<00:10,  1.05s/it]\u001b[A\n",
      "\n",
      " 45%|████▌     | 9/20 [00:09<00:12,  1.09s/it]\u001b[A\u001b[A"
     ]
    },
    {
     "name": "stdout",
     "output_type": "stream",
     "text": [
      "KEYWORD UPSERT : [('2021-09-01 20:59:16', '2021-09-01 20:59:16', '우정국로', 'ARTIFACT', '2021-09-01 20:59:16', '우정국로'), ('2021-09-01 20:59:16', '2021-09-01 20:59:16', '증강현실', 'STUDY_FIELD', '2021-09-01 20:59:16', '증강현실'), ('2021-09-01 20:59:16', '2021-09-01 20:59:16', '올미아트스페이스', 'ARTIFACT', '2021-09-01 20:59:16', '올미아트스페이스')]\n",
      "ES INSERT : {'title': '이영환 목사의 영적 장자권을 회복하라 “목회는 내가 먹고살려고 하는 게 아니다”ue042 65세 은퇴 선포', 'summary': '20 은퇴를 기도로 결정한 이유 이영환 대전 한밭제일교회 원로목사가 지난해 9월 캄보디아 프놈펜에서 열린 한인선교사회 주최 영성세미나에서 영적 장자권의 중요성을 강조하고 있다. 당시 장년 성도가 500명인데 주일 낮 1부와 2부 예배를 드리니까 그 넓은 성전이 텅텅 비어있었다. 사람들은 보통 성도 수가 많아지면 부흥됐다고 말한다.', 'article_url': 'https://news.naver.com/main/read.nhn?mode=LSD&mid=sec&sid1=103&oid=005&aid=0001276842', 'image_url': 'https://imgnews.pstatic.net/image/005/2020/01/10/202001100005_23110924117224_1_20200110000603867.jpg', 'date': datetime.datetime(2020, 1, 10, 12, 6)}\n",
      "KEYWORD UPSERT : [('2021-09-01 20:59:16', '2021-09-01 20:59:16', '문화부', 'ORGANIZATION', '2021-09-01 20:59:16', '문화부'), ('2021-09-01 20:59:16', '2021-09-01 20:59:16', '남시욱', 'PERSON', '2021-09-01 20:59:16', '남시욱'), ('2021-09-01 20:59:16', '2021-09-01 20:59:16', '이종덕', 'PERSON', '2021-09-01 20:59:16', '이종덕'), ('2021-09-01 20:59:16', '2021-09-01 20:59:16', '김동호', 'PERSON', '2021-09-01 20:59:16', '김동호'), ('2021-09-01 20:59:16', '2021-09-01 20:59:16', '영인문학관', 'ORGANIZATION', '2021-09-01 20:59:16', '영인문학관'), ('2021-09-01 20:59:16', '2021-09-01 20:59:16', '예술원', 'ORGANIZATION', '2021-09-01 20:59:16', '예술원'), ('2021-09-01 20:59:16', '2021-09-01 20:59:16', '화정평화재단', 'ORGANIZATION', '2021-09-01 20:59:16', '화정평화재단'), ('2021-09-01 20:59:16', '2021-09-01 20:59:16', '이근배', 'PERSON', '2021-09-01 20:59:16', '이근배'), ('2021-09-01 20:59:16', '2021-09-01 20:59:16', '문체부', 'ORGANIZATION', '2021-09-01 20:59:16', '문체부'), ('2021-09-01 20:59:16', '2021-09-01 20:59:16', '육완순', 'PERSON', '2021-09-01 20:59:16', '육완순'), ('2021-09-01 20:59:16', '2021-09-01 20:59:16', '김영수', 'PERSON', '2021-09-01 20:59:16', '김영수'), ('2021-09-01 20:59:16', '2021-09-01 20:59:16', '이어령', 'PERSON', '2021-09-01 20:59:16', '이어령'), ('2021-09-01 20:59:16', '2021-09-01 20:59:16', '예술의전당', 'ORGANIZATION', '2021-09-01 20:59:16', '예술의전당'), ('2021-09-01 20:59:16', '2021-09-01 20:59:16', '오지철', 'PERSON', '2021-09-01 20:59:16', '오지철'), ('2021-09-01 20:59:16', '2021-09-01 20:59:16', '문화기획학교', 'ORGANIZATION', '2021-09-01 20:59:16', '문화기획학교'), ('2021-09-01 20:59:16', '2021-09-01 20:59:16', '김남조', 'PERSON', '2021-09-01 20:59:16', '김남조'), ('2021-09-01 20:59:16', '2021-09-01 20:59:16', '표재순', 'PERSON', '2021-09-01 20:59:16', '표재순'), ('2021-09-01 20:59:16', '2021-09-01 20:59:16', '박정자', 'PERSON', '2021-09-01 20:59:16', '박정자'), ('2021-09-01 20:59:16', '2021-09-01 20:59:16', '한국프레스센터', 'ARTIFACT', '2021-09-01 20:59:16', '한국프레스센터'), ('2021-09-01 20:59:16', '2021-09-01 20:59:16', '강인숙', 'PERSON', '2021-09-01 20:59:16', '강인숙'), ('2021-09-01 20:59:16', '2021-09-01 20:59:16', '광화문문화포럼', 'ORGANIZATION', '2021-09-01 20:59:16', '광화문문화포럼'), ('2021-09-01 20:59:16', '2021-09-01 20:59:16', '이세중', 'PERSON', '2021-09-01 20:59:16', '이세중')]\n",
      "ES INSERT : {'title': '“기독교 생명윤리 지키려면 먼저 신학과 신앙부터 바로 세워야”', 'summary': '낙태를 옹호·조장하는 게 교회와 기독교를 공격하는 첫 단계라는 것이다. 사회 경제적으로나 건강상 문제로 낙태를 할 수밖에 없다는 주장이 있어서다. 이 소장은 “우리사회가 피해 여성들의 아픔을 함께 안고 가야 한다”며 “교회의 역할이 중요하다”고 설명했다.', 'article_url': 'https://news.naver.com/main/read.nhn?mode=LSD&mid=sec&sid1=103&oid=005&aid=0001276844', 'image_url': 'https://imgnews.pstatic.net/image/005/2020/01/10/202001101351_23110924117405_1_20200110135204868.jpg', 'date': datetime.datetime(2020, 1, 10, 12, 6)}\n",
      "KEYWORD UPSERT : [('2021-09-01 20:59:16', '2021-09-01 20:59:16', '횡성축협', 'ORGANIZATION', '2021-09-01 20:59:16', '횡성축협'), ('2021-09-01 20:59:16', '2021-09-01 20:59:16', '횡성축협한우', 'ORGANIZATION', '2021-09-01 20:59:16', '횡성축협한우'), ('2021-09-01 20:59:16', '2021-09-01 20:59:16', '남북정상회담', 'EVENT', '2021-09-01 20:59:16', '남북정상회담')]\n",
      "KEYWORD UPSERT : []\n"
     ]
    },
    {
     "name": "stderr",
     "output_type": "stream",
     "text": [
      "\n",
      "\n",
      "\n",
      "\n",
      "\n",
      " 45%|████▌     | 9/20 [00:09<00:10,  1.01it/s]\u001b[A\u001b[A\u001b[A\u001b[A\u001b[A"
     ]
    },
    {
     "name": "stdout",
     "output_type": "stream",
     "text": [
      "ES INSERT : {'title': '홍천강 꽁꽁축제홍천한우 한 점에…몸도 마음도 사르르', 'summary': '늘푸름한우 홍천에서 사육된 순수 혈통의 한우 암소와 우량 형질의 수소 사이에서 태어난 수송아지를 알코올 발효사료를 먹여 27개월 이상 비육한 고급 한우를 쓴다. 늘푸름홍천한우플라자는 홍천군 지정 향토 음식점 1호에 선정된 곳으로 3 5일 정도 숙성시킨 생고기만을 사용한다. 2년 전부터 준비해 온 건조 숙성육 드라이에이징 한우가 출시되면서 큰 인기를 얻고 있다.', 'article_url': 'https://news.naver.com/main/read.nhn?mode=LSD&mid=sec&sid1=102&oid=087&aid=0000784056', 'image_url': 'https://imgnews.pstatic.net/image/087/2020/01/10/0000784056_001_20200110003529472.jpg', 'date': datetime.datetime(2020, 1, 10, 12, 35)}\n",
      "ES INSERT : {'title': '새로 나온 책 인간 그 100개의 가면', 'summary': '고시영 지음 드림북 30년 동안 목회한 저자는 하나님보다 인간 연구에 집중했다. 무엇보다 성경에 등장하는 인간의 삶과 신앙을 추적했다. 성경과 동서양 고전 인문학을 넘나드는 저자의 통찰이 흥미롭게 펼쳐진다.', 'article_url': 'https://news.naver.com/main/read.nhn?mode=LSD&mid=sec&sid1=103&oid=005&aid=0001276848', 'image_url': 'https://imgnews.pstatic.net/image/005/2020/01/10/202001100007_23110924117053_1_20200110000802286.jpg', 'date': datetime.datetime(2020, 1, 10, 12, 8)}\n",
      "KEYWORD UPSERT : [('2021-09-01 20:59:17', '2021-09-01 20:59:17', '한밭제일교회', 'ORGANIZATION', '2021-09-01 20:59:17', '한밭제일교회'), ('2021-09-01 20:59:17', '2021-09-01 20:59:17', '한인선교사회', 'ORGANIZATION', '2021-09-01 20:59:17', '한인선교사회'), ('2021-09-01 20:59:17', '2021-09-01 20:59:17', '이영환', 'PERSON', '2021-09-01 20:59:17', '이영환')]\n",
      "ES INSERT : {'title': '국가직 전환 소방공무원 복지혜택 하향평준화 우려', 'summary': '그러나 최근 매년 1월마다 1년 단위로 지급되던 공무원 복지포인트가 평소의 25% 수준만 지급됐다. 이와 관련 도소방본부는 도내 소방관들의 처우는 크게 달라지지 않을 가능성이 높다고 보고 있다. 도소방본부 관계자는 “신분은 국가직이지만 소속은 시·도인 상황이라 당장 크게 바뀌는 것은 없을 것으로 보인다”며 “시·도별로 차이나는 복지 수준도 한동안은 유지될 가능성이 높다”고 밝혔다. 한편 공무원 복지포인트는 인터넷 복지몰 등에서 현금처럼 사용이 가능하다.', 'article_url': 'https://news.naver.com/main/read.nhn?mode=LSD&mid=sec&sid1=102&oid=087&aid=0000783972', 'image_url': None, 'date': datetime.datetime(2020, 1, 10, 12, 34)}\n"
     ]
    },
    {
     "name": "stderr",
     "output_type": "stream",
     "text": [
      "\n",
      "\n",
      "\n",
      "\n",
      "\n",
      "\n",
      " 45%|████▌     | 9/20 [00:09<00:10,  1.03it/s]\u001b[A\u001b[A\u001b[A\u001b[A\u001b[A\u001b[A\n",
      "\n",
      "\n",
      "\n",
      " 50%|█████     | 10/20 [00:09<00:08,  1.13it/s]\u001b[A\u001b[A\u001b[A\u001b[A\n",
      "\n",
      "\n",
      " 43%|████▎     | 9/21 [00:09<00:11,  1.07it/s]\u001b[A\u001b[A\u001b[A"
     ]
    },
    {
     "name": "stdout",
     "output_type": "stream",
     "text": [
      "KEYWORD UPSERT : [('2021-09-01 20:59:17', '2021-09-01 20:59:17', '기독교', 'ORGANIZATION', '2021-09-01 20:59:17', '기독교')]\n",
      "ES INSERT : {'title': '“자녀는 하나님 선물”… 사랑으로 키운다', 'summary': '7일 미혼모 시설인 서울 서대문구 구세군 두리홈 원장 추남숙 구세군 사관 에서 이씨를 만났다. 이들이 지내는 두리홈은 1926년 설립된 최초의 미혼모 시설이다. 비슷한 환경에 있는 미혼모들이 서로 격려하고 위로하며 희망을 찾아갔다.', 'article_url': 'https://news.naver.com/main/read.nhn?mode=LSD&mid=sec&sid1=103&oid=005&aid=0001276841', 'image_url': 'https://imgnews.pstatic.net/image/005/2020/01/10/202001100005_23110924117087_1_20200110000602282.jpg', 'date': datetime.datetime(2020, 1, 10, 12, 6)}\n",
      "ES INSERT : {'title': '홍천강 꽁꽁축제눈과 얼음은 없지만 추억은 계속됩니다', 'summary': '겨울철 열리는 홍천강 꽁꽁축제 가 매년 관광객들의 눈길을 사로잡는 것도 온 가족이 즐길 수 있도록 프로그램이 다채롭고 이 행사에 참석하고 나면 몸도 마음도 건강해졌다 는 평이 많기 때문입니다. 올해도 10일부터 26일까지 홍천강 일대에서 제8회 홍천강 꽁꽁축제가 펼쳐집니다. 이번 미토 에서는 이 꽁꽁축제를 시작하는 홍천을 소개합니다. 지면의 내용을 참고해 행사장 내 음식판매 부스에서 먹거리를 즐길지 도보로 전통시장과 읍내 맛집을 투어할지 아니면 홍천의 대표 음식점들을 미리 파악하고 예약 방문할지 사전 계획을 세우고 홍천에 오시면 건강한 주말 을 보내실 수 있을 듯합니다.', 'article_url': 'https://news.naver.com/main/read.nhn?mode=LSD&mid=sec&sid1=102&oid=087&aid=0000784053', 'image_url': 'https://imgnews.pstatic.net/image/087/2020/01/10/0000784053_001_20200110003526108.jpg', 'date': datetime.datetime(2020, 1, 10, 12, 35)}\n",
      "KEYWORD UPSERT : [('2021-09-01 20:59:17', '2021-09-01 20:59:17', '늘푸름한우', 'ORGANIZATION', '2021-09-01 20:59:17', '늘푸름한우'), ('2021-09-01 20:59:17', '2021-09-01 20:59:17', '늘푸름홍천한우플라자', 'ARTIFACT', '2021-09-01 20:59:17', '늘푸름홍천한우플라자')]\n",
      "KEYWORD UPSERT : [('2021-09-01 20:59:17', '2021-09-01 20:59:17', '고시영', 'PERSON', '2021-09-01 20:59:17', '고시영'), ('2021-09-01 20:59:17', '2021-09-01 20:59:17', '드림북', 'ORGANIZATION', '2021-09-01 20:59:17', '드림북'), ('2021-09-01 20:59:17', '2021-09-01 20:59:17', '하나님', 'PERSON', '2021-09-01 20:59:17', '하나님'), ('2021-09-01 20:59:17', '2021-09-01 20:59:17', '인문학', 'STUDY_FIELD', '2021-09-01 20:59:17', '인문학')]\n"
     ]
    },
    {
     "name": "stderr",
     "output_type": "stream",
     "text": [
      "\n",
      " 57%|█████▋    | 12/21 [00:10<00:08,  1.08it/s]\u001b[A\n",
      "\n",
      "\n",
      "\n",
      "\n",
      "\n",
      "\n",
      " 45%|████▌     | 9/20 [00:08<00:10,  1.09it/s]\u001b[A\u001b[A\u001b[A\u001b[A\u001b[A\u001b[A\u001b[A\n",
      "\n",
      " 50%|█████     | 10/20 [00:10<00:09,  1.02it/s]\u001b[A\u001b[A"
     ]
    },
    {
     "name": "stdout",
     "output_type": "stream",
     "text": [
      "KEYWORD UPSERT : [('2021-09-01 20:59:17', '2021-09-01 20:59:17', '도소방본부', 'ORGANIZATION', '2021-09-01 20:59:17', '도소방본부')]\n",
      "ES INSERT : {'title': '‘업체 선정 편의대가’ 뇌물 챙긴 재개발조합 조합장·간부들 기소', 'summary': '자료사진 뉴스1 © News1 인천 뉴스1 검찰이 수년에 걸쳐 업체들로부터 수억 상당의 뇌물을 챙겨온 인천 계양의 한 주택재개발조합 전 조합장과 조합 간부 등 총 3명을 재판에 넘겼다. 또 이들에게 뇌물을 제공한 2개 업체 대표를 구속해 재판에 넘기는 한편 뇌물을 제공하거나 범행에 가담한 업체 대표 및 관계자 6명도 함께 기소했다. 인천지검은 10일 뇌물수수 혐의로 인천 계양구 주택재개발조합 전 조합장 A씨 61 와 조합 이사 2명을 각각 불구속 기소했다.', 'article_url': 'https://news.naver.com/main/read.nhn?mode=LSD&mid=sec&sid1=102&oid=421&aid=0004402332', 'image_url': 'https://imgnews.pstatic.net/image/421/2020/01/10/0004402332_001_20200110141608560.jpg', 'date': datetime.datetime(2020, 1, 10, 12, 18)}\n",
      "KEYWORD UPSERT : [('2021-09-01 20:59:17', '2021-09-01 20:59:17', '두리홈', 'ORGANIZATION', '2021-09-01 20:59:17', '두리홈'), ('2021-09-01 20:59:17', '2021-09-01 20:59:17', '추남숙', 'PERSON', '2021-09-01 20:59:17', '추남숙'), ('2021-09-01 20:59:17', '2021-09-01 20:59:17', '두리홈', 'ARTIFACT', '2021-09-01 20:59:17', '두리홈')]\n",
      "ES INSERT : {'title': '홍천홍천군 올해 예산 규모 도내 4위', 'summary': '개청 이후 처음…일반회계 예산 역대 최대 5 501억원 잿골체육공원·도로 확장 등 활발한 인프라 구축 원인 홍천 홍천군의 올해 예산 규모가 사상 최초로 도내 Big 4 에 올랐다. 9일 홍천군에 따르면 2020년도 군의 본예산 규모는 6 106억2 700만원으로 지난해 5 603억원 보다 8.98%가량 증가했다. 군은 이 같은 예산 증가의 원인으로 잿골체육공원 및 장애인체육관 건립 등 주민편의시설 확충 도로·상하수도 시설 확장공사 등 활발한 도시 인프라 구축을 꼽았다.', 'article_url': 'https://news.naver.com/main/read.nhn?mode=LSD&mid=sec&sid1=102&oid=087&aid=0000784020', 'image_url': None, 'date': datetime.datetime(2020, 1, 10, 12, 34)}\n",
      "ES INSERT : {'title': '경남 찾은 황교안 총선서 16석 다 차지…승리의 길 열어달라', 'summary': '2020.1.10 뉴스1 © News1 창원·서울 뉴스1 이균진 기자 정지형 기자 황교안 자유한국당 대표가 10일 이번 총선에서 우리가 꼭 경남 16석을 다 차지해 제가 꽃다발을 들고 올 수 있도록 승리의 길을 열어주길 바란다 고 밝혔다. 이어 올해 우리의 공통된 목표는 문재인 정권을 심판하고 총선에서 승리하는 것 이라고 강조했다. 황 대표는 문재인 정권이 민생 얘기하는 것을 얼마 전까지 못 들어봤다.', 'article_url': 'https://news.naver.com/main/read.nhn?mode=LSD&mid=sec&sid1=102&oid=421&aid=0004402335', 'image_url': 'https://imgnews.pstatic.net/image/421/2020/01/10/0004402335_001_20200110122308220.jpg', 'date': datetime.datetime(2020, 1, 10, 12, 22)}\n",
      "KEYWORD UPSERT : [('2021-09-01 20:59:17', '2021-09-01 20:59:17', '미토', 'EVENT', '2021-09-01 20:59:17', '미토')]\n"
     ]
    },
    {
     "name": "stderr",
     "output_type": "stream",
     "text": [
      "\n",
      "\n",
      "\n",
      "\n",
      "\n",
      " 50%|█████     | 10/20 [00:09<00:09,  1.08it/s]\u001b[A\u001b[A\u001b[A\u001b[A\u001b[A\n",
      "\n",
      "\n",
      "\n",
      " 55%|█████▌    | 11/20 [00:10<00:07,  1.26it/s]\u001b[A\u001b[A\u001b[A\u001b[A"
     ]
    },
    {
     "name": "stdout",
     "output_type": "stream",
     "text": [
      "ES INSERT : {'title': '사이드 뉴스 서울 청약종합저축 1순위자 300만명 돌파 外', 'summary': '서울 청약종합저축 1순위자 300만명 돌파 서울지역 주택청약 종합저축 1순위 가입자 수가 처음 300만명을 넘었습니다. 금융결제원에 따르면 지난해 11월 말 기준 서울 주택청약종합저축 가입자 590만221명 가운데 청약 1순위 자격을 얻은 사람은 300만8 928명으로 집계됐습니다. 정부의 청약자격 규제에도 청약 저축 가입자가 계속 늘어나는 것은 분양가 상한제 시행 등으로 당첨 시 시세차익이 커졌기 때문으로 분석됩니다.', 'article_url': 'https://news.naver.com/main/read.nhn?mode=LSD&mid=sec&sid1=102&oid=422&aid=0000409298', 'image_url': 'https://imgnews.pstatic.net/image/422/2020/01/10/MYH20200110008500038_20200110130509373.jpg', 'date': datetime.datetime(2020, 1, 10, 13, 5)}\n",
      "KEYWORD UPSERT : [('2021-09-01 20:59:17', '2021-09-01 20:59:17', '인천지검', 'ORGANIZATION', '2021-09-01 20:59:17', '인천지검'), ('2021-09-01 20:59:17', '2021-09-01 20:59:17', '인천', 'ORGANIZATION', '2021-09-01 20:59:17', '인천')]\n",
      "ES INSERT : {'title': '서대문구 2020 새내기 학부모 교실 운영', 'summary': '2월4 6일 선배 학부모들 자녀의 학교생활 적응 노하우 전수 아시아경제 서대문구 구청장 문석진 가 서대문혁신교육지구 사업 일환으로 2월4일부터 6일까지 구청 3층 기획상황실에서 ‘2020 새내기 학부모 교실’을 4회 개최한다. 이 교실은 현직 교사의 강의와 서대문학부모네트워크에서 활동하는 선배 학부모들과 대화를 통해 초등학교와 중학교 입학생 자녀를 둔 학부모들이 꼭 알아야 할 유익한 내용들로 꾸며진다. 문석진 구청장은 “자녀 학교생활 적응에 실질적 도움을 줄 수 있도록 마련한 이번 교실에 새내기 학부모들의 많은 참여를 기대하며 새해에도 서대문 지방정부는 교육기회 공정성과 공교육 서비스 질 향상을 적극 지원하겠다”고 밝혔다.', 'article_url': 'https://news.naver.com/main/read.nhn?mode=LSD&mid=sec&sid1=102&oid=277&aid=0004603778', 'image_url': 'https://imgnews.pstatic.net/image/277/2020/01/10/0004603778_001_20200110124705766.jpg', 'date': datetime.datetime(2020, 1, 10, 12, 47)}\n",
      "ES INSERT : {'title': '도 출신 김관정·박순철·이두봉 검사 1964년생 동갑내기 3인방 요직 배치', 'summary': '법무부의 대검 검사급 검사장 간부 승진·전보 인사 본보 9일자 1면 보도 에서 도 출신 김관정·박순철·이두봉 검사 등 1964년생 동갑내기 3명이 요직에 배치돼 관심을 모은다. 오는 13일자로 승진과 함께 대검 형사부장으로 영전하는 김관정 의정부지검 고양지청장은 강릉 출신으로 김선정 도자원봉사센터협의회장의 동생이다. 양양 출신으로 대전지검장에 전보된 이두봉 대검 과학수사부장은 강릉고와 서울대 공법학과 서울대 대학원 법학과를 졸업했다.', 'article_url': 'https://news.naver.com/main/read.nhn?mode=LSD&mid=sec&sid1=102&oid=087&aid=0000784009', 'image_url': None, 'date': datetime.datetime(2020, 1, 10, 12, 34)}\n",
      "KEYWORD UPSERT : [('2021-09-01 20:59:17', '2021-09-01 20:59:17', '홍천군', 'ORGANIZATION', '2021-09-01 20:59:17', '홍천군')]\n",
      "ES INSERT : {'title': '1월10일 지옥훈련으로 21세기 기업맨 양성 오래 전 이날', 'summary': '1990년 오늘 1월10일 ‘신입사원 특훈’ 21세기 기업맨 “창조” 라는 경향신문의 기사는 당시 기업들이 신입사원을 대상으로 시작한 ‘군대식 행사’를 마치 21세기를 맞기 위한 준비작업인 것처럼 소개하고 있습니다. 20년 전만 해도 직장 내 군대문화 직장 내 민주주의에 대한 성찰과 고민이 부족했음을 보여주는 기사입니다. 기사는 “신입사원들을 기업이 필요한 인재로 양성시키기 위한 신입사원 연수교육에 대한 기업들의 관심이 갈수록 뜨거워지고 있다”면서 삼성·현대·럭키금성·대우·쌍용·선경그룹 등의 신입사원 교육 프로그램을 소개합니다.', 'article_url': 'https://news.naver.com/main/read.nhn?mode=LSD&mid=sec&sid1=102&oid=032&aid=0002985368', 'image_url': 'https://imgnews.pstatic.net/image/032/2020/01/10/0002985368_001_20200115101605705.jpg', 'date': datetime.datetime(2020, 1, 10, 12, 51)}\n",
      "KEYWORD UPSERT : [('2021-09-01 20:59:17', '2021-09-01 20:59:17', '정지형', 'PERSON', '2021-09-01 20:59:17', '정지형'), ('2021-09-01 20:59:17', '2021-09-01 20:59:17', '황교안', 'PERSON', '2021-09-01 20:59:17', '황교안'), ('2021-09-01 20:59:17', '2021-09-01 20:59:17', '이균진', 'PERSON', '2021-09-01 20:59:17', '이균진'), ('2021-09-01 20:59:17', '2021-09-01 20:59:17', '자유한국당', 'ORGANIZATION', '2021-09-01 20:59:17', '자유한국당'), ('2021-09-01 20:59:17', '2021-09-01 20:59:17', '문재인', 'PERSON', '2021-09-01 20:59:17', '문재인')]\n"
     ]
    },
    {
     "name": "stderr",
     "output_type": "stream",
     "text": [
      "\n",
      "\n",
      "\n",
      "\n",
      "\n",
      "\n",
      " 50%|█████     | 10/20 [00:09<00:09,  1.10it/s]\u001b[A\u001b[A\u001b[A\u001b[A\u001b[A\u001b[A\n",
      "\n",
      "\n",
      " 48%|████▊     | 10/21 [00:10<00:09,  1.17it/s]\u001b[A\u001b[A\u001b[A\n",
      "\n",
      " 55%|█████▌    | 11/20 [00:11<00:07,  1.18it/s]\u001b[A\u001b[A\n",
      "\n",
      "\n",
      "\n",
      "\n",
      "\n",
      "\n",
      " 50%|█████     | 10/20 [00:09<00:08,  1.20it/s]\u001b[A\u001b[A\u001b[A\u001b[A\u001b[A\u001b[A\u001b[A"
     ]
    },
    {
     "name": "stdout",
     "output_type": "stream",
     "text": [
      "KEYWORD UPSERT : [('2021-09-01 20:59:18', '2021-09-01 20:59:18', '금융결제원', 'ORGANIZATION', '2021-09-01 20:59:18', '금융결제원')]\n",
      "ES INSERT : {'title': '춘천여고 엄서이 전체 3순위 BNK 유니폼', 'summary': '女프로농구 신인 드래프트 KB 1순위로 허예은 지명 여자프로농구 부산 BNK가 신인 드래프트 전체 3순위로 엄서이 춘천여고·19·175.4㎝·사진 를 지명했다. 부산 BNK는 9일 인천 하나은행 연습체육관에서 열린 한국여자농구연맹 WKBL 2019 2020 신입 선수 선발회에서 전체 3순위 지명권을 얻어 엄서이를 영입했다. 한편 전체 1순위로는 청주 KB가 상주여고 졸업을 앞둔 가드 허예은 19·165㎝ 을 지명했다.', 'article_url': 'https://news.naver.com/main/read.nhn?mode=LSD&mid=sec&sid1=102&oid=087&aid=0000784037', 'image_url': 'https://imgnews.pstatic.net/image/087/2020/01/10/0000784037_001_20200110003510840.jpg', 'date': datetime.datetime(2020, 1, 10, 12, 35)}\n",
      "KEYWORD UPSERT : [('2021-09-01 20:59:18', '2021-09-01 20:59:18', '김선정', 'PERSON', '2021-09-01 20:59:18', '김선정'), ('2021-09-01 20:59:18', '2021-09-01 20:59:18', '법무부', 'ORGANIZATION', '2021-09-01 20:59:18', '법무부'), ('2021-09-01 20:59:18', '2021-09-01 20:59:18', '김관정', 'PERSON', '2021-09-01 20:59:18', '김관정'), ('2021-09-01 20:59:18', '2021-09-01 20:59:18', '박순철', 'PERSON', '2021-09-01 20:59:18', '박순철'), ('2021-09-01 20:59:18', '2021-09-01 20:59:18', '서울대', 'ORGANIZATION', '2021-09-01 20:59:18', '서울대'), ('2021-09-01 20:59:18', '2021-09-01 20:59:18', '강릉고', 'ORGANIZATION', '2021-09-01 20:59:18', '강릉고'), ('2021-09-01 20:59:18', '2021-09-01 20:59:18', '의정부지검', 'ORGANIZATION', '2021-09-01 20:59:18', '의정부지검'), ('2021-09-01 20:59:18', '2021-09-01 20:59:18', '이두봉', 'PERSON', '2021-09-01 20:59:18', '이두봉')]\n",
      "ES INSERT : {'title': '영화 속 강원도골든글로브 봉준호의 슈퍼돼지 옥자 자라난 천혜자연', 'summary': '영화 옥자 는 강원도 산골 소녀 미자 안서현 가 탐욕스러운 세상에 맞서 10년지기 친구인 슈퍼돼지 옥자 를 구출하기 위해 떠나는 위험천만한 여정을 담고 있다. 녹색의 이끼를 타고 하얀 포말을 일으키며 떨어지는 폭포의 자태가 일품인 곳이다. 강원대 도계캠퍼스를 출발해 육백산 정상을 찍고 하산 길에 들러도 되지만 폭포만 보고 싶다면 산기리 마을회관에서부터 트레킹을 시작해도 된다.', 'article_url': 'https://news.naver.com/main/read.nhn?mode=LSD&mid=sec&sid1=102&oid=087&aid=0000783901', 'image_url': None, 'date': datetime.datetime(2020, 1, 10, 12, 33)}\n",
      "KEYWORD UPSERT : [('2021-09-01 20:59:18', '2021-09-01 20:59:18', '문석진', 'PERSON', '2021-09-01 20:59:18', '문석진'), ('2021-09-01 20:59:18', '2021-09-01 20:59:18', '서대문학부모네트워크', 'ORGANIZATION', '2021-09-01 20:59:18', '서대문학부모네트워크'), ('2021-09-01 20:59:18', '2021-09-01 20:59:18', '지방정부', 'ORGANIZATION', '2021-09-01 20:59:18', '지방정부')]\n"
     ]
    },
    {
     "name": "stderr",
     "output_type": "stream",
     "text": [
      "\n",
      " 62%|██████▏   | 13/21 [00:11<00:06,  1.14it/s]\u001b[A\n",
      "\n",
      "\n",
      "\n",
      "\n",
      " 55%|█████▌    | 11/20 [00:10<00:07,  1.26it/s]\u001b[A\u001b[A\u001b[A\u001b[A\u001b[A"
     ]
    },
    {
     "name": "stdout",
     "output_type": "stream",
     "text": [
      "KEYWORD UPSERT : [('2021-09-01 20:59:18', '2021-09-01 20:59:18', '선경그룹', 'ORGANIZATION', '2021-09-01 20:59:18', '선경그룹'), ('2021-09-01 20:59:18', '2021-09-01 20:59:18', '삼성', 'ORGANIZATION', '2021-09-01 20:59:18', '삼성'), ('2021-09-01 20:59:18', '2021-09-01 20:59:18', '민주주의', 'THEORY', '2021-09-01 20:59:18', '민주주의'), ('2021-09-01 20:59:18', '2021-09-01 20:59:18', '럭키금성', 'ORGANIZATION', '2021-09-01 20:59:18', '럭키금성'), ('2021-09-01 20:59:18', '2021-09-01 20:59:18', '쌍용', 'ORGANIZATION', '2021-09-01 20:59:18', '쌍용')]\n",
      "ES INSERT : {'title': '손흥민 골침묵 깨고 무패 선두 격침시킨다', 'summary': '토트넘은 한국시간으로 12일 새벽 2시30분 영국 런던의 토트넘 홋스퍼 스타디움에서 리버풀과 2019 2020 프리미어리그 EPL 22라운드 홈경기를 치른다. 최근 정규리그 2경기 무승 1무1패 에 핵심 자원의 줄부상까지 악재가 겹쳤다. 손흥민의 발끝에서 최강 리버풀을 함락시킬 슈퍼골 한 방이 절실한 상황이다.', 'article_url': 'https://news.naver.com/main/read.nhn?mode=LSD&mid=sec&sid1=102&oid=087&aid=0000784038', 'image_url': 'https://imgnews.pstatic.net/image/087/2020/01/10/0000784038_001_20200110003511917.jpg', 'date': datetime.datetime(2020, 1, 10, 12, 35)}\n",
      "ES INSERT : {'title': '우리동네 동호회“20대부터 60대까지 작은 셔틀콕 하나로 직장생활에 활력”', 'summary': '강릉시청 배드민턴 동호회인 임영클럽 회원들도 셔틀콕을 쫓으며 어느새 운동의 매력에 흠뻑 빠진 사람들이다. 이들은 운동이 무료해지기 쉬운 직장 생활에 활력을 불어넣어 주는 역할을 톡톡히 하고 있다고 이구동성으로 말했다. 회원들은 매주 월·수·금요일이면 일과를 마치고 귀가해 가볍게 식사를 하고 운동복으로 갈아입은 뒤 오후 8시까지 황영조체육관에 모여 밤 10시까지 2시간 동안 함께 운동한다.', 'article_url': 'https://news.naver.com/main/read.nhn?mode=LSD&mid=sec&sid1=102&oid=087&aid=0000784049', 'image_url': 'https://imgnews.pstatic.net/image/087/2020/01/10/0000784049_001_20200110003520884.jpg', 'date': datetime.datetime(2020, 1, 10, 12, 35)}\n",
      "KEYWORD UPSERT : [('2021-09-01 20:59:18', '2021-09-01 20:59:18', '춘천여고', 'ORGANIZATION', '2021-09-01 20:59:18', '춘천여고'), ('2021-09-01 20:59:18', '2021-09-01 20:59:18', '상주여고', 'ORGANIZATION', '2021-09-01 20:59:18', '상주여고'), ('2021-09-01 20:59:18', '2021-09-01 20:59:18', '한국여자농구연맹', 'ORGANIZATION', '2021-09-01 20:59:18', '한국여자농구연맹'), ('2021-09-01 20:59:18', '2021-09-01 20:59:18', '허예은', 'PERSON', '2021-09-01 20:59:18', '허예은'), ('2021-09-01 20:59:18', '2021-09-01 20:59:18', '엄서이', 'PERSON', '2021-09-01 20:59:18', '엄서이')]\n"
     ]
    },
    {
     "name": "stderr",
     "output_type": "stream",
     "text": [
      "\n",
      "\n",
      "\n",
      "\n",
      " 60%|██████    | 12/20 [00:10<00:05,  1.35it/s]\u001b[A\u001b[A\u001b[A\u001b[A\n",
      "\n",
      "\n",
      "\n",
      "\n",
      "\n",
      " 55%|█████▌    | 11/20 [00:10<00:07,  1.22it/s]\u001b[A\u001b[A\u001b[A\u001b[A\u001b[A\u001b[A\n",
      "\n",
      "\n",
      " 52%|█████▏    | 11/21 [00:10<00:07,  1.28it/s]\u001b[A\u001b[A\u001b[A"
     ]
    },
    {
     "name": "stdout",
     "output_type": "stream",
     "text": [
      "ES INSERT : {'title': '15일 성동사랑상품권 발행… 일부 학원서도 사용 가능해', 'summary': '서울 성동구는 지역경제 활성화를 위해 오는 15일부터 30억 원 규모의 ‘성동사랑상품권’을 발행한다고 10일 밝혔다. 이 상품권은 성동구 내 제로페이 가맹점에서만 사용이 가능한 지역 모바일 상품권이다. 지역소비 촉진을 유도해 소상공인 매출 증대와 지역경제 활성화를 도모하기 위해 마련됐다.', 'article_url': 'https://news.naver.com/main/read.nhn?mode=LSD&mid=sec&sid1=102&oid=021&aid=0002413573', 'image_url': None, 'date': datetime.datetime(2020, 1, 10, 12, 11)}\n",
      "ES INSERT : {'title': '원주무료주차장 놔두고 얌체 불법주차 기승', 'summary': '원주 신승우기자 원주 문막중앙시장 주차장 이용률 저조 시 “단속 강화할 것” 원주 문막중앙시장과 4차선 도로를 두고 마주하는 무료 공영주차장이 주민들로부터 외면받으며 불법주정차 문제가 반복되고 있다. 인근 상인 A씨는 “문막공영주차장이 단 5 10분의 도보 이동도 꺼려하는 얌체 주민들로 조성 취지가 무색해졌다”며 “특히 장날에는 도로가에 불법주정차량 행렬이 줄을 잇는다”고 말했다. 이병철 시 교통행정과장은 “이동형 CCTV 단속 강화 등 문막 공영주차장 이용 활성화를 유도하겠다”고 말했다.', 'article_url': 'https://news.naver.com/main/read.nhn?mode=LSD&mid=sec&sid1=102&oid=087&aid=0000784033', 'image_url': 'https://imgnews.pstatic.net/image/087/2020/01/10/0000784033_001_20200110003507655.jpg', 'date': datetime.datetime(2020, 1, 10, 12, 35)}\n",
      "KEYWORD UPSERT : [('2021-09-01 20:59:18', '2021-09-01 20:59:18', '옥자', 'ARTIFACT', '2021-09-01 20:59:18', '옥자'), ('2021-09-01 20:59:18', '2021-09-01 20:59:18', '옥자', 'PERSON', '2021-09-01 20:59:18', '옥자'), ('2021-09-01 20:59:18', '2021-09-01 20:59:18', '안서현', 'PERSON', '2021-09-01 20:59:18', '안서현')]\n",
      "ES INSERT : {'title': '새영화우주전쟁 마지막 여정 스타워즈…동물들과 떠나는 모험 닥터 두리틀', 'summary': '스타워즈 라이즈 오브 스카이워커 9번째 시리즈 화려한 액션 눈길 선·악대립 뚜렷 전개 다소 빈약 공상과학 SF 영화의 대표적인 시리즈로 불리는 스타워즈 의 아홉번째 영화 스타워즈 라이즈 오브 스카이워커 가 지난 8일 개봉했다. 다만 선과 악의 대립이 너무나 선명한 탓인지 스토리의 힘이 약하게 느껴지는 점은 아쉽다. 2008년 개봉한 영화 아이언맨 을 시작으로 지난해 어벤져스 엔드게임 까지 10년이 넘는 시간 동안 지구와 우주를 넘나드는 영웅으로 관객들을 만나온 로버트 다우니 주니어가 선택한 차기작이어서 기대가 큰 작품이다.', 'article_url': 'https://news.naver.com/main/read.nhn?mode=LSD&mid=sec&sid1=102&oid=087&aid=0000783900', 'image_url': 'https://imgnews.pstatic.net/image/087/2020/01/10/0000783900_001_20200110003314535.jpg', 'date': datetime.datetime(2020, 1, 10, 12, 33)}\n",
      "KEYWORD UPSERT : [('2021-09-01 20:59:18', '2021-09-01 20:59:18', '프리미어리그', 'ORGANIZATION', '2021-09-01 20:59:18', '프리미어리그'), ('2021-09-01 20:59:18', '2021-09-01 20:59:18', '홈경기', 'EVENT', '2021-09-01 20:59:18', '홈경기'), ('2021-09-01 20:59:18', '2021-09-01 20:59:18', '토트넘', 'ORGANIZATION', '2021-09-01 20:59:18', '토트넘'), ('2021-09-01 20:59:18', '2021-09-01 20:59:18', '리버풀', 'ORGANIZATION', '2021-09-01 20:59:18', '리버풀'), ('2021-09-01 20:59:18', '2021-09-01 20:59:18', '정규리그', 'EVENT', '2021-09-01 20:59:18', '정규리그'), ('2021-09-01 20:59:18', '2021-09-01 20:59:18', '손흥민', 'PERSON', '2021-09-01 20:59:18', '손흥민'), ('2021-09-01 20:59:18', '2021-09-01 20:59:18', '22라운드', 'EVENT', '2021-09-01 20:59:18', '22라운드')]\n",
      "KEYWORD UPSERT : [('2021-09-01 20:59:18', '2021-09-01 20:59:18', '황영조체육관', 'ARTIFACT', '2021-09-01 20:59:18', '황영조체육관'), ('2021-09-01 20:59:18', '2021-09-01 20:59:18', '임영클럽', 'ORGANIZATION', '2021-09-01 20:59:18', '임영클럽'), ('2021-09-01 20:59:18', '2021-09-01 20:59:18', '강릉시청', 'ORGANIZATION', '2021-09-01 20:59:18', '강릉시청')]\n"
     ]
    },
    {
     "name": "stderr",
     "output_type": "stream",
     "text": [
      "\n",
      " 67%|██████▋   | 14/21 [00:12<00:05,  1.30it/s]\u001b[A\n",
      "\n",
      "\n",
      "\n",
      "\n",
      "\n",
      "\n",
      " 55%|█████▌    | 11/20 [00:10<00:06,  1.32it/s]\u001b[A\u001b[A\u001b[A\u001b[A\u001b[A\u001b[A\u001b[A\n",
      "\n",
      " 60%|██████    | 12/20 [00:11<00:06,  1.26it/s]\u001b[A\u001b[A"
     ]
    },
    {
     "name": "stdout",
     "output_type": "stream",
     "text": [
      "ES INSERT : {'title': '고성남북교류사업 추진 동력 상실 우려 당혹', 'summary': '이경일 고성군수 당선무효 확정판결 금강산 관광 재개 등 군정공백 최소화 목소리 재선거 지역 분열 걱정도 이 군수 군민께 사죄 공직선거법 위반으로 재판을 받고 있는 이경일 고성군수가 9일 군수직을 상실하면서 지역사회가 술렁이고 있다. 고성군청은 침묵에 휩싸인 채 당혹해하는 분위기다. 지역사회에서는 남북교류협력 시대를 준비하기 위해 추진해 온 역점사업들이 추진 동력을 잃어 멈춰 서지 않을지 우려감이 커지고 있다. 자영업을 하고 있는 김모 65 씨는 “재판에서 줄곧 당선 무효형이 선고돼 어느 정도 예상은 했지만 여러가지로 착잡하다”며 “당장 눈앞에 닥친 재선거로 지역사회가 또 다시 분열되지 않았으면 좋겠다”고 말했다.', 'article_url': 'https://news.naver.com/main/read.nhn?mode=LSD&mid=sec&sid1=102&oid=087&aid=0000783943', 'image_url': None, 'date': datetime.datetime(2020, 1, 10, 12, 33)}\n",
      "KEYWORD UPSERT : [('2021-09-01 20:59:18', '2021-09-01 20:59:18', '성동구', 'ORGANIZATION', '2021-09-01 20:59:18', '성동구'), ('2021-09-01 20:59:18', '2021-09-01 20:59:18', '성동사랑상품권', 'ARTIFACT', '2021-09-01 20:59:18', '성동사랑상품권')]\n",
      "KEYWORD UPSERT : [('2021-09-01 20:59:18', '2021-09-01 20:59:18', '신승우', 'PERSON', '2021-09-01 20:59:18', '신승우'), ('2021-09-01 20:59:18', '2021-09-01 20:59:18', '이병철', 'PERSON', '2021-09-01 20:59:18', '이병철')]\n",
      "ES INSERT : {'title': '中 험담했다고 식당서 시비… 탈북민 폭행한 조선족 영장', 'summary': '서울의 한 식당에서 중국에 대해 험담을 한다는 이유로 시비가 붙은 탈북민을 폭행하고 달아난 중국 국적 조선족 A 씨에 대해 검찰이 구속영장을 청구했다. A 씨는 지난달 26일 영등포구 대림동의 한 식당에서 탈북민 B 씨를 둔기로 가격하고 달아난 혐의를 받고 있다. 그러자 중국인 손님들이 “지금 중국인을 욕하는 것이냐”며 B 씨와 몸싸움을 벌이기 시작했고 이를 지켜보던 A 씨가 둔기로 B 씨의 머리를 내리치고 식당을 빠져나간 것으로 전해졌다.', 'article_url': 'https://news.naver.com/main/read.nhn?mode=LSD&mid=sec&sid1=102&oid=021&aid=0002413596', 'image_url': None, 'date': datetime.datetime(2020, 1, 10, 12, 31)}\n",
      "KEYWORD UPSERT : [('2021-09-01 20:59:18', '2021-09-01 20:59:18', '공상과학', 'STUDY_FIELD', '2021-09-01 20:59:18', '공상과학'), ('2021-09-01 20:59:18', '2021-09-01 20:59:18', '스타워즈', 'ARTIFACT', '2021-09-01 20:59:18', '스타워즈'), ('2021-09-01 20:59:18', '2021-09-01 20:59:18', '아이언맨', 'ARTIFACT', '2021-09-01 20:59:18', '아이언맨')]\n",
      "ES INSERT : {'title': '강릉사천해변 바닷물 범람 대책 시급', 'summary': '주민들 “2차 피해 불안” 시 테트라포드 제작·투하 강릉 지난 8일 동해안에서 높은 파도로 인해 강릉 사천해변 주변 도로가 바닷물에 침수되는 등 피해가 잇따르면서 월파 越波 방지 개선책이 시급하다는 주장이 제기됐다. 이날 사천해변은 파도의 쳐오름 작용에 의해 바닷물이 방파제나 방조제의 마루를 넘는 월파로 인해 해변 주변도로에 모래와 각종 해양 쓰레기로 넘쳐났다. 풍랑경보가 발효된 8일 오후 주문진 해안도로는 통제됐다가 밤 11시30분 정도 해제됐고 강동면 심곡리와 옥계면 금진리를 잇는 헌화로는 9일 오전부터 정상 통행을 하기 시작했다.', 'article_url': 'https://news.naver.com/main/read.nhn?mode=LSD&mid=sec&sid1=102&oid=087&aid=0000783951', 'image_url': 'https://imgnews.pstatic.net/image/087/2020/01/10/0000783951_001_20200110003358507.jpg', 'date': datetime.datetime(2020, 1, 10, 12, 33)}\n"
     ]
    },
    {
     "name": "stderr",
     "output_type": "stream",
     "text": [
      "\n",
      "\n",
      "\n",
      "\n",
      "\n",
      " 60%|██████    | 12/20 [00:11<00:06,  1.32it/s]\u001b[A\u001b[A\u001b[A\u001b[A\u001b[A\n",
      "\n",
      "\n",
      "\n",
      " 65%|██████▌   | 13/20 [00:11<00:04,  1.43it/s]\u001b[A\u001b[A\u001b[A\u001b[A\n",
      "\n",
      "\n",
      "\n",
      "\n",
      "\n",
      " 60%|██████    | 12/20 [00:11<00:06,  1.31it/s]\u001b[A\u001b[A\u001b[A\u001b[A\u001b[A\u001b[A"
     ]
    },
    {
     "name": "stdout",
     "output_type": "stream",
     "text": [
      "ES INSERT : {'title': '여행사 상대로 외유성 출장계획 노골적으로 요구한 자치단체', 'summary': '하지만 실제용에는 해당 시간대에 호텔 체크인 및 휴식 외에 다른 일정이 없다. 이에 대해 서울의 해당 자치단체 관계자는 “편의상 2가지 종류의 일정이 있다고 여행사 측에서 제출해 온 것이며 현재는 모든 일정을 취소했다”고 말했다. 하지만 여행사 측은 “해당 관공서에서 먼저 제출용 일정과 실제 일정을 별도로 요구해 작성하게 됐다”고 밝혀 향후 이를 둘러싼 논란이 이어질 것으로 예상된다.', 'article_url': 'https://news.naver.com/main/read.nhn?mode=LSD&mid=sec&sid1=102&oid=087&aid=0000784005', 'image_url': None, 'date': datetime.datetime(2020, 1, 10, 12, 34)}\n",
      "KEYWORD UPSERT : [('2021-09-01 20:59:19', '2021-09-01 20:59:19', '고성군청', 'ORGANIZATION', '2021-09-01 20:59:19', '고성군청'), ('2021-09-01 20:59:19', '2021-09-01 20:59:19', '남북', 'ORGANIZATION', '2021-09-01 20:59:19', '남북'), ('2021-09-01 20:59:19', '2021-09-01 20:59:19', '이경일', 'PERSON', '2021-09-01 20:59:19', '이경일')]\n",
      "ES INSERT : {'title': '울산시TBN ‘라디오 재난 예방 방송’ 실시…4주 간격 총 13회', 'summary': '미세먼지 화재 등 주제 오후 5시 30분부터 10분간 진행 TBN 울산교통방송 헤럴드경제 울산 울산시는 10일 시기별로 빈발하는 재난 피해를 최소화하기 위해 TBN 울산교통방송과 재난예방 라디오 방송을 추진한다고 밝혔다. 이 방송은 안전사고 대비 방법과 정책 홍보를 통해 시민들의 재난 대처 능력 향상을 위해 마련됐다. 올해 재난 예방 방송은 시기별로 발생 빈도가 높은 재난을 선정해 ▷ 풍수해 대설한파 산불 각 2회 ▷ 폭염 지진 미세먼지 지역축제 공연행사 방사능 방재 각 1회 등 9개 분야로 구성됐다.', 'article_url': 'https://news.naver.com/main/read.nhn?mode=LSD&mid=sec&sid1=102&oid=016&aid=0001622967', 'image_url': 'https://imgnews.pstatic.net/image/016/2020/01/10/20200110000361_0_20200110120502030.jpg', 'date': datetime.datetime(2020, 1, 10, 12, 5)}\n",
      "ES INSERT : {'title': '화천공무원 총출동 산천어축제장 복구 총력', 'summary': '군은 최근 내린 겨울비에도 물을 퍼내고 양수기를 풀가동하며 축구장 26개 면적의 얼음판 가운데 70%가량을 보호하는 데 성공했다고 밝혔다. 군청 공무원들은 9일에도 실·과별로 현장에 대거 투입돼 축제 프로그램 시설물 재정비를 비롯해 곳곳에 쌓인 부유물 제거에 안간힘을 쓰고 있다. 군은 축제 일정을 최종 결정하는 재 나라 이사회가 11일 예정됨에 따라 그 이전에 할 수 있는 모든 조치를 다하고 있다.', 'article_url': 'https://news.naver.com/main/read.nhn?mode=LSD&mid=sec&sid1=102&oid=087&aid=0000783930', 'image_url': 'https://imgnews.pstatic.net/image/087/2020/01/10/0000783930_001_20200110003342492.jpg', 'date': datetime.datetime(2020, 1, 10, 12, 33)}\n",
      "KEYWORD UPSERT : []\n",
      "ES INSERT : {'title': '식품용 부적합 중국산 고무장갑 공산품 속여 반입해 온라인 판매', 'summary': '하지만 지난해 11월 26일 이 제품은 아연 검출량이 기준치를 초과해 식품의약품안전처로부터 식품용 부적합 판정을 받았다. 이에 해당 업체는 같은 제품에 대해 식품용 신고를 하지 않고 식약처 검사를 회피해 공산품으로 반입한 뒤 온라인 소규모 펀딩 투자 등 방식으로 판매하다 식약처에 수입식품안전관리특별법 위반으로 적발됐다. 법적으로 식품용으로 신고가 되지 않으면 사전에 식약처 검사를 받을 의무가 없는 만큼 이 같은 허점은 계속해서 남아있을 것으로 보인다.', 'article_url': 'https://news.naver.com/main/read.nhn?mode=LSD&mid=sec&sid1=102&oid=021&aid=0002413595', 'image_url': None, 'date': datetime.datetime(2020, 1, 10, 12, 31)}\n",
      "KEYWORD UPSERT : []\n"
     ]
    },
    {
     "name": "stderr",
     "output_type": "stream",
     "text": [
      "\n",
      "\n",
      "\n",
      " 57%|█████▋    | 12/21 [00:11<00:06,  1.34it/s]\u001b[A\u001b[A\u001b[A\n",
      " 71%|███████▏  | 15/21 [00:12<00:04,  1.41it/s]\u001b[A\n",
      "\n",
      "\n",
      "\n",
      "\n",
      "\n",
      "\n",
      " 60%|██████    | 12/20 [00:10<00:05,  1.42it/s]\u001b[A\u001b[A\u001b[A\u001b[A\u001b[A\u001b[A\u001b[A\n",
      "\n",
      " 65%|██████▌   | 13/20 [00:12<00:05,  1.36it/s]\u001b[A\u001b[A"
     ]
    },
    {
     "name": "stdout",
     "output_type": "stream",
     "text": [
      "ES INSERT : {'title': '경북혁신센터 스타트업 육성 사업 강화…G스타 드리머 14기 모집', 'summary': '경북창조경제혁신센터 이하 경북혁신센터 가 올해 스타트업 발굴·육성프로그램 G스타 드리머 G Star Dreamers 사업을 강화한다. 또 전담기업인 삼성전자와 연계를 강화해 분야별 멘토링을 강화한다. 또 삼성전자와 협력해 IR컨설팅과 데모데이 등 국내 시장 진입 및 글로벌 진출에 필요한 후속 자금 조달을 위한 연계사업도 지원한다.', 'article_url': 'https://news.naver.com/main/read.nhn?mode=LSD&mid=sec&sid1=102&oid=030&aid=0002861803', 'image_url': 'https://imgnews.pstatic.net/image/030/2020/01/10/0002861803_001_20200112160719173.jpg', 'date': datetime.datetime(2020, 1, 10, 12, 57)}\n",
      "KEYWORD UPSERT : []\n",
      "ES INSERT : {'title': '성남시 28개 지역공동체 일자리 지원', 'summary': '사업 기간은 오는 3월 1일부터 6월 30일까지 4개월간이다. 올해 지역공동체 일자리 사업 예산 18억2700만원 가운데 절반이 투입된다. 참여자는 자전거 재활용센터 운영 성남시민농원 조성 낙엽 퇴비화 마을 텃밭·꽃길·화단 조성 탄천 생태습지 관리 생물서식처 조성 등 28개 사업 분야에서 일하게 된다.', 'article_url': 'https://news.naver.com/main/read.nhn?mode=LSD&mid=sec&sid1=102&oid=016&aid=0001622979', 'image_url': 'https://imgnews.pstatic.net/image/016/2020/01/10/20200110000374_0_20200110125201972.jpg', 'date': datetime.datetime(2020, 1, 10, 12, 52)}\n",
      "KEYWORD UPSERT : [('2021-09-01 20:59:19', '2021-09-01 20:59:19', '울산', 'ORGANIZATION', '2021-09-01 20:59:19', '울산'), ('2021-09-01 20:59:19', '2021-09-01 20:59:19', '방사능', 'MATERIAL', '2021-09-01 20:59:19', '방사능'), ('2021-09-01 20:59:19', '2021-09-01 20:59:19', '울산시', 'ORGANIZATION', '2021-09-01 20:59:19', '울산시')]\n",
      "KEYWORD UPSERT : []\n",
      "KEYWORD UPSERT : [('2021-09-01 20:59:19', '2021-09-01 20:59:19', '식약처', 'ORGANIZATION', '2021-09-01 20:59:19', '식약처'), ('2021-09-01 20:59:19', '2021-09-01 20:59:19', '식품의약품안전처', 'ORGANIZATION', '2021-09-01 20:59:19', '식품의약품안전처')]\n",
      "ES INSERT : {'title': '멀틱스·솔트룩스 AI 기반 수어영상 챗봇 공동개발 협력', 'summary': '사진출처 멀틱스 소프트웨어 SW 전문기업 멀틱스 대표 유승수 가 인공지능 AI 기반 수어영상 챗봇 개발을 위해 AI·데이터과학 전문기업 솔트룩스 대표 이경일 와 업무협약을 맺었다. 멀틱스는 청각장애인을 위한 챗봇 시스템 누리봇 을 개발 지난해 10월 대전시 관광홈페이지에 구축했다. 두 기업은 이번 협약으로 시각장애인 음성인식 기술 청각장애인 대상 수어영상 변환 제공 기술을 접목한 AI 챗봇을 공동 개발할 계획이다.', 'article_url': 'https://news.naver.com/main/read.nhn?mode=LSD&mid=sec&sid1=102&oid=030&aid=0002861805', 'image_url': 'https://imgnews.pstatic.net/image/030/2020/01/10/0002861805_001_20200112160714228.jpg', 'date': datetime.datetime(2020, 1, 10, 12, 57)}\n"
     ]
    },
    {
     "name": "stderr",
     "output_type": "stream",
     "text": [
      "\n",
      "\n",
      "\n",
      "\n",
      "\n",
      " 65%|██████▌   | 13/20 [00:11<00:04,  1.43it/s]\u001b[A\u001b[A\u001b[A\u001b[A\u001b[A\n",
      "\n",
      "\n",
      "\n",
      " 70%|███████   | 14/20 [00:11<00:03,  1.52it/s]\u001b[A\u001b[A\u001b[A\u001b[A"
     ]
    },
    {
     "name": "stdout",
     "output_type": "stream",
     "text": [
      "ES INSERT : {'title': '춘천3월부터 춘천지역 학교 친환경 급식 제공', 'summary': '춘천시는 지역 내 초·중·고교에 친환경 농산물을 중심으로 급식 식재료를 제공하는 춘천지역먹거리통합지원센터를 정식 운영한다. 센터 운영으로 자녀들의 먹거리에 대한 학부모의 불안감이 해소되고 학생들도 안전하게 급식을 제공받을 수 있을 것으로 기대하고 있다. 이에 앞서 안심·안전 급식에 대한 학부모들의 지속적인 요구에 센터 건립을 추진해왔으며 지난해 9월부터 지역 내 9개 학교를 대상으로 시범 운영을 진행했다. 시범운영 학교인 금병초교에서는 춘천지역먹거리통합지원센터 운영 이후 도내 농산물 사용이 기존 60%에서 77%로 크게 늘어났다.', 'article_url': 'https://news.naver.com/main/read.nhn?mode=LSD&mid=sec&sid1=102&oid=087&aid=0000783892', 'image_url': None, 'date': datetime.datetime(2020, 1, 10, 12, 33)}\n",
      "KEYWORD UPSERT : [('2021-09-01 20:59:19', '2021-09-01 20:59:19', '삼성전자', 'ORGANIZATION', '2021-09-01 20:59:19', '삼성전자'), ('2021-09-01 20:59:19', '2021-09-01 20:59:19', '경북혁신센터', 'ORGANIZATION', '2021-09-01 20:59:19', '경북혁신센터'), ('2021-09-01 20:59:19', '2021-09-01 20:59:19', '경북창조경제혁신센터', 'ORGANIZATION', '2021-09-01 20:59:19', '경북창조경제혁신센터')]\n",
      "KEYWORD UPSERT : [('2021-09-01 20:59:19', '2021-09-01 20:59:19', '자전거', 'ARTIFACT', '2021-09-01 20:59:19', '자전거')]\n",
      "ES INSERT : {'title': '안산시 다중이용시설 특별안전점검', 'summary': '헤럴드경제 안산 안산시 시장 윤화섭 는 설을 앞두고 백화점 대형마트 영화관 시외버스터미널 등 다중이용시설에 대해 민관합동 특별안전점검을 실시한다고 10일 밝혔다. 오는 22일까지 진행되는 점검은 많은 유동인구로 사고 발생 시 대형 인명피해로 이어질 수 있는 다중이용시설 안전점검을 실시한다. 각종 재난과 안전사고를 예방 시민 안전과 생명과 재산을 보호하기 위해 마련됐다.', 'article_url': 'https://news.naver.com/main/read.nhn?mode=LSD&mid=sec&sid1=102&oid=016&aid=0001622977', 'image_url': 'https://imgnews.pstatic.net/image/016/2020/01/10/20200110000372_0_20200110125002045.jpg', 'date': datetime.datetime(2020, 1, 10, 12, 50)}\n"
     ]
    },
    {
     "name": "stderr",
     "output_type": "stream",
     "text": [
      "\n",
      "\n",
      "\n",
      "\n",
      "\n",
      "\n",
      " 65%|██████▌   | 13/20 [00:11<00:05,  1.39it/s]\u001b[A\u001b[A\u001b[A\u001b[A\u001b[A\u001b[A\n",
      "\n",
      "\n",
      " 62%|██████▏   | 13/21 [00:12<00:05,  1.43it/s]\u001b[A\u001b[A\u001b[A"
     ]
    },
    {
     "name": "stdout",
     "output_type": "stream",
     "text": [
      "ES INSERT : {'title': '‘재밋섬’이 발목잡은 제주문화예술재단 ‘2년’', 'summary': '건강상의 이유를 들었고 그것이 사실로도 알려졌지만 임기내내 ‘재밋섬’ 뒷수습에 매달려온 탓에 재단 안팎에서는 재밋섬 사태가 사실상 9대 이사장 체제의 발목을 잡았다는 아쉬움이 제기된다. 재단 등에 따르면 고경대 이사장이 최근 사직 의사를 표함에 따라 제주도가 오늘 10일 자로 면직처리했다. 제주문화예술재단은 오늘부터 직무대행 체제에 들어간다. 고경대 이사장은 2018년 9월 제9대 이사장으로 취임했다.', 'article_url': 'https://news.naver.com/main/read.nhn?mode=LSD&mid=sec&sid1=102&oid=005&aid=0001277018', 'image_url': 'https://imgnews.pstatic.net/image/005/2020/01/10/611220270014116654_1_20200110124202124.jpg', 'date': datetime.datetime(2020, 1, 10, 12, 39)}\n",
      "ES INSERT : {'title': '웅동학원 채용비리 브로커 2명 징역형', 'summary': '조국 동생과 공모한 혐의 등 법원 징역 1년·1년6월 선고 조국 아들 ‘허위 인턴’ 의혹 서울교육청 ‘뒷북 현장조사’ 조국 전 법무부 장관 일가가 운영한 학교법인 웅동학원이 설립한 웅동중 교사채용비리 과정에서 뒷돈을 전달한 브로커 2명에게 법원이 징역형을 선고했다. 10일 서울중앙지법 형사4단독 홍준서 판사는 배임수재 업무방해 등의 혐의로 구속기소 된 채용비리 공범 박모 52 씨에게 징역 1년 6월에 추징금 3800만 원을 조모 45 씨에게 징역 1년에 추징금 2500만 원을 선고한다고 밝혔다. 법원에 따르면 박 씨는 조 씨와 함께 2016년 웅동중 사회과 정교사 채용 당시 웅동학원 사무국장이었던 조 전 장관 동생 조모 씨에게 건네받은 문제지 내용을 채용 지원자에게 알려주고 합격시켜 준 대가로 1억3000만 원을 수수한 혐의를 받는다.', 'article_url': 'https://news.naver.com/main/read.nhn?mode=LSD&mid=sec&sid1=102&oid=021&aid=0002413602', 'image_url': None, 'date': datetime.datetime(2020, 1, 10, 12, 31)}\n",
      "KEYWORD UPSERT : [('2021-09-01 20:59:19', '2021-09-01 20:59:19', '솔트룩스', 'ORGANIZATION', '2021-09-01 20:59:19', '솔트룩스'), ('2021-09-01 20:59:19', '2021-09-01 20:59:19', '이경일', 'PERSON', '2021-09-01 20:59:19', '이경일'), ('2021-09-01 20:59:19', '2021-09-01 20:59:19', '유승수', 'PERSON', '2021-09-01 20:59:19', '유승수'), ('2021-09-01 20:59:19', '2021-09-01 20:59:19', '멀틱스', 'ORGANIZATION', '2021-09-01 20:59:19', '멀틱스'), ('2021-09-01 20:59:19', '2021-09-01 20:59:19', '데이터과학', 'STUDY_FIELD', '2021-09-01 20:59:19', '데이터과학'), ('2021-09-01 20:59:19', '2021-09-01 20:59:19', '인공지능', 'STUDY_FIELD', '2021-09-01 20:59:19', '인공지능')]\n",
      "KEYWORD UPSERT : [('2021-09-01 20:59:19', '2021-09-01 20:59:19', '춘천지역먹거리통합지원센터', 'ORGANIZATION', '2021-09-01 20:59:19', '춘천지역먹거리통합지원센터'), ('2021-09-01 20:59:19', '2021-09-01 20:59:19', '금병초교', 'ORGANIZATION', '2021-09-01 20:59:19', '금병초교'), ('2021-09-01 20:59:19', '2021-09-01 20:59:19', '춘천시', 'ORGANIZATION', '2021-09-01 20:59:19', '춘천시')]\n",
      "KEYWORD UPSERT : [('2021-09-01 20:59:19', '2021-09-01 20:59:19', '윤화섭', 'PERSON', '2021-09-01 20:59:19', '윤화섭')]\n"
     ]
    },
    {
     "name": "stderr",
     "output_type": "stream",
     "text": [
      "\n",
      "\n",
      " 70%|███████   | 14/20 [00:12<00:04,  1.48it/s]\u001b[A\u001b[A\n",
      " 76%|███████▌  | 16/21 [00:13<00:03,  1.37it/s]\u001b[A\n",
      "\n",
      "\n",
      "\n",
      "\n",
      "\n",
      "\n",
      " 65%|██████▌   | 13/20 [00:11<00:05,  1.39it/s]\u001b[A\u001b[A\u001b[A\u001b[A\u001b[A\u001b[A\u001b[A"
     ]
    },
    {
     "name": "stdout",
     "output_type": "stream",
     "text": [
      "ES INSERT : {'title': '檢 음주운전·운전자 바꿔치기 장제원 아들 장용준 불구속 기소', 'summary': '서울경제 검찰이 음주운전·운전자 바꿔치기 의혹을 받는 장제원 자유한국당 의원의 아들 장용준씨 활동명 노엘·19 를 재판에 넘겼다. 서울서부지검 형사3부 부장 이재승 는 장씨를 특정범죄가중처벌등에관한법률 위반 위험운전 치상 도로교통법 위반 음주운전 범인도피교사 보험사기방지특별법 위반 등의 혐의로 불구속 기소했다고 10일 밝혔다. 장씨는 음주상태로 교통사고를 내고도 지인이 가해 운전자인 것처럼 경찰에 허위 진술하게 하고 허위로 보험사고 접수를 해 보험처리 하려 한 혐의를 받는다.', 'article_url': 'https://news.naver.com/main/read.nhn?mode=LSD&mid=sec&sid1=102&oid=011&aid=0003678749', 'image_url': 'https://imgnews.pstatic.net/image/011/2020/01/10/0003678749_001_20200110122605515.jpg', 'date': datetime.datetime(2020, 1, 10, 12, 16)}\n",
      "ES INSERT : {'title': '강의내용보다는 사은품 보고 골라요', 'summary': '· 값비싼 사은품 받으려 듣지 않는 강의 마구잡이로 구매하기도 대학수학능력시험이 끝나고 새해가 시작되면서 인강 업체들이 수강생 유치에 사활을 걸고 있다. 인강 업체 대부분이 학생들의 수요가 높은 IT 정보기술 기기를 사은품으로 내걸며 학생들을 유혹하고 있다. 사은품 가격은 대부분 프리패스 가격보다 싸지만 학생들은 제값을 주고 상품을 사는 것보다 프리패스 상품을 구매하는 것을 선호한다.', 'article_url': 'https://news.naver.com/main/read.nhn?mode=LSD&mid=sec&sid1=102&oid=018&aid=0004552418', 'image_url': 'https://imgnews.pstatic.net/image/018/2020/01/10/0004552418_001_20200110003403738.jpg', 'date': datetime.datetime(2020, 1, 10, 12, 34)}\n",
      "KEYWORD UPSERT : [('2021-09-01 20:59:20', '2021-09-01 20:59:20', '고경대', 'PERSON', '2021-09-01 20:59:20', '고경대'), ('2021-09-01 20:59:20', '2021-09-01 20:59:20', '제주문화예술재단', 'ORGANIZATION', '2021-09-01 20:59:20', '제주문화예술재단'), ('2021-09-01 20:59:20', '2021-09-01 20:59:20', '제주도', 'ORGANIZATION', '2021-09-01 20:59:20', '제주도')]\n",
      "KEYWORD UPSERT : [('2021-09-01 20:59:20', '2021-09-01 20:59:20', '서울중앙지법', 'ORGANIZATION', '2021-09-01 20:59:20', '서울중앙지법'), ('2021-09-01 20:59:20', '2021-09-01 20:59:20', '법무부', 'ORGANIZATION', '2021-09-01 20:59:20', '법무부'), ('2021-09-01 20:59:20', '2021-09-01 20:59:20', '웅동학원', 'ORGANIZATION', '2021-09-01 20:59:20', '웅동학원'), ('2021-09-01 20:59:20', '2021-09-01 20:59:20', '웅동중', 'ORGANIZATION', '2021-09-01 20:59:20', '웅동중'), ('2021-09-01 20:59:20', '2021-09-01 20:59:20', '서울교육청', 'ORGANIZATION', '2021-09-01 20:59:20', '서울교육청'), ('2021-09-01 20:59:20', '2021-09-01 20:59:20', '홍준서', 'PERSON', '2021-09-01 20:59:20', '홍준서')]\n"
     ]
    },
    {
     "name": "stderr",
     "output_type": "stream",
     "text": [
      "\n",
      "\n",
      "\n",
      "\n",
      " 75%|███████▌  | 15/20 [00:12<00:03,  1.42it/s]\u001b[A\u001b[A\u001b[A\u001b[A"
     ]
    },
    {
     "name": "stdout",
     "output_type": "stream",
     "text": [
      "ES INSERT : {'title': '교통사고 없게… 어르신 지팡이·보행기에 ‘형광 안전띠’', 'summary': '10일 성북구에 따르면 지난 6일 이승로 성북구청장은 많은 주민이 이용하는 지역 내 돈암시장을 직접 찾아 안전 캠페인을 펼쳤다. 이날 이 구청장은 시장을 찾은 어르신의 지팡이와 보행기에 교통안전을 위해 형광테이프를 붙여드리며 어르신의 보행상황에 대해 세심한 관심을 기울였다. 시장에서 이 구청장을 만난 한 어르신은 “새벽예배를 가기 위해 새벽에 골목을 걷다 보면 차가 몸에 닿을 정도로 지나갈 때도 있어 가슴을 쓸어내린 적이 한두 번이 아니었다”며 “어두운 골목에서 지팡이에 빛이 나면 운전자가 잘 보게 된다니 안심이 된다”는 말했다. 앞서 성북구는 지난 1일자로 ‘안전생활 도시관리 중심 행정’을 목표로 ‘안전생활국’을 신설하는 등 조직개편을 단행한 바 있다.', 'article_url': 'https://news.naver.com/main/read.nhn?mode=LSD&mid=sec&sid1=102&oid=021&aid=0002413572', 'image_url': 'https://imgnews.pstatic.net/image/021/2020/01/10/0002413572_001_20200110121108360.jpg', 'date': datetime.datetime(2020, 1, 10, 12, 11)}\n",
      "ES INSERT : {'title': '1·8 檢 인사 폭거검사장인사 → 조직개편 → 후속인사… 권력수사 ‘봉쇄 로드맵’', 'summary': '법무부는 10일 검찰의 직접수사 부서를 대폭 폐지하는 방안을 내부적으로 마련하고 이미 통폐합 대상이 된 일부 부서를 상대로 비공식적으로 구체적인 개편 방향에 대해 통보한 것으로 전해졌다. 앞서 지난해 11월 ‘공정사회를 향한 반부패정책협의회’ 직후 김오수 법무부 차관은 문재인 대통령에게 “2019년 말까지 전국 41개 직접 인지수사 부서를 모두 없애겠다”고 직접 대면 보고한 바 있다. 당장 검찰 안팎에서는 수사 전문성 약화는 물론 정권 실세 등이 연루된 대형 범죄에 대한 수사 무력화를 우려하고 있다.', 'article_url': 'https://news.naver.com/main/read.nhn?mode=LSD&mid=sec&sid1=102&oid=021&aid=0002413590', 'image_url': None, 'date': datetime.datetime(2020, 1, 10, 12, 21)}\n",
      "KEYWORD UPSERT : [('2021-09-01 20:59:20', '2021-09-01 20:59:20', '노엘', 'PERSON', '2021-09-01 20:59:20', '노엘'), ('2021-09-01 20:59:20', '2021-09-01 20:59:20', '서울서부지검', 'ORGANIZATION', '2021-09-01 20:59:20', '서울서부지검'), ('2021-09-01 20:59:20', '2021-09-01 20:59:20', '자유한국당', 'ORGANIZATION', '2021-09-01 20:59:20', '자유한국당'), ('2021-09-01 20:59:20', '2021-09-01 20:59:20', '이재승', 'PERSON', '2021-09-01 20:59:20', '이재승'), ('2021-09-01 20:59:20', '2021-09-01 20:59:20', '장용준', 'PERSON', '2021-09-01 20:59:20', '장용준'), ('2021-09-01 20:59:20', '2021-09-01 20:59:20', '장제원', 'PERSON', '2021-09-01 20:59:20', '장제원')]\n"
     ]
    },
    {
     "name": "stderr",
     "output_type": "stream",
     "text": [
      "\n",
      "\n",
      "\n",
      "\n",
      "\n",
      " 70%|███████   | 14/20 [00:12<00:04,  1.24it/s]\u001b[A\u001b[A\u001b[A\u001b[A\u001b[A\n",
      "\n",
      "\n",
      "\n",
      "\n",
      "\n",
      " 70%|███████   | 14/20 [00:12<00:04,  1.28it/s]\u001b[A\u001b[A\u001b[A\u001b[A\u001b[A\u001b[A"
     ]
    },
    {
     "name": "stdout",
     "output_type": "stream",
     "text": [
      "ES INSERT : {'title': '대구보건대 보건계열 국가고시서 탁월한 성적 거둬', 'summary': '머니투데이 대학경제 대구보건대학교는 최근 한국보건의료인국가시험원이 시행한 2019년 국가고시 2개 분야에서 전국수석을 배출하고 100% 합격률 학과 최다합격 학과 전국 평균보다 최고 17%p 퍼센트 포인트. 이하 %p 높은 학과 등 보건계열 전 학과가 우수한 성적을 거뒀다고 10일 밝혔다. 임상병리과 3학년 김신욱 씨는 제 47회 임상병리사 국가고시에서 280점 만점에 278점을 획득 전국 50개 대학에서 응시한 수험생 3521명 중 전국 수석을 차지했다. 대구보건대 작업치료과는 작업치료사 국가고시 시험에서 응시자 32명 전원이 합격해 합격률 100%를 기록했다.', 'article_url': 'https://news.naver.com/main/read.nhn?mode=LSD&mid=sec&sid1=102&oid=008&aid=0004338255', 'image_url': 'https://imgnews.pstatic.net/image/008/2020/01/10/0004338255_001_20200110125302810.jpg', 'date': datetime.datetime(2020, 1, 10, 12, 52)}\n",
      "KEYWORD UPSERT : [('2021-09-01 20:59:20', '2021-09-01 20:59:20', '정보기술', 'STUDY_FIELD', '2021-09-01 20:59:20', '정보기술'), ('2021-09-01 20:59:20', '2021-09-01 20:59:20', '대학수학능력시험', 'EVENT', '2021-09-01 20:59:20', '대학수학능력시험')]\n",
      "ES INSERT : {'title': '전통주 쇼핑몰 ‘술마켓’ 오픈 … 클릭 한번으로 전국의 유명 전통주를', 'summary': '농업법인 우리도가㈜가 전통주 쇼핑몰인 ‘술마켓’을 오픈했다. 전통주의 온라인 통신판매가 허용된 이후 1인 가구가 증가하면서 대세로 자리잡은 혼술을 즐기는 소비자와 기존 오프라인에서 온라인 쇼핑몰로의 유통경로 트랜드 변화에 앞장선것이다. 술마켓 제공 ‘술마켓’은 전국에서 판매하는 유명 전통주를 원하는 수량만큼 골라 담을 수 있는 전통주 쇼핑몰로서 제조장이 달라도 여러 회사의 전통주를 골라 담기를 통해 구입할 수 있으며 단 한 병이라도 배송이 가능하다.', 'article_url': 'https://news.naver.com/main/read.nhn?mode=LSD&mid=sec&sid1=101&oid=417&aid=0000491940', 'image_url': 'https://imgnews.pstatic.net/image/417/2020/01/10/0000491940_001_20200110124608731.jpg', 'date': datetime.datetime(2020, 1, 10, 12, 46)}\n",
      "KEYWORD UPSERT : [('2021-09-01 20:59:20', '2021-09-01 20:59:20', '이승로', 'PERSON', '2021-09-01 20:59:20', '이승로'), ('2021-09-01 20:59:20', '2021-09-01 20:59:20', '성북구', 'ORGANIZATION', '2021-09-01 20:59:20', '성북구')]\n",
      "ES INSERT : {'title': '밑줄 쫙 “야 나두 협력할 수 있어” SKT 사장 ‘AI 초협력’ 제안', 'summary': '승진자10명을 포함해 검사장급 이상의 간부 32명을 대상으로 한 이번 인사의 결과 에 많은 사람들이 동요하고 있는데요. 지난 8일 오후 8시께 발표한 이번 인사는 지난해 7월에 이어 6개월 만에 대검찰청을 포함한 전국단위 대규모 인사 인데요. 법무부는 이에 대해 “특정 부서 중심의 인사에서 벗어나 검찰 개혁 의지 등을 기준으로 공정하게 평가한 것” 이라고 설명했지만 검찰 내부에서는 “원칙이 무너진 기습 인사” 라며 당혹감을 감추지 못했어요.', 'article_url': 'https://news.naver.com/main/read.nhn?mode=LSD&mid=sec&sid1=102&oid=018&aid=0004552417', 'image_url': 'https://imgnews.pstatic.net/image/018/2020/01/10/0004552417_001_20200110083403213.jpeg', 'date': datetime.datetime(2020, 1, 10, 12, 34)}\n"
     ]
    },
    {
     "name": "stderr",
     "output_type": "stream",
     "text": [
      "\n",
      "\n",
      "\n",
      " 67%|██████▋   | 14/21 [00:13<00:05,  1.29it/s]\u001b[A\u001b[A\u001b[A\n",
      "\n",
      " 75%|███████▌  | 15/20 [00:13<00:03,  1.33it/s]\u001b[A\u001b[A"
     ]
    },
    {
     "name": "stdout",
     "output_type": "stream",
     "text": [
      "KEYWORD UPSERT : [('2021-09-01 20:59:20', '2021-09-01 20:59:20', '김오수', 'PERSON', '2021-09-01 20:59:20', '김오수'), ('2021-09-01 20:59:20', '2021-09-01 20:59:20', '법무부', 'ORGANIZATION', '2021-09-01 20:59:20', '법무부'), ('2021-09-01 20:59:20', '2021-09-01 20:59:20', '문재인', 'PERSON', '2021-09-01 20:59:20', '문재인')]\n",
      "ES INSERT : {'title': '전주시 도로 재 비산먼지 제거 차량 확대', 'summary': '전주시 미세먼지 배출현황을 보면 도로 재 비산먼지가 전주에서 발생하는 초미세먼지 PM2.5 중 15.5%를 차지한다. 이에따라 전주시는 오는 3월까지 도로 재 비산먼지 제거차량 운행을 확대해 오염도 심한 도로 청소를 기존 하루 1회에서 2회로 늘려 시행한다는 계획이다. 분진 흡입차 2대와 노면청소차 18대 등 청소차량을 총 동원해 평시보다 청소 주기를 두 배로 확대했다.', 'article_url': 'https://news.naver.com/main/read.nhn?mode=LSD&mid=sec&sid1=102&oid=014&aid=0004355773', 'image_url': 'https://imgnews.pstatic.net/image/014/2020/01/10/0004355773_001_20200110124202318.jpg', 'date': datetime.datetime(2020, 1, 10, 12, 42)}\n",
      "KEYWORD UPSERT : [('2021-09-01 20:59:20', '2021-09-01 20:59:20', '김신욱', 'PERSON', '2021-09-01 20:59:20', '김신욱'), ('2021-09-01 20:59:20', '2021-09-01 20:59:20', '대구보건대학교', 'ORGANIZATION', '2021-09-01 20:59:20', '대구보건대학교'), ('2021-09-01 20:59:20', '2021-09-01 20:59:20', '대구보건대', 'ORGANIZATION', '2021-09-01 20:59:20', '대구보건대'), ('2021-09-01 20:59:20', '2021-09-01 20:59:20', '한국보건의료인국가시험원', 'ORGANIZATION', '2021-09-01 20:59:20', '한국보건의료인국가시험원')]\n"
     ]
    },
    {
     "name": "stderr",
     "output_type": "stream",
     "text": [
      "\n",
      " 81%|████████  | 17/21 [00:14<00:03,  1.25it/s]\u001b[A\n",
      "\n",
      "\n",
      "\n",
      "\n",
      "\n",
      "\n",
      " 70%|███████   | 14/20 [00:12<00:04,  1.22it/s]\u001b[A\u001b[A\u001b[A\u001b[A\u001b[A\u001b[A\u001b[A"
     ]
    },
    {
     "name": "stdout",
     "output_type": "stream",
     "text": [
      "KEYWORD UPSERT : [('2021-09-01 20:59:21', '2021-09-01 20:59:21', '우리도', 'ORGANIZATION', '2021-09-01 20:59:21', '우리도')]\n",
      "ES INSERT : {'title': '경기도주식회사 매출액 100억 달성…‘흑자전환’ 성공', 'summary': '이석훈 경기도주식회사 대표. 사진제공 경기도주식회사 의정부 파이낸셜뉴스 코리아경기도주식회사 대표 이석훈 가 작년에 설립 이래 매출실적 최고치를 기록하며 순손익 흑자 전환에 성공했다. 경기도주식회사가 발표한 2019년 잠정 매출액은 약 100억원으로 이는 2018년 매출 35억원에 비해 약 3배 이상 증가한 수치다. 경기도주식회사는 도내 중소기업 사회적 약자기업을 대상으로 유통과 온 오프라인 판로개척 마케팅 등을 돕기 위해 경기도와 경기중소기업연합회 등 도내 다양한 경제단체가 공동출자해 설립했다.', 'article_url': 'https://news.naver.com/main/read.nhn?mode=LSD&mid=sec&sid1=102&oid=014&aid=0004355777', 'image_url': 'https://imgnews.pstatic.net/image/014/2020/01/10/0004355777_001_20200110125402194.jpg', 'date': datetime.datetime(2020, 1, 10, 12, 54)}\n",
      "ES INSERT : {'title': '유니클로 저격한 쌍방울…소비자 오늘부터 갓방울', 'summary': '쌍방울이 한국 알리미 서경덕 성신여대 교수와 함께 유니클로에 대한 항의마케팅을 진행해 시민들의 응원 행렬을 받고 있다. 지난 8일부터 시작된 쌍방울의 내복 증정 행사는 이틀도 채 안 되는 기간 동안 1000건이 넘는 참여가 이어지며 인기를 끌고 있다. 쌍방울은 추첨을 실시해 내복을 증정할 예정이며 특히 의미 있는 사연을 올린 네티즌 3명에게 서 교수가 설 연휴 전 직접 내복을 배달해준다.', 'article_url': 'https://news.naver.com/main/read.nhn?mode=LSD&mid=sec&sid1=101&oid=629&aid=0000009870', 'image_url': 'https://imgnews.pstatic.net/image/629/2020/01/10/202045121578576798_20200110002411286.jpg', 'date': datetime.datetime(2020, 1, 10, 12, 19)}\n",
      "KEYWORD UPSERT : [('2021-09-01 20:59:21', '2021-09-01 20:59:21', '대검찰청', 'ORGANIZATION', '2021-09-01 20:59:21', '대검찰청'), ('2021-09-01 20:59:21', '2021-09-01 20:59:21', '법무부', 'ORGANIZATION', '2021-09-01 20:59:21', '법무부')]\n"
     ]
    },
    {
     "name": "stderr",
     "output_type": "stream",
     "text": [
      "\n",
      "\n",
      "\n",
      "\n",
      "\n",
      " 75%|███████▌  | 15/20 [00:13<00:03,  1.28it/s]\u001b[A\u001b[A\u001b[A\u001b[A\u001b[A\n",
      "\n",
      "\n",
      "\n",
      "\n",
      "\n",
      " 75%|███████▌  | 15/20 [00:13<00:03,  1.30it/s]\u001b[A\u001b[A\u001b[A\u001b[A\u001b[A\u001b[A\n",
      "\n",
      "\n",
      "\n",
      " 80%|████████  | 16/20 [00:13<00:03,  1.26it/s]\u001b[A\u001b[A\u001b[A\u001b[A"
     ]
    },
    {
     "name": "stdout",
     "output_type": "stream",
     "text": [
      "ES INSERT : {'title': '용인시 사랑의 열차 모금 11억 돌파', 'summary': '헤럴드경제 용인 용인시는 연말연시 이웃돕기 모금 운동인 ‘사랑의 열차 이어달리기’가 11억원 목표액을 넘었다고 10일 밝혔다. 기업단체들이 백군기 시장을 찾아와 한국민속촌과 용인클린워터가 각각 1000만원 사단법인 도성회 수도권지회가 200만원 성금을 기탁했다. 용인시 이웃돕기 성금 전달식. 용인시 제공 시는 ‘사랑의 열차 이어달리기’에 570건 11억9782만원이 기탁돼 목표액 108.8%를 달성했다.', 'article_url': 'https://news.naver.com/main/read.nhn?mode=LSD&mid=sec&sid1=102&oid=016&aid=0001622971', 'image_url': 'https://imgnews.pstatic.net/image/016/2020/01/10/20200110000366_0_20200110124202019.jpg', 'date': datetime.datetime(2020, 1, 10, 12, 42)}\n",
      "KEYWORD UPSERT : [('2021-09-01 20:59:21', '2021-09-01 20:59:21', '흡입차', 'ARTIFACT', '2021-09-01 20:59:21', '흡입차'), ('2021-09-01 20:59:21', '2021-09-01 20:59:21', '전주시', 'ORGANIZATION', '2021-09-01 20:59:21', '전주시'), ('2021-09-01 20:59:21', '2021-09-01 20:59:21', '노면청소차', 'ARTIFACT', '2021-09-01 20:59:21', '노면청소차')]\n",
      "KEYWORD UPSERT : [('2021-09-01 20:59:21', '2021-09-01 20:59:21', '의정부', 'ORGANIZATION', '2021-09-01 20:59:21', '의정부'), ('2021-09-01 20:59:21', '2021-09-01 20:59:21', '경기도', 'ORGANIZATION', '2021-09-01 20:59:21', '경기도'), ('2021-09-01 20:59:21', '2021-09-01 20:59:21', '경기도주식회사', 'ORGANIZATION', '2021-09-01 20:59:21', '경기도주식회사'), ('2021-09-01 20:59:21', '2021-09-01 20:59:21', '이석훈', 'PERSON', '2021-09-01 20:59:21', '이석훈'), ('2021-09-01 20:59:21', '2021-09-01 20:59:21', '경기중소기업연합회', 'ORGANIZATION', '2021-09-01 20:59:21', '경기중소기업연합회')]\n",
      "KEYWORD UPSERT : [('2021-09-01 20:59:21', '2021-09-01 20:59:21', '서경덕', 'PERSON', '2021-09-01 20:59:21', '서경덕'), ('2021-09-01 20:59:21', '2021-09-01 20:59:21', '성신여대', 'ORGANIZATION', '2021-09-01 20:59:21', '성신여대'), ('2021-09-01 20:59:21', '2021-09-01 20:59:21', '쌍방울', 'ORGANIZATION', '2021-09-01 20:59:21', '쌍방울'), ('2021-09-01 20:59:21', '2021-09-01 20:59:21', '유니클로', 'ORGANIZATION', '2021-09-01 20:59:21', '유니클로')]\n",
      "ES INSERT : {'title': '고수칼럼 뉴턴도 손해 본 주식시장 경자년 성공방안은', 'summary': '새로운 정보가 임의적으로 쏟아지므로 주식가격은 술 취한 사람이 걷는 모양과 마찬가지로 예측할 수 없다는 것이다. 시장가격은 다양한 요인에 따라 제멋대로 움직이므로 항상 우월한 수익률을 기대하기 어렵다는 의미다. 주식시장에서 랜덤워크 이론은 모든 정보가 즉각 공개되고 투자자들이 합리적으로 분석하므로 효율적이란 가정을 토대로 한다. 일시적으로 잘못 책정된 주식종목을 찾아 액티브하게 투자하는 것보다 분산 투자된 포트폴리오를 구성하는 것이 효율적이며 저렴한 비용의 인덱스 펀드를 매수하는 것이 좋은 투자수단이라는 의미다.', 'article_url': 'https://news.naver.com/main/read.nhn?mode=LSD&mid=sec&sid1=101&oid=417&aid=0000491942', 'image_url': 'https://imgnews.pstatic.net/image/417/2020/01/10/0000491942_001_20200110130108358.jpg', 'date': datetime.datetime(2020, 1, 10, 13, 1)}\n"
     ]
    },
    {
     "name": "stderr",
     "output_type": "stream",
     "text": [
      "\n",
      "\n",
      "\n",
      " 71%|███████▏  | 15/21 [00:14<00:04,  1.25it/s]\u001b[A\u001b[A\u001b[A"
     ]
    },
    {
     "name": "stdout",
     "output_type": "stream",
     "text": [
      "ES INSERT : {'title': '선박판 윤창호법 도입…음주운항 징역 최대 3년→5년', 'summary': '연합뉴스 지난해 3월 발생한 러시아 화물선의 부산 광안대교 충돌 사고처럼 술에 취한 채 선박을 운항한 사람에 대한 벌칙이 강화된다. 해양수산부는 이 같은 내용을 담은 해사안전법 일부개정법률안 등 소관 법률안 52건이 국회 본회의를 통과했다고 9일 밝혔다. 해수부는 해사안전법 개정안은 일명 선박에 대한 윤창호법이라 할 수 있다 며 현행 벌칙과 행정처분을 혈중알코올 농도에 따라 세분화하고 강화했다 고 소개했다.', 'article_url': 'https://news.naver.com/main/read.nhn?mode=LSD&mid=sec&sid1=101&oid=082&aid=0000972879', 'image_url': 'https://imgnews.pstatic.net/image/082/2020/01/10/0000972879_001_20200110003605631.jpg', 'date': datetime.datetime(2020, 1, 10, 12, 36)}\n",
      "KEYWORD UPSERT : [('2021-09-01 20:59:21', '2021-09-01 20:59:21', '한국민속촌', 'ORGANIZATION', '2021-09-01 20:59:21', '한국민속촌'), ('2021-09-01 20:59:21', '2021-09-01 20:59:21', '백군기', 'PERSON', '2021-09-01 20:59:21', '백군기'), ('2021-09-01 20:59:21', '2021-09-01 20:59:21', '용인클린워터', 'ORGANIZATION', '2021-09-01 20:59:21', '용인클린워터'), ('2021-09-01 20:59:21', '2021-09-01 20:59:21', '용인시', 'ORGANIZATION', '2021-09-01 20:59:21', '용인시')]\n",
      "ES INSERT : {'title': '부모님 상태 함께 체크...집에 있는 것보다 훨씬 행복감 느껴', 'summary': '이런 가운데 노인 서비스의 새로운 모델을 제시하는 주간보호세터가 문을 열었다. 금쪽같은 내 부모님 데이케어는 그동안 쌓아온 운영 노하우의 집대성으로 꼽힌다. 센터와 직원 어르신과 보호자가 한 몸이 되어 움직이기 때문이다.', 'article_url': 'https://news.naver.com/main/read.nhn?mode=LSD&mid=sec&sid1=102&oid=014&aid=0004355771', 'image_url': 'https://imgnews.pstatic.net/image/014/2020/01/10/0004355771_001_20200110123502169.jpg', 'date': datetime.datetime(2020, 1, 10, 12, 35)}\n",
      "ES INSERT : {'title': '통영시의회 집행부와 소통 통영 발전 강조', 'summary': '경남 통영시의회는 오는 14일 1차 본회의를 시작으로 23일까지 10일 동안 제199회 통영시의회 임시회를 개회한다고 10일 밝혔다. 강혜원 의장은 “올 한해 통영시의회는 시정 주요정책에 대한 철저한 검증으로 시민의 이익과 발전을 위한 정책적 대안을 제시하고 시민 대의기관으로서 합리적인 견제와 감시역할을 충실히 하는 파수꾼 역할을 다하겠다” 고 밝혔다. 15일부터 21일까지는 각 상임위원회에서 조례안 동의안 등 안건심사를 한 후 올 한해 동안 집행부에서 추진해 나갈 주요 시정업무 전반에 대한 업무보고를 받는다.', 'article_url': 'https://news.naver.com/main/read.nhn?mode=LSD&mid=sec&sid1=102&oid=002&aid=0002117954', 'image_url': 'https://imgnews.pstatic.net/image/002/2020/01/10/0002117954_001_20200110123300888.jpg', 'date': datetime.datetime(2020, 1, 10, 12, 33)}\n",
      "ES INSERT : {'title': '코스피 오전보다는 상승 탄력 줄어…이틀째 상승세', 'summary': '정오뉴스 중동 리스크에 흔들렸던 국내증시가 다시 안정을 찾아가는 모습이지만 오전보다는 상승 탄력이 줄어든 오후장입니다. 코스피 코스닥 모두 이틀째 상승으로 움직이고 있지만 코스닥은 보합권에서 거래되고 있습니다. 이 시각 현재 코스피는 어제보다 6.80포인트 상승한 2 193.25포인트로. 코스닥은 1.93포인트 오른 668.02포인트로 거래되고 있습니다.', 'article_url': 'https://news.naver.com/main/read.nhn?mode=LSD&mid=sec&sid1=101&oid=214&aid=0001006419', 'image_url': 'https://imgnews.pstatic.net/image/214/2020/01/10/noon_20200110_121516_1_11_Large_20200110123308035.jpg', 'date': datetime.datetime(2020, 1, 10, 12, 15)}\n"
     ]
    },
    {
     "name": "stderr",
     "output_type": "stream",
     "text": [
      "\n",
      "\n",
      " 80%|████████  | 16/20 [00:14<00:03,  1.24it/s]\u001b[A\u001b[A\n",
      " 86%|████████▌ | 18/21 [00:15<00:02,  1.25it/s]\u001b[A\n",
      "\n",
      "\n",
      "\n",
      "\n",
      "\n",
      "\n"
     ]
    },
    {
     "name": "stdout",
     "output_type": "stream",
     "text": [
      "ES INSERT : {'title': '보성소식 보성사랑상품권 10% 할인 판매 등', 'summary': '보성 뉴시스 전남 보성군 군수 김철우 은 설을 맞아 오는 31일까지 보성사랑 상품권을 10% 특별 할인해 판매한다고 10일 밝혔다. 보성사랑 상품권은 지역 내 농·축협에서 구입 가능하며 5000원권·1만원권·5만원권 3종이다. ◇ 보성군 토지행정 종합평가서 우수기관 보성군은 전남도가 22개 시군을 대상으로 실시한 2019년 토지행정 종합평가에서 우수기관으로 선정됐다고 10일 밝혔다.', 'article_url': 'https://news.naver.com/main/read.nhn?mode=LSD&mid=sec&sid1=102&oid=003&aid=0009648465', 'image_url': None, 'date': datetime.datetime(2020, 1, 10, 12, 5)}\n",
      "KEYWORD UPSERT : []\n",
      "KEYWORD UPSERT : [('2021-09-01 20:59:21', '2021-09-01 20:59:21', '화물선', 'ARTIFACT', '2021-09-01 20:59:21', '화물선'), ('2021-09-01 20:59:21', '2021-09-01 20:59:21', '해수부', 'ORGANIZATION', '2021-09-01 20:59:21', '해수부'), ('2021-09-01 20:59:21', '2021-09-01 20:59:21', '혈중알코올', 'MATERIAL', '2021-09-01 20:59:21', '혈중알코올'), ('2021-09-01 20:59:21', '2021-09-01 20:59:21', '해양수산부', 'ORGANIZATION', '2021-09-01 20:59:21', '해양수산부')]\n",
      "KEYWORD UPSERT : []\n"
     ]
    },
    {
     "name": "stderr",
     "output_type": "stream",
     "text": [
      " 75%|███████▌  | 15/20 [00:13<00:04,  1.23it/s]\u001b[A\u001b[A\u001b[A\u001b[A\u001b[A\u001b[A\u001b[A\n",
      "\n",
      "\n",
      "\n",
      "\n",
      " 80%|████████  | 16/20 [00:13<00:02,  1.37it/s]\u001b[A\u001b[A\u001b[A\u001b[A\u001b[A\n",
      "\n",
      "\n",
      "\n",
      " 85%|████████▌ | 17/20 [00:14<00:02,  1.35it/s]\u001b[A\u001b[A\u001b[A\u001b[A\n",
      "\n",
      "\n",
      "\n",
      "\n",
      "\n",
      " 80%|████████  | 16/20 [00:14<00:02,  1.35it/s]\u001b[A\u001b[A\u001b[A\u001b[A\u001b[A\u001b[A"
     ]
    },
    {
     "name": "stdout",
     "output_type": "stream",
     "text": [
      "KEYWORD UPSERT : [('2021-09-01 20:59:21', '2021-09-01 20:59:21', '강혜원', 'PERSON', '2021-09-01 20:59:21', '강혜원'), ('2021-09-01 20:59:21', '2021-09-01 20:59:21', '통영시의회', 'ORGANIZATION', '2021-09-01 20:59:21', '통영시의회')]\n",
      "KEYWORD UPSERT : [('2021-09-01 20:59:22', '2021-09-01 20:59:22', '코스피', 'ORGANIZATION', '2021-09-01 20:59:22', '코스피')]\n",
      "ES INSERT : {'title': '국정농단취재방해 혐의 TV조선 간부에 혐의없음 시민단체 항고', 'summary': '검찰 TV조선 간부와 안종범 전 수석 모두 ‘불기소처분’에 “제대로 수사 안 해” 지적 미디어오늘 서울중앙지검이 지난 정부의 국정농단에 취재‧보도 방해 혐의로 고발된 TV조선 간부의 사건을 증거불충분을 이유로 혐의없음 결론을 내리고 불기소 처분했다. 이에 TV조선 간부를 고발한 시민단체는 항고하고 10일 항고 이유서를 제출했다. 시민단체는 수사 과정에서 핵심증거인 사건관계자들의 녹음파일 등을 제대로 조사하지 않았다고 비판했다. 2018년 7월 뉴스타파는 검찰 수사 기록을 바탕으로 2016년 박근혜·최순실 게이트 초 당시 정석영 TV조선 경제부장이 이성한 전 미르재단 사무총장과 안 전 수석 사이에서 메신저 역할을 하며 자사 기자들 취재를 방해했다는 의혹을 제기했다.', 'article_url': 'https://news.naver.com/main/read.nhn?mode=LSD&mid=sec&sid1=102&oid=006&aid=0000100590', 'image_url': 'https://imgnews.pstatic.net/image/006/2020/01/10/0000100590_001_20200110121603212.jpg', 'date': datetime.datetime(2020, 1, 10, 12, 16)}\n",
      "KEYWORD UPSERT : [('2021-09-01 20:59:22', '2021-09-01 20:59:22', '김철우', 'PERSON', '2021-09-01 20:59:22', '김철우'), ('2021-09-01 20:59:22', '2021-09-01 20:59:22', '전남도', 'ORGANIZATION', '2021-09-01 20:59:22', '전남도'), ('2021-09-01 20:59:22', '2021-09-01 20:59:22', '보성군', 'ORGANIZATION', '2021-09-01 20:59:22', '보성군')]\n",
      "ES INSERT : {'title': '이상고온에 얼어붙은 겨울 마케팅', 'summary': '패딩·온열기·방한용품 매출 뚝 지자체 겨울축제도 줄줄이 연기 내수침체로 힘겨운 강원지역 골목상권이 이상고온까지 겹치면서 울상을 짓고 있다. 영하권 추위를 활용한 겨울 마케팅 이 어려워지면서 고객 유치에 애를 먹고 있다. 여기에 겨울 축제들도 이상 고온에 줄줄이 연기되면서 가뜩이나 침체된 소비시장이 반등의 기회를 찾지 못하고 있다.', 'article_url': 'https://news.naver.com/main/read.nhn?mode=LSD&mid=sec&sid1=101&oid=087&aid=0000783979', 'image_url': None, 'date': datetime.datetime(2020, 1, 10, 12, 34)}\n",
      "ES INSERT : {'title': 'LG화학 5% 이상 상승 2019.3Q 매출액 7347십억1.6% 영업이익 380십억36.9%', 'summary': '최근 분기 실적 2019.3Q 매출액 7 347십억 1.6% 영업이익 380십억 36.9% LG화학의 2019년 3사분기 매출액은 7 347십억으로 전년동기 대비 1.55% 상승했고 영업이익은 380십억으로 전년동기 대비 36.9% 감소했다. 이 기업은 이번 분기를 포함해서 최근 4분기 연속 영업이익 당기순이익 흑자를 기록하고 있다. 이라고 분석하며 투자의견 BUY 유지 목표주가 400 000원 을 제시했다. 한경로보뉴스 이 기사는 한국경제신문과 금융 AI 전문기업 씽크풀이 공동 개발한 기사 자동생성 알고리즘에 의해 실시간으로 작성된 것입니다.', 'article_url': 'https://news.naver.com/main/read.nhn?mode=LSD&mid=sec&sid1=101&oid=015&aid=0004271841', 'image_url': 'https://imgnews.pstatic.net/image/015/2020/01/10/0004271841_001_20200110130403242.jpg', 'date': datetime.datetime(2020, 1, 10, 13, 4)}\n",
      "ES INSERT : {'title': '남해군 청소년수련관 건립 심의위원회 위원 공모', 'summary': '청소년 청소년지도자 관심 있는 주민 등 5명… 수련관 개관일까지 활동 남해 경남 남해군이 ‘남해 생활SOC 복합화 꿈나눔센터 건립사업’의 연계사업으로 추진하는 ‘청소년수련관 건립사업’에 대한 심의위원회 위원을 이달 20일까지 공개모집한다. 모집인원은 5명으로 남해군 거주 또는 남해군 소재 학교에 재학 중인 청소년 2명 청소년지도자 2명 청소년을 자녀로 둔 부모 또는 관심 있는 주민 1명을 각각 모집할 계획이다. 심의위원으로 위촉되면 청소년수련관 건축 설계 및 운영을 포함한 기본계획 수립부터 초·중·고 학생들 대상으로 실시한 설문조사 반영 건립 관련 홍보 및 사업추진 지원 등 자신이 맡은 분야에 대해 자문하게 된다.', 'article_url': 'https://news.naver.com/main/read.nhn?mode=LSD&mid=sec&sid1=102&oid=002&aid=0002117952', 'image_url': 'https://imgnews.pstatic.net/image/002/2020/01/10/0002117952_001_20200110122900937.jpg', 'date': datetime.datetime(2020, 1, 10, 12, 29)}\n"
     ]
    },
    {
     "name": "stderr",
     "output_type": "stream",
     "text": [
      "\n",
      "\n",
      "\n",
      " 76%|███████▌  | 16/21 [00:14<00:03,  1.26it/s]\u001b[A\u001b[A\u001b[A\n",
      "\n",
      " 85%|████████▌ | 17/20 [00:15<00:02,  1.27it/s]\u001b[A\u001b[A"
     ]
    },
    {
     "name": "stdout",
     "output_type": "stream",
     "text": [
      "KEYWORD UPSERT : [('2021-09-01 20:59:22', '2021-09-01 20:59:22', '정석영', 'PERSON', '2021-09-01 20:59:22', '정석영'), ('2021-09-01 20:59:22', '2021-09-01 20:59:22', '이성한', 'PERSON', '2021-09-01 20:59:22', '이성한'), ('2021-09-01 20:59:22', '2021-09-01 20:59:22', '서울중앙지검', 'ORGANIZATION', '2021-09-01 20:59:22', '서울중앙지검'), ('2021-09-01 20:59:22', '2021-09-01 20:59:22', '박근혜', 'PERSON', '2021-09-01 20:59:22', '박근혜'), ('2021-09-01 20:59:22', '2021-09-01 20:59:22', '안종범', 'PERSON', '2021-09-01 20:59:22', '안종범'), ('2021-09-01 20:59:22', '2021-09-01 20:59:22', '미르재단', 'ORGANIZATION', '2021-09-01 20:59:22', '미르재단'), ('2021-09-01 20:59:22', '2021-09-01 20:59:22', '최순실', 'PERSON', '2021-09-01 20:59:22', '최순실')]\n",
      "ES INSERT : {'title': '은행 신탁 운용방식 바꿀때마다 가입자 자필서명 받아야', 'summary': '‘DLF 사태’ 재발 방지책 후속 조치로 절차 강화 오는 2월부터 은행들은 특정금전신탁 운용방식을 변경할 경우 매번 가입자에게 자필 확인 절차를 받아야 한다. 금융당국은 이런 내용의 해외금리 연계 파생결합펀드 DLF 사태 재발 방지대책 후속 조치를 시행한다고 10일 밝혔다. 금융당국은 특정금전신탁 운용방법 변경시 위험도가 변경되지 않더라도 운용 상품 종류를 고난도금융투자상품으로 변경하는 경우 위탁자가 자필로 확인하는 절차를 의무화하기로 했다.', 'article_url': 'https://news.naver.com/main/read.nhn?mode=LSD&mid=sec&sid1=101&oid=366&aid=0000464807', 'image_url': 'https://imgnews.pstatic.net/image/366/2020/01/10/0000464807_001_20200110130107187.png', 'date': datetime.datetime(2020, 1, 10, 13, 1)}\n",
      "ES INSERT : {'title': '상반기에 재정 62% 풀겠단 文정부 … 연초부터 ‘추경 논란’', 'summary': '올해도 추경을 편성하면 4년 연속 추경을 짜게 된다. 올해까지 추경을 편성하면 집권 5년 중 4년 동안 추경을 편성한 매우 불명예스러운 정부로 역사에 남게 된다. 민간 경제연구소 고위 관계자는 “문재인 정부가 우리나라 재정의 기본 원칙을 망가뜨린 정부로 역사에 기록될 수 있다는 얘기가 나오는 이유”라고 말했다.', 'article_url': 'https://news.naver.com/main/read.nhn?mode=LSD&mid=sec&sid1=101&oid=021&aid=0002413568', 'image_url': None, 'date': datetime.datetime(2020, 1, 10, 12, 11)}\n",
      "KEYWORD UPSERT : []\n",
      "ES INSERT : {'title': '조지아 커피 EPL 축구 스타 담은 콜라보레이션 패키지 출시', 'summary': '세계적인 커피 브랜드 ‘조지아’가 ‘EPL English Premier League 잉글리시 프리미어 리그 ’과 콜라보레이션 패키지를 선보였다. 이번 조지아 X EPL 스페셜 패키지는 국내 높아진 해외 축구 인기를 반영한 것으로 새벽 경기를 시청하는 축구팬들은 물론 피곤한 직장인들이 일상에서 즐거움을 느낄 수 있도록 응원의 메시지를 전한다. 특히 스페셜 제품 출시 기념으로 EPL 직관 이벤트 조지아 마시고 EPL 보러 가자 ’를 진행한다. ‘조지아’ 제품 구매 소비자를 대상으로 진행되는 이번 이벤트는 패키지에 인쇄된 QR코드를 모바일로 스캔하면 이벤트 페이지로 이동 화면에 표시 된 스크래치 카드를 긁으면 즉시 당첨 결과를 확인할 수 있다. 1등 총 12명에게는 2020년 4월에 열리는 EPL 빅매치를 직관할 수 있는 ‘EPL 경기 관람 패키지’가 증정된다. 장내 스카이덱에서 경기를 관람할 수 있는 VIP 티켓 현지 숙박 및 왕복 항공권이 모두 포함되어 있다. 2등은 ‘EPL 구단 선수 유니폼’ 3등은 ‘조지아 X EPL 한정판 텀블러’를 증정한다. 조지아 마시고 EPL 보러가자’ 이벤트는 오는 3월 31일까지 진행되며 1일 1회 참여로 이벤트 기간 내 중복 참여가 가능하다.', 'article_url': 'https://news.naver.com/main/read.nhn?mode=LSD&mid=sec&sid1=101&oid=417&aid=0000491939', 'image_url': 'https://imgnews.pstatic.net/image/417/2020/01/10/0000491939_001_20200110124508165.jpg', 'date': datetime.datetime(2020, 1, 10, 12, 45)}\n"
     ]
    },
    {
     "name": "stderr",
     "output_type": "stream",
     "text": [
      "\n",
      " 90%|█████████ | 19/21 [00:16<00:01,  1.24it/s]\u001b[A\n",
      "\n",
      "\n",
      "\n",
      "\n",
      "\n",
      "\n",
      " 80%|████████  | 16/20 [00:14<00:03,  1.23it/s]\u001b[A\u001b[A\u001b[A\u001b[A\u001b[A\u001b[A\u001b[A"
     ]
    },
    {
     "name": "stdout",
     "output_type": "stream",
     "text": [
      "KEYWORD UPSERT : [('2021-09-01 20:59:22', '2021-09-01 20:59:22', '씽크풀', 'ORGANIZATION', '2021-09-01 20:59:22', '씽크풀'), ('2021-09-01 20:59:22', '2021-09-01 20:59:22', '한국경제신문', 'ORGANIZATION', '2021-09-01 20:59:22', '한국경제신문'), ('2021-09-01 20:59:22', '2021-09-01 20:59:22', 'LG화학', 'ORGANIZATION', '2021-09-01 20:59:22', 'LG화학'), ('2021-09-01 20:59:22', '2021-09-01 20:59:22', '한경로보뉴스', 'ORGANIZATION', '2021-09-01 20:59:22', '한경로보뉴스')]\n",
      "KEYWORD UPSERT : [('2021-09-01 20:59:22', '2021-09-01 20:59:22', '남해군', 'ORGANIZATION', '2021-09-01 20:59:22', '남해군')]\n"
     ]
    },
    {
     "name": "stderr",
     "output_type": "stream",
     "text": [
      "\n",
      "\n",
      "\n",
      "\n",
      "\n",
      " 85%|████████▌ | 17/20 [00:14<00:02,  1.24it/s]\u001b[A\u001b[A\u001b[A\u001b[A\u001b[A\n",
      "\n",
      "\n",
      "\n",
      " 90%|█████████ | 18/20 [00:15<00:01,  1.23it/s]\u001b[A\u001b[A\u001b[A\u001b[A\n",
      "\n",
      "\n",
      "\n",
      "\n",
      "\n",
      " 85%|████████▌ | 17/20 [00:15<00:02,  1.22it/s]\u001b[A\u001b[A\u001b[A\u001b[A\u001b[A\u001b[A"
     ]
    },
    {
     "name": "stdout",
     "output_type": "stream",
     "text": [
      "KEYWORD UPSERT : [('2021-09-01 20:59:22', '2021-09-01 20:59:22', '금융당국', 'ORGANIZATION', '2021-09-01 20:59:22', '금융당국')]\n",
      "KEYWORD UPSERT : [('2021-09-01 20:59:23', '2021-09-01 20:59:23', '문재인', 'PERSON', '2021-09-01 20:59:23', '문재인')]\n",
      "ES INSERT : {'title': '오머니 모르면 손해 스키장 반값 할인 카드', 'summary': '카드업계는 올해도 어김없이 스키장 리프트권 장비 렌탈 비용뿐만 아니라 스키 강습 부대시설 등의 할인 이벤트를 진행 중이다. 카드사별 스키장 관련 혜택을 꼼꼼히 숙지한다면 알뜰하게 슬로프를 누빌 수 있다. 우선 신한카드는 국내 10곳의 스키장과 제휴를 맺고 리프트 렌탈 강습 등 리조트 관련 할인 이벤트를 진행 중이다.', 'article_url': 'https://news.naver.com/main/read.nhn?mode=LSD&mid=sec&sid1=101&oid=417&aid=0000491941', 'image_url': 'https://imgnews.pstatic.net/image/417/2020/01/10/0000491941_001_20200110130008885.jpg', 'date': datetime.datetime(2020, 1, 10, 13, 0)}\n",
      "KEYWORD UPSERT : [('2021-09-01 20:59:23', '2021-09-01 20:59:23', '조지아', 'ORGANIZATION', '2021-09-01 20:59:23', '조지아')]\n",
      "ES INSERT : {'title': '문 대통령 “규제자유특구 추가 선정 · 예산 늘릴 것”', 'summary': '정부는 지난해 4월 미래 신산업에 대한 규제 없이 기술을 실증하고 사업화해 지역경제를 살릴 수 있는 규제자유특구 제도를 도입 현재 14곳을 지정했다. 이 자리에서 문 대통령은 “전국 14개 규제자유특구에서 혁신적인 실험과 과감한 도전이 이뤄지고 있다. 규제자유특구의 기술개발과 사업화에 더 많은 예산을 투입하고 규제샌드박스 활용도 더욱 높일 것”이라고 말했다. 이어 “지역의 혁신 역량을 강화하기 위해 올해 규제자유특구를 추가로 선정하고 국책사업과 연계해 시너지 효과를 내겠다”고 밝혔다.', 'article_url': 'https://news.naver.com/main/read.nhn?mode=LSD&mid=sec&sid1=100&oid=087&aid=0000784011', 'image_url': 'https://imgnews.pstatic.net/image/087/2020/01/10/0000784011_001_20200110003450291.jpg', 'date': datetime.datetime(2020, 1, 10, 12, 34)}\n"
     ]
    },
    {
     "name": "stderr",
     "output_type": "stream",
     "text": [
      "\n",
      "\n",
      "\n",
      " 81%|████████  | 17/21 [00:15<00:03,  1.14it/s]\u001b[A\u001b[A\u001b[A"
     ]
    },
    {
     "name": "stdout",
     "output_type": "stream",
     "text": [
      "ES INSERT : {'title': '폐렴·DMZ…증시 불안 속 활개치는 테마주', 'summary': '증시 지지부진에 일부 자금 테마주로 쏠려 폐렴·DMZ·정치인 등 각종 테마 범람 자금 갈곳 잃으며 단타 거래 만연…투기 행태 우려 이데일리 이데일리 김대웅 기자 지난해 글로벌 증시 상승세에 동참하지 못하고 박스권에 갇혀 있었던 국내 증시가 새해 들어서도 미국·이란 이슈에 연일 널뛰기를 반복하며 불안한 흐름을 보이고 있다. 이렇자 갈 곳을 잃은 자금이 테마주로 쏠리며 연초부터 투자자들을 심란하게 하고 있다. 새해 들어 ‘테마주 순환 장세’라 부를 수 있을 만큼 다양한 테마가 돌아가며 시세를 분출하고 있다.', 'article_url': 'https://news.naver.com/main/read.nhn?mode=LSD&mid=sec&sid1=101&oid=018&aid=0004552420', 'image_url': 'https://imgnews.pstatic.net/image/018/2020/01/10/0004552420_001_20200110004101729.jpg', 'date': datetime.datetime(2020, 1, 10, 12, 41)}\n",
      "ES INSERT : {'title': '최준영의 도시순례제조업 유치 사회적 기반이 더 중요하다', 'summary': '1980년부터 2017년까지 37년 동안 한국 경제 성장에서 제조업이 기여한 비율은 30.4%이며 운수 도ㆍ소매 금융ㆍ보험 등 제조 관련 서비스업 까지 합치면 66.4%에 이른다. 제조업이 국내총생산 명목 에서 차지하는 비중은 약 30%수준으로 세계최고이며 국내 제조업체는 41만6000개 전국 사업체 조사 제조업 고용은 404만명 2016년 조사 전체 산업의 19% 에 이른다. 무소불위의 권력과 일사분란하게 움직이는 행정체계로 무엇이든 할 수 있을 것 같던 이 시기에도 어느 산업을 어디에 배치할 것인지를 결정하는 것은 쉽지 않았고 많은 논란이 있었다.', 'article_url': 'https://news.naver.com/main/read.nhn?mode=LSD&mid=sec&sid1=101&oid=277&aid=0004603775', 'image_url': 'https://imgnews.pstatic.net/image/277/2020/01/10/0004603775_001_20200110123105836.jpg', 'date': datetime.datetime(2020, 1, 10, 12, 30)}\n",
      "KEYWORD UPSERT : [('2021-09-01 20:59:23', '2021-09-01 20:59:23', '신한카드', 'ORGANIZATION', '2021-09-01 20:59:23', '신한카드')]\n"
     ]
    },
    {
     "name": "stderr",
     "output_type": "stream",
     "text": [
      "\n",
      " 95%|█████████▌| 20/21 [00:17<00:00,  1.20it/s]\u001b[A\n",
      "\n",
      " 90%|█████████ | 18/20 [00:16<00:01,  1.14it/s]\u001b[A\u001b[A"
     ]
    },
    {
     "name": "stdout",
     "output_type": "stream",
     "text": [
      "KEYWORD UPSERT : []\n",
      "ES INSERT : {'title': '과학미래 얼굴 인식 오류율 0.37%…카드 안 대도 출입자 안다', 'summary': '워크 스루는 멈추지 않고 자연스럽게 통행할 수 있는 출입구다. 워크 스루에는 ‘얼굴 비교를 통한 개인 식별 방법’ 프로그램이 장착됐다. 현재 인천국제공항 제2여객터미널의 우범 여행자 색출 시스템이나 제주도 카지노에서 불법 내국인의 출입 시도 자동 색출 등에 활용한다.', 'article_url': 'https://news.naver.com/main/read.nhn?mode=LSD&mid=sec&sid1=101&oid=025&aid=0002966709', 'image_url': 'https://imgnews.pstatic.net/image/025/2020/01/10/0002966709_001_20200110060918370.jpg', 'date': datetime.datetime(2020, 1, 10, 12, 5)}\n",
      "ES INSERT : {'title': '2020 CESSK 최대 기술쇼 찾은 글로벌 방문객들에 미래 제시', 'summary': '사진은 배우가 반도체 보드를 타고 미래도시를 항해하는 모습. 2020.01.09. 사진 SK 제공 라스베이거스 뉴시스 SK그룹이 세계 최대 가전·IT쇼 CES 2020 에서 전 세계 방문객들을 대상으로 그룹의 미래를 엿볼 수 있는 기술력을 선보였다. SK는 7일 현지시간 10일부터 미국 라스베이거스에서 열린 세계 최대 가전·IT쇼 CES 2020 에 SK가 만들어갈 미래 를 주제로 모빌리티 관련 기술과 제품을 전시했다. SK텔레콤 SK이노베이션 SK하이닉스 SKC 등 4개 그룹사는 지난해보다 8배 넓어진 713㎡ 규모의 부스를 마련하고 전기차 배터리 차량 인포테인먼트 반도체 자동차 소재 등 SK의 모빌리티 경쟁력을 선보이는 데 집중했다.', 'article_url': 'https://news.naver.com/main/read.nhn?mode=LSD&mid=sec&sid1=101&oid=003&aid=0009648492', 'image_url': 'https://imgnews.pstatic.net/image/003/2020/01/10/NISI20200110_0000460493_web_20200110104415_20200110122403445.jpg', 'date': datetime.datetime(2020, 1, 10, 12, 23)}\n",
      "KEYWORD UPSERT : [('2021-09-01 20:59:23', '2021-09-01 20:59:23', '김대웅', 'PERSON', '2021-09-01 20:59:23', '김대웅')]\n",
      "ES INSERT : {'title': '오늘의 유통 단신 미니스톱 꿈나무 도시락 선봬 外', 'summary': '꿈나무 도시락 은 학생들의 눈높이에 맞춰 준비한 도시락이다. 한 번에 다양한 반찬을 맛보기를 원하는 학생들의 기호에 맞춰 10가지의 다양한 반찬을 한곳에 담았다. 쉐이크쉑 로스티드 갈릭 머시룸 버거 출시 쉐이크쉑이 새해 첫 신제품 로스티드 갈릭 머시룸 버거 를 오는 13일 출시한다. 레스케이프 호텔 크로스 게스트 바텐딩 행사 개최 레스케이프 호텔의 최상위층에 위치한 바 마크 다모르 바이 라망 시크레 가 서울의 대표 바와 함께 하는 크로스 게스트 바텐딩 행사를 오는 15일 16일 양일간 진행한다.', 'article_url': 'https://news.naver.com/main/read.nhn?mode=LSD&mid=sec&sid1=101&oid=031&aid=0000521325', 'image_url': 'https://imgnews.pstatic.net/image/031/2020/01/10/0000521325_001_20200110123102643.jpg', 'date': datetime.datetime(2020, 1, 10, 12, 31)}\n"
     ]
    },
    {
     "name": "stderr",
     "output_type": "stream",
     "text": [
      "\n",
      "\n",
      "\n",
      "\n",
      "\n",
      "\n",
      "\n",
      " 85%|████████▌ | 17/20 [00:15<00:02,  1.13it/s]\u001b[A\u001b[A\u001b[A\u001b[A\u001b[A\u001b[A\u001b[A\n",
      "\n",
      "\n",
      "\n",
      "\n",
      " 90%|█████████ | 18/20 [00:15<00:01,  1.17it/s]\u001b[A\u001b[A\u001b[A\u001b[A\u001b[A\n",
      "\n",
      "\n",
      "\n",
      " 95%|█████████▌| 19/20 [00:16<00:00,  1.20it/s]\u001b[A\u001b[A\u001b[A\u001b[A"
     ]
    },
    {
     "name": "stdout",
     "output_type": "stream",
     "text": [
      "KEYWORD UPSERT : []\n",
      "ES INSERT : {'title': '겨울 이상기온 지역경제 타격“축제용 특산품 재고 쌓일 위기”', 'summary': '지난해 11월부터 준비해 온 산천어축제장이 겨울비로 물바다로 변했기 때문이다. 얼곰이 빵 은 거미줄 같은 접경지 규제 속에서 그가 포기하지 않고 만든 제품이다. 고용노동부의 사회적기업가 육성사업에 2년 전 선정된 변지윤 대표는 당초 지역농산물로 빵을 만들어 온라인으로 팔고자 했지만 상수원보호구역 경계구역 상류 10㎞까지 공장 설립이나 제조업을 금지하는 수도법 에 막혔다. 변지윤 대표는 “군부대 해체로 지역사회가 힘들었는데 이상고온까지 겹쳐 다들 걱정이 크다”라며 “정부가 접경지 규제 완화 도로 확충 등으로 접경지 경제 활성화에 귀 기울여야 한다”고 말했다.', 'article_url': 'https://news.naver.com/main/read.nhn?mode=LSD&mid=sec&sid1=101&oid=087&aid=0000783908', 'image_url': 'https://imgnews.pstatic.net/image/087/2020/01/10/0000783908_001_20200110003322799.jpg', 'date': datetime.datetime(2020, 1, 10, 12, 33)}\n",
      "KEYWORD UPSERT : [('2021-09-01 20:59:23', '2021-09-01 20:59:23', 'SK그룹', 'ORGANIZATION', '2021-09-01 20:59:23', 'SK그룹'), ('2021-09-01 20:59:23', '2021-09-01 20:59:23', 'SK하이닉스', 'ORGANIZATION', '2021-09-01 20:59:23', 'SK하이닉스'), ('2021-09-01 20:59:23', '2021-09-01 20:59:23', 'SK이노베이션', 'ORGANIZATION', '2021-09-01 20:59:23', 'SK이노베이션'), ('2021-09-01 20:59:23', '2021-09-01 20:59:23', '자동차', 'ARTIFACT', '2021-09-01 20:59:23', '자동차'), ('2021-09-01 20:59:23', '2021-09-01 20:59:23', '전기차', 'ARTIFACT', '2021-09-01 20:59:23', '전기차'), ('2021-09-01 20:59:23', '2021-09-01 20:59:23', 'SK텔레콤', 'ORGANIZATION', '2021-09-01 20:59:23', 'SK텔레콤')]\n",
      "KEYWORD UPSERT : []\n",
      "ES INSERT : {'title': '‘보수 심장’ 대구 “한국당 찍을라케도 그 카는데 찍겠나”', 'summary': '이해찬 왼쪽 더불어민주당 대표가 10일 오전 국회에서 열린 최고위원회의에서 모두발언을 하고 있다. “지금 자유한국당으로는 절대 안 된다”며 보수통합과 물갈이를 향한 목소리가 들끓었다. 특히 대구 시민의 25%가 넘는 2030 젊은 층에서 탈보수성향이 강해 오는 4월 국회의원 총선거의 최대 변수로 작용할 것으로 보인다.', 'article_url': 'https://news.naver.com/main/read.nhn?mode=LSD&mid=sec&sid1=100&oid=021&aid=0002413578', 'image_url': 'https://imgnews.pstatic.net/image/021/2020/01/10/0002413578_001_20200110123102426.jpg', 'date': datetime.datetime(2020, 1, 10, 12, 11)}\n"
     ]
    },
    {
     "name": "stderr",
     "output_type": "stream",
     "text": [
      "\n",
      "\n",
      "\n",
      "\n",
      "\n",
      "\n",
      " 90%|█████████ | 18/20 [00:16<00:02,  1.05s/it]\u001b[A\u001b[A\u001b[A\u001b[A\u001b[A\u001b[A"
     ]
    },
    {
     "name": "stdout",
     "output_type": "stream",
     "text": [
      "KEYWORD UPSERT : [('2021-09-01 20:59:24', '2021-09-01 20:59:24', '쉐이크쉑', 'ORGANIZATION', '2021-09-01 20:59:24', '쉐이크쉑')]\n",
      "ES INSERT : {'title': 'BTS 마이셀럽스의 AI 지표로 가온차트 올해의 소셜 핫스타상 수상', 'summary': '팬들 직접 참여해 생산한 데이터로 글로벌 인기 척도 서울 뉴시스 지난 8일 ‘제9회 가온차트 뮤직어워즈’가 성황리에 개최된 가운데 방탄소년단 BTS 이 차지한 ‘올해의 소셜 핫스타상’의 기반이 되는 데이터의 분석 및 집계에 참여한 AI 어플리케이션 그룹 마이셀럽스가 주목을 받고 있다. ‘가온차트 뮤직어워즈’는 스트리밍과 다운로드 BGM 사용량을 집계한 디지털차트 앨범판매량을 집계하는 앨범차트 소매점사업자의 앨범판매량을 집계하는 리테일앨범차트 아티스트의 글로벌 인기도를 측정하는 소셜차트 2.0 Social Chart 2.0 등을 바탕으로 수상자가 선정된다. 이를 기반으로 선정된 ‘올해의 소셜 핫스타상’은 팬들이 직접 주는 상이나 다름없는 셈이다.', 'article_url': 'https://news.naver.com/main/read.nhn?mode=LSD&mid=sec&sid1=101&oid=003&aid=0009647799', 'image_url': 'https://imgnews.pstatic.net/image/003/2020/01/10/NISI20200109_0000460017_web_20200109141551_20200110002103031.jpg', 'date': datetime.datetime(2020, 1, 10, 12, 20)}\n"
     ]
    },
    {
     "name": "stderr",
     "output_type": "stream",
     "text": [
      "\n",
      "\n",
      "\n",
      " 86%|████████▌ | 18/21 [00:17<00:03,  1.14s/it]\u001b[A\u001b[A\u001b[A\n",
      "100%|██████████| 21/21 [00:18<00:00,  1.11it/s]\u001b[A\n",
      "\n",
      "\n",
      " 95%|█████████▌| 19/20 [00:18<00:01,  1.14s/it]\u001b[A\u001b[A"
     ]
    },
    {
     "name": "stdout",
     "output_type": "stream",
     "text": [
      "ES INSERT : {'title': '글로벌리스크에… 연초부터 한국경제 ‘암운’', 'summary': '전면전 직전까지 치달은 중동 사태부터 미완의 과제인 미·중 무역분쟁 세계 경기 하락 우려와 중국 경제 성장 둔화 등 한국 경제 성장을 저해할 복합적인 대외 리스크 요인들이 불거지고 있는 탓이다. 정부는 중동 상황 관련 관계장관회의를 열어 대책 가동에 착수했다. 홍남기 부총리 겸 기획재정부 장관은 10일 정부서울청사에서 ‘중동 상황 관련 관계장관회의’를 주재하고 “중동지역의 정세 불안과 관련한 불확실성은 여전히 상존하는 만큼 관련 정세와 시장 동향을 냉철히 주시해 차분하게 그러나 필요하면 단호하게 대응해 나가겠다”고 말했다.', 'article_url': 'https://news.naver.com/main/read.nhn?mode=LSD&mid=sec&sid1=101&oid=021&aid=0002413594', 'image_url': None, 'date': datetime.datetime(2020, 1, 10, 12, 31)}\n",
      "ES INSERT : {'title': '토다이 2월까지 졸업생들을 위한 특별한 이벤트 실시', 'summary': '머니투데이 중기 창업팀 뷔페 추천 브랜드로 거듭나고 있는 글로벌 뷔페 토다이 가 졸업 시즌을 맞이해 졸업생 고객들을 위한 특별한 졸업생 이벤트 를 진행해 주목받고 있다. 토다이 졸업 이벤트에 참여하고자 하는 이들은 매장 방문 시 졸업장이나 졸업을 증명할 수 있는 서류를 지참하면 된다. 이와 관련 토다이 관계자는 새 출발에 나서는 고객들을 응원하고 졸업을 축하하고자 졸업 이벤트를 마련했다 며 특별한 날 토다이에서 맛있는 음식과 함께 외식을 즐기며 가족 친구들과의 뜻깊은 추억을 새길 수 있길 바란다 고 전했다. 한편 토다이 졸업생 이벤트에 대한 상세한 내용은 토다이 공식 홈페이지에서 확인 가능하다.', 'article_url': 'https://news.naver.com/main/read.nhn?mode=LSD&mid=sec&sid1=101&oid=008&aid=0004338250', 'image_url': 'https://imgnews.pstatic.net/image/008/2020/01/10/0004338250_001_20200110123701211.jpg', 'date': datetime.datetime(2020, 1, 10, 12, 36)}\n",
      "KEYWORD UPSERT : [('2021-09-01 20:59:25', '2021-09-01 20:59:25', '고용노동부', 'ORGANIZATION', '2021-09-01 20:59:25', '고용노동부'), ('2021-09-01 20:59:25', '2021-09-01 20:59:25', '변지윤', 'PERSON', '2021-09-01 20:59:25', '변지윤')]\n",
      "KEYWORD UPSERT : [('2021-09-01 20:59:25', '2021-09-01 20:59:25', '더불어민주당', 'ORGANIZATION', '2021-09-01 20:59:25', '더불어민주당'), ('2021-09-01 20:59:25', '2021-09-01 20:59:25', '자유한국당', 'ORGANIZATION', '2021-09-01 20:59:25', '자유한국당'), ('2021-09-01 20:59:25', '2021-09-01 20:59:25', '최고위원회의', 'EVENT', '2021-09-01 20:59:25', '최고위원회의'), ('2021-09-01 20:59:25', '2021-09-01 20:59:25', '이해찬', 'PERSON', '2021-09-01 20:59:25', '이해찬')]\n",
      "KEYWORD UPSERT : [('2021-09-01 20:59:25', '2021-09-01 20:59:25', '마이셀럽스', 'ORGANIZATION', '2021-09-01 20:59:25', '마이셀럽스'), ('2021-09-01 20:59:25', '2021-09-01 20:59:25', '방탄소년단', 'PERSON', '2021-09-01 20:59:25', '방탄소년단')]\n",
      "ES INSERT : {'title': '코트라 공유오피스 형태 GP센터 상하이서 첫 선', 'summary': '멕시코시티 쿠알라룸푸르 아테네에도 3월 신설 중국 상하이에 위치한 공유오피스형 GP센터의 휴게공간 모습. 사진제공 코트라 서울경제 KOTRA 대한무역투자진흥공사 는 중국 상하이에 있는 해외 GP 글로벌 파트너링 센터를 공유오피스 형태로 전환한다고 10일 밝혔다. 보다 저렴한 입주비용으로 현지 네트워킹 효과를 최대화하기 위해서다. KOTRA는 사무공간을 운영하는 동시에 맞춤형 마케팅 서비스를 제공한다.', 'article_url': 'https://news.naver.com/main/read.nhn?mode=LSD&mid=sec&sid1=101&oid=011&aid=0003678748', 'image_url': 'https://imgnews.pstatic.net/image/011/2020/01/10/0003678748_001_20200110120501451.jpg', 'date': datetime.datetime(2020, 1, 10, 12, 5)}\n"
     ]
    },
    {
     "name": "stderr",
     "output_type": "stream",
     "text": [
      "\n",
      "\n",
      "\n",
      "\n",
      "\n",
      "\n",
      "\n",
      " 90%|█████████ | 18/20 [00:16<00:02,  1.13s/it]\u001b[A\u001b[A\u001b[A\u001b[A\u001b[A\u001b[A\u001b[A\n",
      "\n",
      "\n",
      "\n",
      "\n",
      " 95%|█████████▌| 19/20 [00:17<00:01,  1.09s/it]\u001b[A\u001b[A\u001b[A\u001b[A\u001b[A\n",
      "\n",
      "\n",
      "\n",
      "\n",
      "\n",
      " 95%|█████████▌| 19/20 [00:17<00:01,  1.02s/it]\u001b[A\u001b[A\u001b[A\u001b[A\u001b[A\u001b[A"
     ]
    },
    {
     "name": "stdout",
     "output_type": "stream",
     "text": [
      "KEYWORD UPSERT : [('2021-09-01 20:59:25', '2021-09-01 20:59:25', '기획재정부', 'ORGANIZATION', '2021-09-01 20:59:25', '기획재정부'), ('2021-09-01 20:59:25', '2021-09-01 20:59:25', '홍남기', 'PERSON', '2021-09-01 20:59:25', '홍남기'), ('2021-09-01 20:59:25', '2021-09-01 20:59:25', '관계장관회의', 'EVENT', '2021-09-01 20:59:25', '관계장관회의'), ('2021-09-01 20:59:25', '2021-09-01 20:59:25', '정부서울청사', 'ARTIFACT', '2021-09-01 20:59:25', '정부서울청사')]\n",
      "KEYWORD UPSERT : [('2021-09-01 20:59:25', '2021-09-01 20:59:25', '토다이', 'ORGANIZATION', '2021-09-01 20:59:25', '토다이')]\n",
      "ES INSERT : {'title': '뉴스N이슈 윤석열 패싱 항명이냐 아니냐...공방 계속', 'summary': '추미애 법무부 장관 윤석열 총장 패싱 논란에 대해서 어제 오히려 검찰총장이 나의 명을 거역했다 이렇게 반격에 나섰는데요. 야당은 검찰 대학살이다', 'article_url': 'https://news.naver.com/main/read.nhn?mode=LSD&mid=sec&sid1=100&oid=052&aid=0001386835', 'image_url': 'https://imgnews.pstatic.net/image/052/2020/01/10/202001101224228943_t_20200110130203845.jpg', 'date': datetime.datetime(2020, 1, 10, 12, 24)}\n",
      "ES INSERT : {'title': '민주당 “4·15 총선서 비례대표용 위성정당 안 만든다”', 'summary': '더불어민주당 총선기획단이 9일 4·15 총선에서 비례대표용 위성정당을 만들지 않겠다고 발표했다. 이날 전체회의 후 서면브리핑을 통해 “민주당은 자유한국당의 비례 위성정당 ‘비례자유한국당’ 꼼수가 가시화되고 의석수의 현저한 감소가 예상되는 어려운 상황임에도 국민 상향식 공천의 원칙을 지키고 훌륭한 인재 영입과 정책 제시를 통해 지역구 선거와 비례 정당투표 모두에서 정정당당하게 총선에 임할 것”이라며 이 같은 입장을 전했다. 민주당이 끝내 비례대표용 위성정당을 안 만들지는 미지수다.', 'article_url': 'https://news.naver.com/main/read.nhn?mode=LSD&mid=sec&sid1=100&oid=025&aid=0002966734', 'image_url': None, 'date': datetime.datetime(2020, 1, 10, 12, 6)}\n",
      "ES INSERT : {'title': '지배구조 개편 마무리 CJ…주가도 힘받을까', 'summary': '공격적 M A에 수익성 악화 재무부담 PER 10배수준 최저 …올해 수익성 개선 본격화 기대 이데일리 CJ 001040 가 지배구조 개편을 일단락하며 소외됐던 주가가 다시금 살아날지 관심이 쏠리고 있다. CJ는 지난 2007년 일찌감치 지주사 체제로 전환했지만 이재현 CJ그룹 회장이 월드베스트 2030을 발표한 2017년 무렵부터 공격적 인수합병 M A 부담에 주가는 맥을 못 추고 있다. CJ그룹은 계열사 매각 등 몸집을 줄이는 한편 차입부담을 낮추기 위한 재무구조 개선에도 힘을 쏟고 있다.', 'article_url': 'https://news.naver.com/main/read.nhn?mode=LSD&mid=sec&sid1=101&oid=018&aid=0004552415', 'image_url': 'https://imgnews.pstatic.net/image/018/2020/01/10/0004552415_001_20200110001101715.jpg', 'date': datetime.datetime(2020, 1, 10, 12, 11)}\n",
      "KEYWORD UPSERT : [('2021-09-01 20:59:25', '2021-09-01 20:59:25', '코트라', 'ORGANIZATION', '2021-09-01 20:59:25', '코트라'), ('2021-09-01 20:59:25', '2021-09-01 20:59:25', '대한무역투자진흥공사', 'ORGANIZATION', '2021-09-01 20:59:25', '대한무역투자진흥공사')]\n"
     ]
    },
    {
     "name": "stderr",
     "output_type": "stream",
     "text": [
      "\n",
      "\n",
      "\n",
      "\n",
      "100%|██████████| 20/20 [00:18<00:00,  1.10it/s]\u001b[A\u001b[A\u001b[A\u001b[A\n",
      "\n",
      "\n",
      "100%|██████████| 20/20 [00:18<00:00,  1.06it/s]\u001b[A\u001b[A\n",
      "\n",
      "\n",
      "\n",
      " 90%|█████████ | 19/21 [00:18<00:01,  1.01it/s]\u001b[A\u001b[A\u001b[A"
     ]
    },
    {
     "name": "stdout",
     "output_type": "stream",
     "text": [
      "ES INSERT : {'title': '게임 MCN ‘롤큐’ ‘2019 게임 크리에이터 파티’ 성료', 'summary': '머니투데이 중기 창업팀 게임 MCN ㈜롤큐 이하 롤큐 가 ‘2019 게임 크리에이터 파티’를 성황리에 종료했다고 밝혔다. 특히 본 행사는 내로라하는 게임 크리에이터들이 서로 친목을 도모하고 활발히 소통하며 국내 게임문화의 발전에 이바지하는 장으로 마련됐다는 점에서 의미를 지니고 있다. 게임 크리에이터들을 위한 파티인 만큼 ‘벤큐’의 첨단 게이밍 장비들을 체험 가능한 벤큐 부스를 선보이고 다양한 게임기들을 이용할 수 있는 환경을 조성해 참가자들로부터 호평을 받았다. 한편 롤큐는 2015년 설립된 국내 대표 게임 MCN이다.', 'article_url': 'https://news.naver.com/main/read.nhn?mode=LSD&mid=sec&sid1=101&oid=008&aid=0004338245', 'image_url': 'https://imgnews.pstatic.net/image/008/2020/01/10/0004338245_001_20200110123201205.jpg', 'date': datetime.datetime(2020, 1, 10, 12, 31)}\n",
      "ES INSERT : {'title': '공직자 속속 출사표 경쟁구도 가시화', 'summary': '사퇴시한 다가오며 행보 활발 유정배 석공사장 불출마 결정 4·15 총선을 앞두고 16일까지 사퇴 여부를 결정해야 하는 공직자들의 선택이 가시화되고 있다. 우선 더불어민주당으로 춘천 출마를 준비했던 유정배 대한석탄공사 사장이 최종적으로 불출마를 결정했다. 민주당 후보로 춘천 선거구에 출마할 예정이다.', 'article_url': 'https://news.naver.com/main/read.nhn?mode=LSD&mid=sec&sid1=100&oid=087&aid=0000783978', 'image_url': None, 'date': datetime.datetime(2020, 1, 10, 12, 34)}\n",
      "KEYWORD UPSERT : [('2021-09-01 20:59:25', '2021-09-01 20:59:25', '추미애', 'PERSON', '2021-09-01 20:59:25', '추미애'), ('2021-09-01 20:59:25', '2021-09-01 20:59:25', '윤석열', 'PERSON', '2021-09-01 20:59:25', '윤석열'), ('2021-09-01 20:59:25', '2021-09-01 20:59:25', '법무부', 'ORGANIZATION', '2021-09-01 20:59:25', '법무부'), ('2021-09-01 20:59:25', '2021-09-01 20:59:25', '대학살', 'EVENT', '2021-09-01 20:59:25', '대학살')]\n",
      "KEYWORD UPSERT : [('2021-09-01 20:59:25', '2021-09-01 20:59:25', '정당투표', 'EVENT', '2021-09-01 20:59:25', '정당투표'), ('2021-09-01 20:59:25', '2021-09-01 20:59:25', '민주당', 'ORGANIZATION', '2021-09-01 20:59:25', '민주당'), ('2021-09-01 20:59:25', '2021-09-01 20:59:25', '더불어민주당', 'ORGANIZATION', '2021-09-01 20:59:25', '더불어민주당'), ('2021-09-01 20:59:25', '2021-09-01 20:59:25', '자유한국당', 'ORGANIZATION', '2021-09-01 20:59:25', '자유한국당'), ('2021-09-01 20:59:25', '2021-09-01 20:59:25', '비례자유한국당', 'ORGANIZATION', '2021-09-01 20:59:25', '비례자유한국당')]\n",
      "KEYWORD UPSERT : [('2021-09-01 20:59:25', '2021-09-01 20:59:25', 'CJ그룹', 'ORGANIZATION', '2021-09-01 20:59:25', 'CJ그룹'), ('2021-09-01 20:59:25', '2021-09-01 20:59:25', '이재현', 'PERSON', '2021-09-01 20:59:25', '이재현')]\n",
      "ES INSERT : {'title': '軍 유휴부지 561만㎡ 개발 착수…지역발전 숨통', 'summary': '강원도 접경지역 5개군 국방부 상생발전협의회는 오는 16일 강원도청에서 첫 회의를 갖는다. 접경지 시·군은 이를 활용한 각종 지역 활력사업 등을 준비 중이다. 이수연 강원도 평화지역발전본부 총괄기획과장은 “상생발전협의회를 통해 국방개혁에 따른 유휴부지 활용 등 지역의 대안을 집중 논의하고 군사규제 완화와 더불어 지역 발전에 도움이 될 수 있도록 하겠다”고 말했다.', 'article_url': 'https://news.naver.com/main/read.nhn?mode=LSD&mid=sec&sid1=100&oid=087&aid=0000784010', 'image_url': None, 'date': datetime.datetime(2020, 1, 10, 12, 34)}\n"
     ]
    },
    {
     "name": "stderr",
     "output_type": "stream",
     "text": [
      "\n",
      "\n",
      "\n",
      "\n",
      "\n",
      "\n",
      "\n",
      " 95%|█████████▌| 19/20 [00:17<00:00,  1.07it/s]\u001b[A\u001b[A\u001b[A\u001b[A\u001b[A\u001b[A\u001b[A\n",
      "\n",
      "\n",
      "\n",
      "\n",
      "100%|██████████| 20/20 [00:18<00:00,  1.11it/s]\u001b[A\u001b[A\u001b[A\u001b[A\u001b[A\n",
      "\n",
      "\n",
      "\n",
      "\n",
      "\n",
      "\n",
      "100%|██████████| 20/20 [00:18<00:00,  1.11it/s]\u001b[A\u001b[A\u001b[A\u001b[A\u001b[A\u001b[A\n"
     ]
    },
    {
     "name": "stdout",
     "output_type": "stream",
     "text": [
      "KEYWORD UPSERT : [('2021-09-01 20:59:26', '2021-09-01 20:59:26', '벤큐', 'ORGANIZATION', '2021-09-01 20:59:26', '벤큐'), ('2021-09-01 20:59:26', '2021-09-01 20:59:26', '롤큐', 'ORGANIZATION', '2021-09-01 20:59:26', '롤큐')]\n",
      "KEYWORD UPSERT : [('2021-09-01 20:59:26', '2021-09-01 20:59:26', '유정배', 'PERSON', '2021-09-01 20:59:26', '유정배'), ('2021-09-01 20:59:26', '2021-09-01 20:59:26', '대한석탄공사', 'ORGANIZATION', '2021-09-01 20:59:26', '대한석탄공사'), ('2021-09-01 20:59:26', '2021-09-01 20:59:26', '민주당', 'ORGANIZATION', '2021-09-01 20:59:26', '민주당'), ('2021-09-01 20:59:26', '2021-09-01 20:59:26', '더불어민주당', 'ORGANIZATION', '2021-09-01 20:59:26', '더불어민주당')]\n",
      "KEYWORD UPSERT : [('2021-09-01 20:59:26', '2021-09-01 20:59:26', '강원도청', 'ARTIFACT', '2021-09-01 20:59:26', '강원도청'), ('2021-09-01 20:59:26', '2021-09-01 20:59:26', '평화지역발전본부', 'ORGANIZATION', '2021-09-01 20:59:26', '평화지역발전본부'), ('2021-09-01 20:59:26', '2021-09-01 20:59:26', '국방부', 'ORGANIZATION', '2021-09-01 20:59:26', '국방부'), ('2021-09-01 20:59:26', '2021-09-01 20:59:26', '상생발전협의회', 'ORGANIZATION', '2021-09-01 20:59:26', '상생발전협의회'), ('2021-09-01 20:59:26', '2021-09-01 20:59:26', '이수연', 'PERSON', '2021-09-01 20:59:26', '이수연')]\n",
      "ES INSERT : {'title': 'V자 해협 호르무즈는 원균의 칠천량…정의당 파병하면 표적 된다', 'summary': '왼쪽부터 김 실장 홍 부총리 심 대표 김종대 정의당 의원. 2020.1.10 뉴스1 © News1 서울 뉴스1 김성은 기자 국회 국방위원회 소속 김종대 정의당 의원은 10일 국회에서 홍남기 부총리 겸 기획재정부 장관 김상조 청와대 정책실장의 심상정 정의당 대표 예방 자리에 배석한 뒤 기자들과 만나 호르무즈 파병은 이순신 장군을 칠천도로 보내는 선조 논리랑 똑같은 것 이라고 했다. 김 의원은 호르무즈 파병을 두고 국군 역사상 가장 위험한 파병 이라고 평가했다. 이날 홍 부총리와 김 실장과 만난 자리에서도 호르무즈 해협의 지정학적 중요성이 논의됐다고 김 의원은 전했다.', 'article_url': 'https://news.naver.com/main/read.nhn?mode=LSD&mid=sec&sid1=100&oid=421&aid=0004402333', 'image_url': 'https://imgnews.pstatic.net/image/421/2020/01/10/0004402333_001_20200110134708174.jpg', 'date': datetime.datetime(2020, 1, 10, 12, 20)}\n",
      "ES INSERT : {'title': '자유한국당 강원도당 “중도·보수세력 통합 총선 반드시 승리”', 'summary': '황교안 당대표는 9일 오후 춘천 스카이컨벤션에서 열린 총선 필승결의 신년인사회 에서 “경제·안보를 무너뜨린 문재인 정권을 심판하기 위해 4·15 총선에서 한국당이 반드시 승리해야 한다”고 강조했다. 그러면서 더불어민주당 및 군소정당들이 당초예산안 선거법 개정안 및 공수처법을 일방적으로 통과시켰다고 비판하며 이를 저지하기 위해 한국당 내 변화와 혁신 단합을 촉구했다. 이와 함께 이현종 철원군수 최문순 화천군수 등 당 소속 전·현직 시장·군수 11명의 강원도의원 및 시·군의원 등 선출직들과 도당 핵심 당직자 당원 1 000여명이 몰려 총선 승리를 결의했다.', 'article_url': 'https://news.naver.com/main/read.nhn?mode=LSD&mid=sec&sid1=100&oid=087&aid=0000783976', 'image_url': 'https://imgnews.pstatic.net/image/087/2020/01/10/0000783976_001_20200110003419553.jpg', 'date': datetime.datetime(2020, 1, 10, 12, 34)}\n",
      "KEYWORD UPSERT : [('2021-09-01 20:59:26', '2021-09-01 20:59:26', '심상정', 'PERSON', '2021-09-01 20:59:26', '심상정'), ('2021-09-01 20:59:26', '2021-09-01 20:59:26', '김성은', 'PERSON', '2021-09-01 20:59:26', '김성은'), ('2021-09-01 20:59:26', '2021-09-01 20:59:26', '기획재정부', 'ORGANIZATION', '2021-09-01 20:59:26', '기획재정부'), ('2021-09-01 20:59:26', '2021-09-01 20:59:26', '청와대', 'ORGANIZATION', '2021-09-01 20:59:26', '청와대'), ('2021-09-01 20:59:26', '2021-09-01 20:59:26', '홍남기', 'PERSON', '2021-09-01 20:59:26', '홍남기'), ('2021-09-01 20:59:26', '2021-09-01 20:59:26', '김상조', 'PERSON', '2021-09-01 20:59:26', '김상조'), ('2021-09-01 20:59:26', '2021-09-01 20:59:26', '국방위원회', 'ORGANIZATION', '2021-09-01 20:59:26', '국방위원회'), ('2021-09-01 20:59:26', '2021-09-01 20:59:26', '이순신', 'PERSON', '2021-09-01 20:59:26', '이순신'), ('2021-09-01 20:59:26', '2021-09-01 20:59:26', '김종대', 'PERSON', '2021-09-01 20:59:26', '김종대'), ('2021-09-01 20:59:26', '2021-09-01 20:59:26', '정의당', 'ORGANIZATION', '2021-09-01 20:59:26', '정의당')]\n"
     ]
    },
    {
     "name": "stderr",
     "output_type": "stream",
     "text": [
      "\n",
      "\n",
      "\n",
      " 95%|█████████▌| 20/21 [00:18<00:00,  1.28it/s]\u001b[A\u001b[A\u001b[A\n",
      "\n",
      "\n",
      "\n",
      "\n",
      "\n",
      "\n",
      "100%|██████████| 20/20 [00:17<00:00,  1.13it/s]\u001b[A\u001b[A\u001b[A\u001b[A\u001b[A\u001b[A\u001b[A\n",
      "\n",
      "\n",
      "\n",
      "100%|██████████| 21/21 [00:18<00:00,  1.12it/s]\u001b[A\u001b[A\u001b[A"
     ]
    },
    {
     "name": "stdout",
     "output_type": "stream",
     "text": [
      "KEYWORD UPSERT : [('2021-09-01 20:59:26', '2021-09-01 20:59:26', '스카이컨벤션', 'ARTIFACT', '2021-09-01 20:59:26', '스카이컨벤션'), ('2021-09-01 20:59:26', '2021-09-01 20:59:26', '한국당', 'ORGANIZATION', '2021-09-01 20:59:26', '한국당'), ('2021-09-01 20:59:26', '2021-09-01 20:59:26', '이현종', 'PERSON', '2021-09-01 20:59:26', '이현종'), ('2021-09-01 20:59:26', '2021-09-01 20:59:26', '황교안', 'PERSON', '2021-09-01 20:59:26', '황교안'), ('2021-09-01 20:59:26', '2021-09-01 20:59:26', '더불어민주당', 'ORGANIZATION', '2021-09-01 20:59:26', '더불어민주당'), ('2021-09-01 20:59:26', '2021-09-01 20:59:26', '최문순', 'PERSON', '2021-09-01 20:59:26', '최문순'), ('2021-09-01 20:59:26', '2021-09-01 20:59:26', '신년인사회', 'EVENT', '2021-09-01 20:59:26', '신년인사회'), ('2021-09-01 20:59:26', '2021-09-01 20:59:26', '문재인', 'PERSON', '2021-09-01 20:59:26', '문재인')]\n",
      "ES INSERT : {'title': '대학살 다음 날…이낙연까지 윤석열 협공', 'summary': '추미애·윤석열 인사협의 불발 관련 이 총리 “장관이 필요한 대응하라” 검찰 “법무부에 징계·감찰 요구한 것” 한국당 “검찰 숙청 망나니 정권” ‘윤석열 사단’의 해체 인사 다음 날 이낙연 국무총리까지 나서 검찰총장을 공개 압박했다. 이 총리는 9일 오후 추미애 법무부 장관에게 검찰 인사와 관련 유선보고를 받은 뒤 윤석열 검찰총장을 향해 “공직자의 자세로서 유감스럽다”는 입장을 밝혔다. 이 총리가 ‘유감’을 밝힌 이유는 “인사 과정에서 검찰청법이 정한 법무부 장관의 의견 청취 요청을 검찰총장이 거부한 것” 때문이라고 총리실은 설명했다.', 'article_url': 'https://news.naver.com/main/read.nhn?mode=LSD&mid=sec&sid1=100&oid=025&aid=0002966728', 'image_url': 'https://imgnews.pstatic.net/image/025/2020/01/10/0002966728_001_20200110061010239.jpg', 'date': datetime.datetime(2020, 1, 10, 12, 6)}\n",
      "KEYWORD UPSERT : [('2021-09-01 20:59:26', '2021-09-01 20:59:26', '추미애', 'PERSON', '2021-09-01 20:59:26', '추미애'), ('2021-09-01 20:59:26', '2021-09-01 20:59:26', '윤석열', 'PERSON', '2021-09-01 20:59:26', '윤석열'), ('2021-09-01 20:59:26', '2021-09-01 20:59:26', '법무부', 'ORGANIZATION', '2021-09-01 20:59:26', '법무부'), ('2021-09-01 20:59:26', '2021-09-01 20:59:26', '한국당', 'ORGANIZATION', '2021-09-01 20:59:26', '한국당'), ('2021-09-01 20:59:26', '2021-09-01 20:59:26', '이낙연', 'PERSON', '2021-09-01 20:59:26', '이낙연'), ('2021-09-01 20:59:26', '2021-09-01 20:59:26', '총리실', 'ORGANIZATION', '2021-09-01 20:59:26', '총리실')]\n",
      "CPU times: user 1min 11s, sys: 7.06 s, total: 1min 18s\n",
      "Wall time: 57.6 s\n"
     ]
    },
    {
     "name": "stderr",
     "output_type": "stream",
     "text": [
      "\n"
     ]
    }
   ],
   "source": [
    "%%time\n",
    "\n",
    "STOPWORDS = [\"한국일보\", \"매일경제\", \"일다\", \"이코노미스트\", \"조선일보\", \"국민일보\", \"MBN\", \"시사IN\", \"이데일리\", \"한경비즈니스\", \"서울신문\", \"월간 산\", \"더팩트\", \"헤럴드경제\", \"한국경제\", \"블로터\", \"SBS Biz\", \"뉴스1\", \"헬스조선\", \"디지털데일리\", \"YTN\", \"중앙SUNDAY\", \"코메디닷컴\", \"디지털타임스\", \"한겨레21\", \"노컷뉴스\", \"JTBC\", \"파이낸셜뉴스\", \"서울경제\", \"중앙일보\", \"세계일보\", \"매일신문\", \"TV조선\", \"동아일보\", \"기자협회보\", \"오마이뉴스\", \"한겨레\", \"매경이코노미\", \"경향신문\", \"한국경제TV\", \"여성신문\", \"강원일보\", \"코리아중앙데일리\", \"연합뉴스\", \"연합뉴스TV\", \"문화일보\", \"시사저널\", \"비즈니스워치\", \"신동아\", \"조세일보\", \"머니투데이\", \"레이디경향\", \"주간경향\", \"미디어오늘\", \"채널A\", \"부산일보\", \"프레시안\", \"동아사이언스\", \"코리아헤럴드\", \"ZDNet Korea\", \"SBS\", \"아이뉴스24\", \"뉴시스\", \"뉴스타파\", \"머니S\", \"데일리안\", \"전자신문\", \"조선비즈\", \"아시아경제\", \"MBC\", \"KBS\", \"주간조선\", \"주간동아\"]\n",
    "keyword_news_list = []\n",
    "news_summary_list = []\n",
    "lock = threading.Lock();\n",
    "keyword_lock = threading.Lock();\n",
    "\n",
    "thread_list = []\n",
    "print(\"thread starting...\")\n",
    "for tmp_data in parallel_data_list:\n",
    "\n",
    "    tmp_thread = threading.Thread(target=summarize_keyword, args=(tmp_data, keyword_news_list, news_summary_list, lock, keyword_lock, ), daemon=True)\n",
    "    thread_list.append(tmp_thread)\n",
    "    tmp_thread.start()\n",
    "\n",
    "for th in thread_list:\n",
    "    th.join()\n",
    "\n",
    "\n"
   ]
  },
  {
   "cell_type": "code",
   "execution_count": 26,
   "id": "aef1fcde",
   "metadata": {},
   "outputs": [],
   "source": [
    "for v in news_summary_list:\n",
    "    tmp = list(service_data[v[0]])\n",
    "    tmp[3] = v[3]\n",
    "    service_data[v[0]] = tuple(tmp)"
   ]
  },
  {
   "cell_type": "code",
   "execution_count": 27,
   "id": "e9496b1e",
   "metadata": {},
   "outputs": [
    {
     "name": "stdout",
     "output_type": "stream",
     "text": [
      "[(2343885, 'true', 11054690000456330), (2343825, 'false', 11040010011327585), (2343886, 'true', 11001190002376052), (2343887, 'true', 11014170000491941), (2343888, 'true', 11020020002117915), (2343889, 'true', 11020010011327576), (2343890, 'true', 11040560010781295), (2343826, 'false', 11010320002985410), (2343827, 'false', 11004210004402369), (2343891, 'true', 11020140004355774)]\n",
      "[(11054690000456330, '2020-01-10 13:05:00', '2021-09-01 20:58:28', '로이터 연합뉴스 “1990년대의 기술 플랫폼은 데스크톱 컴퓨터였고 2000년대는 웹이었으며 2010년대는 휴대폰이었습니다. 각 시대마다 이 플랫폼들은 점점 자연스럽게 우리의 일상에 스며들었죠. 앞으로도 여전히 휴대폰이 중요하겠지만 2020년대의 어느 시점이 되면 증강현실 AR 글래스가 우리와 기술의 관계를 다시 정의 내릴 겁니다.” 마크 저커버그 사진 페이스북 최고경영자 CEO 가 9일 현지시간 자신의 사회관계망서비스 SNS 인 페이스북에 2020년대 기술 플랫폼 전망을 이렇게 내다봤다. 저커버그는 “올해는 1년짜리 새해 다짐보다는 2030년에 나와 세상이 어떻게 돼 있을지에 좀 더 집중해 보려고 한다”면서 향후 10년간 주목해야 될 사안을 소개했다. 그는 우선 다음 세대 컴퓨팅 플랫폼으로 ‘AR글래스’를 주목했다. AR은 실제현실 위에 디지털로 구현한 가상현실을 포개서 띄우는 기술로 AR글래스는 이를 도와주는 안경 형태의 디지털 기기다. 저커버그는 “어디든 ‘현재’가 될 수 있는 이 기술은 우리 사회의 가장 큰 문제들을 해결해줄 수 있을 것”이라며 대표적인 사례로 엄청난 부동산 비용과 지리적 원인으로 인한 불평등을 꼽았다. 현재는 사람들이 일자리를 위해 도시로 몰려들면서 집값은 폭등하는 데 반해 삶의 질은 떨어지고 있지만 AR글래스가 보편화되면 각자 거주지에 머물며 일하는 경우가 늘어나면서 도시 이주에 대한 필요성은 떨어질 것이란 점에서다. 글로벌 업체들의 움직임도 분주하다. 이탈리아 기업 ‘룩소티카’와 함께 AR 레이밴 선글라스 ‘오리온’을 개발 중인 페이스북을 비롯해 아마존과 애플 마이크로소프트 MS 등은 이미 AR 시장에 뛰어든 상태다. 저커버그는 이 밖에 페이스북이 ‘밀레니얼 회사’란 점을 강조하면서 앞으로 10년간 자선재단 ‘챈 저커버그 이니셔티브’를 통해 젊은 사업가와 과학자 지도자들에게 기회를 제공할 계획도 내비쳤다. 그는 “당시에는 아무도 들어주지 않던 우리 세대의 목소리를 내기 위해서 페이스북을 만들었었다”며 “다음 10년간은 기후변화와 교육 주택 의료비용 등에 대해 고민하고 이야기하는 밀레니얼 세대가 더 많은 목소리를 내게 될 것”이라고 강조했다.', 'https://news.naver.com/main/read.nhn?mode=LSD&mid=sec&sid1=105&oid=469&aid=0000456330', 'IT/과학', '저커버그 “2020년대는 AR글라스 시대…부동산 불평등 해결될 것”', 'https://imgnews.pstatic.net/image/469/2020/01/10/0000456330_001_20200111044742018.jpg', 0.0021691973969631237, '2021-09-01 20:58:28', 0.0021691973969631237), (11001190002376052, '2020-01-10 13:01:00', '2021-09-01 20:58:28', '만20세 되는 모든 청년에게 국가에서 3000 5000만원 지급 내년부터 시행시 18조원 필요… 세제 강화로 마련할 것 野 제 정신인가 돈으로 청년의 정의 사겠다는 마음 악해 심상정 정의당 대표와 이정미 총선기획단장을 비롯한 기획위원들이 지난 4일 국회에서 열린 총선기획단 발족식에서 파이팅을 외치고 있다. ⓒ데일리안 정의당이 총선 공약 1호 로 발표한 청년 기초자산제도 를 놓고 정치권으로부터 강도 높은 비판이 쏟아지고 있다. 특히 올해 총선에서 투표권이 현재 고등학교 3학년생인 만 18세까지로 하향 조정된 만큼 이들의 표를 노린 선심성 공약이라는 비판이 많다. 정의당이 발표한 청년 기초자산제도 는 향후 만20세가 되는 모든 청년에게 국가가 각 3000만원의 출발자산을 제공하고 양육시설 퇴소자 등 부모가 없는 청년에게는 이보다 많은 최고 5000만원의 기초자산을 지급하는 내용을 골자로 한다. 이들은 당장 내년부터 이 제도가 시행될 경우 필요한 예산을 18조원 정도로 추산하면서 여기에 소요되는 재정은 상속증여세 강화 종합부동산세 강화 부유세 신설 등 자산세제 강화를 통해 마련할 것 이라고 주장했다. 심상정 정의당 대표는 부모 찬스를 쓸 수 없는 수많은 대한민국 청년들이 사회에 나와 삶의 전망을 열지 못하고 희망 없이 살게 한다면 그 자체가 희망 없는 사회 라며 부모 찬스가 없으면 사회찬스를 쓰게 해야 한다. 세계 경제규모 11위인 대한민국이 능히 할 수 있는 일이고 마땅히 해야 할 일 이라고 언급했다. 이 같은 정의당의 포퓰리즘성 공약을 두고 야권에서는 강도 높은 비판에 나섰다. 민경욱 자유한국당 의원은 심상정 대표의 돈 3000만원부터 쾌척하면 진정성을 믿어주겠다 라며 이걸 정말로 발표를 하는가 표 긁을 생각만 있고 상식과 정의가 없는 당이다. 제정신인가 라고 꼬집었다. 이종철 새로운보수당 대변인도 돈으로 청년의 정의를 사겠다는 마음이 악하다. 정의당의 정의는 시궁창에 던져버려라 며 당명에 정의라는 단어를 쓰는 정의당이 참 부끄럽다 고 언급했다. 이 대변인은 조국 정국에서 조국 전 법무장관을 옹호했던 정의당의 사례를 거론하며 부모 찬스가 없는 청년에게 사회 찬스를 주자면서 부모 찬스의 가장 추악한 면모를 보여준 조국 부부를 옹호한다 라며 이 같은 이율배반은 정의와 공정만을 바라는 청년 정신에 대한 모욕이고 모독이 아닌가 라고 강조했다. 심 대표는 일부 보수언론과 한국당 등에서 선거철에 등장하는 흔한 포퓰리즘 공약으로 비난하고 있다 라며 저와 정의당은 청년 기초자산제도가 이 시대 청년들이 겪고 있는 실생활의 난관과 극심한 불평등을 완화를 할 수 있다면 그런 비난 따위는 아랑곳하지 않겠다. 그것은 좋은 포퓰리즘 이라고 했다. 정치권에서는 선거철이 다가오며 표를 노린 선심성 공약이 남발할 것을 우려하는 목소리가 커지고 있다. 특히 처음으로 투표권을 갖게 된 만 18세 청년들을 대상으로 한 선거전략이 쏟아질 가능성이 커 대비책을 마련해야 한다는 지적이 많다. 이러한 여론을 의식한 듯 심재철 한국당 원내대표는 고등학교 3학년생 표를 노리고 각 정당과 후보자들이 학교 안에서 선거유세를 할 경우 학교 현장이 오염될 것 이라며 교내 선거운동 방지법안 을 발의하겠다 고 선언했다.', 'https://news.naver.com/main/read.nhn?mode=LSD&mid=sec&sid1=100&oid=119&aid=0002376052', '정치', '이러려고 투표 연령 낮췄나…정의당 3000만원 지급 공약 논란', 'https://imgnews.pstatic.net/image/119/2020/01/10/0002376052_001_20200110130106083.jpg', 0.0021691973969631237, '2021-09-01 20:58:28', 0.0021691973969631237), (11014170000491941, '2020-01-10 13:00:00', '2021-09-01 20:58:28', '카드업계는 올해도 어김없이 스키장 리프트권 장비 렌탈 비용뿐만 아니라 스키 강습 부대시설 등의 할인 이벤트를 진행 중이다. 카드사별 스키장 관련 혜택을 꼼꼼히 숙지한다면 알뜰하게 슬로프를 누빌 수 있다. 우선 신한카드는 국내 10곳의 스키장과 제휴를 맺고 리프트 렌탈 강습 등 리조트 관련 할인 이벤트를 진행 중이다.', 'https://news.naver.com/main/read.nhn?mode=LSD&mid=sec&sid1=101&oid=417&aid=0000491941', '경제', '오머니 모르면 손해 스키장 반값 할인 카드', 'https://imgnews.pstatic.net/image/417/2020/01/10/0000491941_001_20200110130008885.jpg', 0.0021691973969631237, '2021-09-01 20:58:28', 0.0021691973969631237), (11020020002117915, '2020-01-10 12:58:00', '2021-09-01 20:58:28', '스님 이장님이 마을사업추진을 시작하게 된 것이다. 오대산 중산간지역마을로 소금강 동해로 가는 길목이라 교통량이 많았던 시절에는 자릿값을 하던 마을이었다. 당시 다른 마을들은 새농어촌건설사업을 도전해 마을변화를 도모하고 있었지만 이 마을은 마을인구수가 적고 기반이 취약해 도전 조건 자체가 어려운 상황이었다.', 'https://news.naver.com/main/read.nhn?mode=LSD&mid=sec&sid1=102&oid=002&aid=0002117915', '사회', '마을자치는 ‘산골마을 기적’도 가능하다', 'https://imgnews.pstatic.net/image/002/2020/01/10/0002117915_001_20200110005800896.jpg', 0.0021691973969631237, '2021-09-01 20:58:28', 0.0021691973969631237), (11020010011327576, '2020-01-10 12:52:00', '2021-09-01 20:58:28', '합동조사단 외부 요인 가능성 있으나 단정할 수 없어 대구시 조사단 권고 계기 대기 질 개선 종합계획 수립 병원으로 이송되는 학생들 대구 연합뉴스 2일 오후 대구시 북구 침산동 경상여자고등학교에서 가스 냄새를 맡고 이상증세를 보이는 학생들이 병원으로 이송되고 있다. 2019.9.2 mtkht yna.co.kr 대구 연합뉴스 홍창진 기자 지난해 9월 2일 대구시 북구 침산동 경상여고 강당에서 발생한 가스흡입 사고의 정확한 원인을 밝히지 못한 채 관계 당국 합동 조사가 마무리된다. 경상여고 가스흡입사고 원인 규명 합동조사단 은 10일 대구시청에서 조사 결과를 발표하며 당초 강당 내 누출가스 시료를 채취하지 못했고 인근 산업단지 주변 모니터링 결과에서도 특정한 원인 물질을 밝히지 못했다 고 밝혔다. 합동조사단은 지난해 9월 19일 대기·악취 화학물질 학교보건 시민단체 등 분야별 전문가 7명으로 구성돼 원인조사에 나섰다. 사고 직후 소방 경찰 가스공사 등의 초동조사에서는 인근 3공단 등 공업지역 대기 배출 사업장의 배출가스 유입 가능성 강당 에어컨 냉매 누출 과학실 폐시약 가스 누출 등을 사고원인으로 추정했었다. 한국환경공단 울산시 보건환경연구원 소속 이동형 대기측정 차량이 경상여고 안팎과 인근 지역의 악취·대기오염 물질을 조사했다. 인근 산업단지 일반공업지역을 대상으로도 관계기관 합동 점검이 이뤄졌다. 합동조사단은 초동조사 결과와 대기 질 모니터링 자료 분석 피해 학생과 교사 역학조사 등 추가조사 자료 등을 바탕으로 자체 조사를 벌였다. 조사단은 결론적으로 초동조사 때 시료를 채취하지 못해 원인 물질 성분 발생원 유입경로 등에 대한 확인이 불가능했고 사후 조사의 한계로 명확한 사고 원인을 밝히지 못했다 고 밝혔다. 조사단 관계자는 피해 학생들의 혈중 이산화탄소 CO 수치가 1.5% 이상인 사례가 많은 점 등으로 미뤄 외부적 요인에 의한 가능성을 추정할 수 있으나 단정할 수는 없다 고 설명했다. 조사단은 이러한 결과를 바탕으로 사고 재발을 막기 위해 경상여고 인근 사업장에 대한 집중관리와 대기 질 개선방안 등을 대구시와 관계기관에 권고했다. 백성옥 합동조사단 단장 영남대 교수 은 민간 감시기구를 구성해 학교 주변 사업장 관리를 강화하고 인근 지역을 악취관리지역으로 지정하도록 권고했으며 교내 시설개선 필요성을 지적했다 고 말했다. 이에 대해 대구시는 합동조사단 권고를 계기로 도심 산단 악취 및 유해 대기오염물질 저감을 위한 종합계획을 수립해 도심 산단 대기 질을 개선하겠다 고 밝혔다.', 'https://news.naver.com/main/read.nhn?mode=LSD&mid=sec&sid1=102&oid=001&aid=0011327576', '사회', '대구 경상여고 가스흡입 사고 원인 못 밝힌 채 조사 마무리', 'https://imgnews.pstatic.net/image/001/2020/01/10/AKR20200110076500053_01_i_20200110135112791.jpg', 0.0021691973969631237, '2021-09-01 20:58:28', 0.0021691973969631237), (11040560010781295, '2020-01-10 12:50:00', '2021-09-01 20:58:28', '앵커 팔다 남아 버려지는 식품을 줄이기 위해 날씨 정보와 스마트폰 앱 등을 활용한 대책이 도입되고 있습니다. 리포트 이 대형마트에서는 매일 신선식품과 반찬 등의 10% 정도가 팔다 남아 버려졌는데요. 식품 폐기는 자원 낭비일 뿐 아니라 점포 입장에서는 손실이기 때문에 이 같은 적극적인 대책을 마련하는 곳이 늘어날 전망입니다.', 'https://news.naver.com/main/read.nhn?mode=LSD&mid=sec&sid1=104&oid=056&aid=0010781295', '세계', '일본 버려지는 식품 줄이기 위해 날씨 정보 활용', 'https://imgnews.pstatic.net/image/056/2020/01/10/0010781295_001_20200110125003671.jpg', 0.0021691973969631237, '2021-09-01 20:58:28', 0.0021691973969631237), (11020140004355774, '2020-01-10 12:46:00', '2021-09-01 20:58:28', '새만금 입주 연구기관에 국공유 재산 사용료 감면 혜택 투자유치 활성화와 수질개선 탄력 기대 ‘새만금 사업 추진 및 지원에 관한 특별법’ 이 지난 9일 국회 본회의를 통과해 새만금 활성화가 기대된다.사진 뉴스1 DB 파이낸셜뉴스 전주 전북도는 새만금 개발사업 활성화와 새만금유역 수질개선 사업 추진 내용을 담은 ‘새만금사업 추진 및 지원에 관한 특별법’ 개정안이 국회 본회의를 통과했다고 10일 밝혔다. 지난해 2월 이춘석 의원이 발의한 개정안과 3월 김관영 의원 발의 개정안 그리고 5월 조배숙 의원이 발의한 개정안을 통합한 내용으로 지난해 11월 27일 국회 법사위를 통과한 후 드디어 9일 본회의에서 가결 처리 됐다. 개정안은 새만금개발청이 사업시행자를 보다 효과적으로 관리·감독할 수 있도록 사업시행자 지정의 취소 및 대체지정 이와 연계된 조성 토지 매도명령에 대한 법적 근거를 마련한 게 주요 골자다. 구체적으로는 △사업 착수 등을 아니한 사업시행자 지정취소 및 대체지정 외국인 출입국관리 특례 부여 △연구기관도 국공유지 임대료 감면 및 수의계약 특례 부여 △새만금유역 수질개선을 위한 익산 왕궁 현업축사 매입사업 유효기간 오는 2024년까지 5년 연장 등이다. 전북도는 새만금 내부개발 사업과 투자유치가 더욱 활성화되고 익산 왕궁 현업축사 매입 사업의 안정적 추진으로 새만금유역 수질개선이 탄력을 받을 것으로 기대했다. 또 하반기부터 새만금 사업 지역에 입주하는 연구기관이 국·공유 재산의 사용료 감면 혜택을 받는다. 새만금에 연구기관을 유치 산업 클러스터를 조성하기 위해 입주 기업에만 적용되던 국·공유 재산의 사용료·대부료 감면 혜택을 연구기관까지 확대한다. 국·공유 재산 가액의 1%까지 감면받는다. 구체적인 연구기관의 범위는 이후 시행령 등으로 정하게 된다.', 'https://news.naver.com/main/read.nhn?mode=LSD&mid=sec&sid1=102&oid=014&aid=0004355774', '사회', '전북도 ‘새만금 사업 추진 및 지원에 관한 특별법’ 국회 통과', 'https://imgnews.pstatic.net/image/014/2020/01/10/0004355774_001_20200110124602641.jpg', 0.0021691973969631237, '2021-09-01 20:58:28', 0.0021691973969631237), (11030210002413605, '2020-01-10 12:41:00', '2021-09-01 20:58:28', '군고구마의 사촌인 군밤도 있는데 불에 구워서 만든 것이니 ‘구운 고구마’나 ‘구운 밤’이 변해서 된 말임을 알 수 있다. 여러 조리법이 있지만 최초의 조리법은 역시 불에 굽는 것일 수밖에 없다. 가장 원초적인 조리법인 굽는 방법은 앞에 쓰일 때는 ‘구운’으로 뒤에 쓰일 때는 ‘구이’로 나타난다.', 'https://news.naver.com/main/read.nhn?mode=LSD&mid=sec&sid1=103&oid=021&aid=0002413605', '생활/문화', '한성우 교수의 맛의 말 말의 맛군고구마', 'https://imgnews.pstatic.net/image/021/2020/01/10/0002413605_001_20200110124105627.jpg', 0.0021691973969631237, '2021-09-01 20:58:28', 0.0021691973969631237), (11020050001277018, '2020-01-10 12:39:00', '2021-09-01 20:58:28', '건강상의 이유를 들었고 그것이 사실로도 알려졌지만 임기내내 ‘재밋섬’ 뒷수습에 매달려온 탓에 재단 안팎에서는 재밋섬 사태가 사실상 9대 이사장 체제의 발목을 잡았다는 아쉬움이 제기된다. 재단 등에 따르면 고경대 이사장이 최근 사직 의사를 표함에 따라 제주도가 오늘 10일 자로 면직처리했다. 제주문화예술재단은 오늘부터 직무대행 체제에 들어간다. 고경대 이사장은 2018년 9월 제9대 이사장으로 취임했다.', 'https://news.naver.com/main/read.nhn?mode=LSD&mid=sec&sid1=102&oid=005&aid=0001277018', '사회', '‘재밋섬’이 발목잡은 제주문화예술재단 ‘2년’', 'https://imgnews.pstatic.net/image/005/2020/01/10/611220270014116654_1_20200110124202124.jpg', 0.0021691973969631237, '2021-09-01 20:58:28', 0.0021691973969631237), (11010820000972879, '2020-01-10 12:36:00', '2021-09-01 20:58:28', '연합뉴스 지난해 3월 발생한 러시아 화물선의 부산 광안대교 충돌 사고처럼 술에 취한 채 선박을 운항한 사람에 대한 벌칙이 강화된다. 해양수산부는 이 같은 내용을 담은 해사안전법 일부개정법률안 등 소관 법률안 52건이 국회 본회의를 통과했다고 9일 밝혔다. 해수부는 해사안전법 개정안은 일명 선박에 대한 윤창호법이라 할 수 있다 며 현행 벌칙과 행정처분을 혈중알코올 농도에 따라 세분화하고 강화했다 고 소개했다.', 'https://news.naver.com/main/read.nhn?mode=LSD&mid=sec&sid1=101&oid=082&aid=0000972879', '경제', '선박판 윤창호법 도입…음주운항 징역 최대 3년→5년', 'https://imgnews.pstatic.net/image/082/2020/01/10/0000972879_001_20200110003605631.jpg', 0.0021691973969631237, '2021-09-01 20:58:28', 0.0021691973969631237)]\n",
      "[('2021-09-01 20:59:05', '2021-09-01 20:59:05', 21627124, 11100250002966762, '2021-09-01 20:59:05'), ('2021-09-01 20:59:05', '2021-09-01 20:59:05', 22436322, 11100250002966745, '2021-09-01 20:59:05'), ('2021-09-01 20:59:05', '2021-09-01 20:59:05', 21873300, 11100250002966745, '2021-09-01 20:59:05'), ('2021-09-01 20:59:05', '2021-09-01 20:59:05', 21645475, 11100250002966745, '2021-09-01 20:59:05'), ('2021-09-01 20:59:05', '2021-09-01 20:59:05', 21952746, 11100150004271578, '2021-09-01 20:59:05'), ('2021-09-01 20:59:05', '2021-09-01 20:59:05', 21625262, 11100150004271578, '2021-09-01 20:59:05'), ('2021-09-01 20:59:05', '2021-09-01 20:59:05', 22220729, 11051380002081506, '2021-09-01 20:59:05'), ('2021-09-01 20:59:06', '2021-09-01 20:59:06', 21625271, 11040010011327520, '2021-09-01 20:59:06'), ('2021-09-01 20:59:06', '2021-09-01 20:59:06', 21625410, 11040010011327520, '2021-09-01 20:59:06'), ('2021-09-01 20:59:06', '2021-09-01 20:59:06', 21627124, 11040010011327520, '2021-09-01 20:59:06')]\n",
      "[(11040010011327585,), (11010320002985410,), (11004210004402369,), (11004210004402352,), (11001190002376042,), (11004210004402338,), (11020870000783992,), (11004220000409288,), (11024690000456329,), (11020140004355769,)]\n",
      "[(11054690000456330, '2020-01-10 13:05:00', '2021-09-01 20:58:28', '로이터 연합뉴스 “1990년대의 기술 플랫폼은 데스크톱 컴퓨터였고 2000년대는 웹이었으며 2010년대는 휴대폰이었습니다. 각 시대마다 이 플랫폼들은 점점 자연스럽게 우리의 일상에 스며들었죠. 앞으로도 여전히 휴대폰이 중요하겠지만 2020년대의 어느 시점이 되면 증강현실 AR 글래스가 우리와 기술의 관계를 다시 정의 내릴 겁니다.” 마크 저커버그 사진 페이스북 최고경영자 CEO 가 9일 현지시간 자신의 사회관계망서비스 SNS 인 페이스북에 2020년대 기술 플랫폼 전망을 이렇게 내다봤다. 저커버그는 “올해는 1년짜리 새해 다짐보다는 2030년에 나와 세상이 어떻게 돼 있을지에 좀 더 집중해 보려고 한다”면서 향후 10년간 주목해야 될 사안을 소개했다. 그는 우선 다음 세대 컴퓨팅 플랫폼으로 ‘AR글래스’를 주목했다. AR은 실제현실 위에 디지털로 구현한 가상현실을 포개서 띄우는 기술로 AR글래스는 이를 도와주는 안경 형태의 디지털 기기다. 저커버그는 “어디든 ‘현재’가 될 수 있는 이 기술은 우리 사회의 가장 큰 문제들을 해결해줄 수 있을 것”이라며 대표적인 사례로 엄청난 부동산 비용과 지리적 원인으로 인한 불평등을 꼽았다. 현재는 사람들이 일자리를 위해 도시로 몰려들면서 집값은 폭등하는 데 반해 삶의 질은 떨어지고 있지만 AR글래스가 보편화되면 각자 거주지에 머물며 일하는 경우가 늘어나면서 도시 이주에 대한 필요성은 떨어질 것이란 점에서다. 글로벌 업체들의 움직임도 분주하다. 이탈리아 기업 ‘룩소티카’와 함께 AR 레이밴 선글라스 ‘오리온’을 개발 중인 페이스북을 비롯해 아마존과 애플 마이크로소프트 MS 등은 이미 AR 시장에 뛰어든 상태다. 저커버그는 이 밖에 페이스북이 ‘밀레니얼 회사’란 점을 강조하면서 앞으로 10년간 자선재단 ‘챈 저커버그 이니셔티브’를 통해 젊은 사업가와 과학자 지도자들에게 기회를 제공할 계획도 내비쳤다. 그는 “당시에는 아무도 들어주지 않던 우리 세대의 목소리를 내기 위해서 페이스북을 만들었었다”며 “다음 10년간은 기후변화와 교육 주택 의료비용 등에 대해 고민하고 이야기하는 밀레니얼 세대가 더 많은 목소리를 내게 될 것”이라고 강조했다.', 'https://news.naver.com/main/read.nhn?mode=LSD&mid=sec&sid1=105&oid=469&aid=0000456330', 'IT/과학', '저커버그 “2020년대는 AR글라스 시대…부동산 불평등 해결될 것”', 'https://imgnews.pstatic.net/image/469/2020/01/10/0000456330_001_20200111044742018.jpg', 0.0021691973969631237, '2021-09-01 20:58:28', 0.0021691973969631237), (11001190002376052, '2020-01-10 13:01:00', '2021-09-01 20:58:28', '만20세 되는 모든 청년에게 국가에서 3000 5000만원 지급 내년부터 시행시 18조원 필요… 세제 강화로 마련할 것 野 제 정신인가 돈으로 청년의 정의 사겠다는 마음 악해 심상정 정의당 대표와 이정미 총선기획단장을 비롯한 기획위원들이 지난 4일 국회에서 열린 총선기획단 발족식에서 파이팅을 외치고 있다. ⓒ데일리안 정의당이 총선 공약 1호 로 발표한 청년 기초자산제도 를 놓고 정치권으로부터 강도 높은 비판이 쏟아지고 있다. 특히 올해 총선에서 투표권이 현재 고등학교 3학년생인 만 18세까지로 하향 조정된 만큼 이들의 표를 노린 선심성 공약이라는 비판이 많다. 정의당이 발표한 청년 기초자산제도 는 향후 만20세가 되는 모든 청년에게 국가가 각 3000만원의 출발자산을 제공하고 양육시설 퇴소자 등 부모가 없는 청년에게는 이보다 많은 최고 5000만원의 기초자산을 지급하는 내용을 골자로 한다. 이들은 당장 내년부터 이 제도가 시행될 경우 필요한 예산을 18조원 정도로 추산하면서 여기에 소요되는 재정은 상속증여세 강화 종합부동산세 강화 부유세 신설 등 자산세제 강화를 통해 마련할 것 이라고 주장했다. 심상정 정의당 대표는 부모 찬스를 쓸 수 없는 수많은 대한민국 청년들이 사회에 나와 삶의 전망을 열지 못하고 희망 없이 살게 한다면 그 자체가 희망 없는 사회 라며 부모 찬스가 없으면 사회찬스를 쓰게 해야 한다. 세계 경제규모 11위인 대한민국이 능히 할 수 있는 일이고 마땅히 해야 할 일 이라고 언급했다. 이 같은 정의당의 포퓰리즘성 공약을 두고 야권에서는 강도 높은 비판에 나섰다. 민경욱 자유한국당 의원은 심상정 대표의 돈 3000만원부터 쾌척하면 진정성을 믿어주겠다 라며 이걸 정말로 발표를 하는가 표 긁을 생각만 있고 상식과 정의가 없는 당이다. 제정신인가 라고 꼬집었다. 이종철 새로운보수당 대변인도 돈으로 청년의 정의를 사겠다는 마음이 악하다. 정의당의 정의는 시궁창에 던져버려라 며 당명에 정의라는 단어를 쓰는 정의당이 참 부끄럽다 고 언급했다. 이 대변인은 조국 정국에서 조국 전 법무장관을 옹호했던 정의당의 사례를 거론하며 부모 찬스가 없는 청년에게 사회 찬스를 주자면서 부모 찬스의 가장 추악한 면모를 보여준 조국 부부를 옹호한다 라며 이 같은 이율배반은 정의와 공정만을 바라는 청년 정신에 대한 모욕이고 모독이 아닌가 라고 강조했다. 심 대표는 일부 보수언론과 한국당 등에서 선거철에 등장하는 흔한 포퓰리즘 공약으로 비난하고 있다 라며 저와 정의당은 청년 기초자산제도가 이 시대 청년들이 겪고 있는 실생활의 난관과 극심한 불평등을 완화를 할 수 있다면 그런 비난 따위는 아랑곳하지 않겠다. 그것은 좋은 포퓰리즘 이라고 했다. 정치권에서는 선거철이 다가오며 표를 노린 선심성 공약이 남발할 것을 우려하는 목소리가 커지고 있다. 특히 처음으로 투표권을 갖게 된 만 18세 청년들을 대상으로 한 선거전략이 쏟아질 가능성이 커 대비책을 마련해야 한다는 지적이 많다. 이러한 여론을 의식한 듯 심재철 한국당 원내대표는 고등학교 3학년생 표를 노리고 각 정당과 후보자들이 학교 안에서 선거유세를 할 경우 학교 현장이 오염될 것 이라며 교내 선거운동 방지법안 을 발의하겠다 고 선언했다.', 'https://news.naver.com/main/read.nhn?mode=LSD&mid=sec&sid1=100&oid=119&aid=0002376052', '정치', '이러려고 투표 연령 낮췄나…정의당 3000만원 지급 공약 논란', 'https://imgnews.pstatic.net/image/119/2020/01/10/0002376052_001_20200110130106083.jpg', 0.0021691973969631237, '2021-09-01 20:58:28', 0.0021691973969631237), (11014170000491941, '2020-01-10 13:00:00', '2021-09-01 20:58:28', '카드업계는 올해도 어김없이 스키장 리프트권 장비 렌탈 비용뿐만 아니라 스키 강습 부대시설 등의 할인 이벤트를 진행 중이다. 카드사별 스키장 관련 혜택을 꼼꼼히 숙지한다면 알뜰하게 슬로프를 누빌 수 있다. 우선 신한카드는 국내 10곳의 스키장과 제휴를 맺고 리프트 렌탈 강습 등 리조트 관련 할인 이벤트를 진행 중이다.', 'https://news.naver.com/main/read.nhn?mode=LSD&mid=sec&sid1=101&oid=417&aid=0000491941', '경제', '오머니 모르면 손해 스키장 반값 할인 카드', 'https://imgnews.pstatic.net/image/417/2020/01/10/0000491941_001_20200110130008885.jpg', 0.0021691973969631237, '2021-09-01 20:58:28', 0.0021691973969631237), (11020020002117915, '2020-01-10 12:58:00', '2021-09-01 20:58:28', '스님 이장님이 마을사업추진을 시작하게 된 것이다. 오대산 중산간지역마을로 소금강 동해로 가는 길목이라 교통량이 많았던 시절에는 자릿값을 하던 마을이었다. 당시 다른 마을들은 새농어촌건설사업을 도전해 마을변화를 도모하고 있었지만 이 마을은 마을인구수가 적고 기반이 취약해 도전 조건 자체가 어려운 상황이었다.', 'https://news.naver.com/main/read.nhn?mode=LSD&mid=sec&sid1=102&oid=002&aid=0002117915', '사회', '마을자치는 ‘산골마을 기적’도 가능하다', 'https://imgnews.pstatic.net/image/002/2020/01/10/0002117915_001_20200110005800896.jpg', 0.0021691973969631237, '2021-09-01 20:58:28', 0.0021691973969631237), (11020010011327576, '2020-01-10 12:52:00', '2021-09-01 20:58:28', '합동조사단 외부 요인 가능성 있으나 단정할 수 없어 대구시 조사단 권고 계기 대기 질 개선 종합계획 수립 병원으로 이송되는 학생들 대구 연합뉴스 2일 오후 대구시 북구 침산동 경상여자고등학교에서 가스 냄새를 맡고 이상증세를 보이는 학생들이 병원으로 이송되고 있다. 2019.9.2 mtkht yna.co.kr 대구 연합뉴스 홍창진 기자 지난해 9월 2일 대구시 북구 침산동 경상여고 강당에서 발생한 가스흡입 사고의 정확한 원인을 밝히지 못한 채 관계 당국 합동 조사가 마무리된다. 경상여고 가스흡입사고 원인 규명 합동조사단 은 10일 대구시청에서 조사 결과를 발표하며 당초 강당 내 누출가스 시료를 채취하지 못했고 인근 산업단지 주변 모니터링 결과에서도 특정한 원인 물질을 밝히지 못했다 고 밝혔다. 합동조사단은 지난해 9월 19일 대기·악취 화학물질 학교보건 시민단체 등 분야별 전문가 7명으로 구성돼 원인조사에 나섰다. 사고 직후 소방 경찰 가스공사 등의 초동조사에서는 인근 3공단 등 공업지역 대기 배출 사업장의 배출가스 유입 가능성 강당 에어컨 냉매 누출 과학실 폐시약 가스 누출 등을 사고원인으로 추정했었다. 한국환경공단 울산시 보건환경연구원 소속 이동형 대기측정 차량이 경상여고 안팎과 인근 지역의 악취·대기오염 물질을 조사했다. 인근 산업단지 일반공업지역을 대상으로도 관계기관 합동 점검이 이뤄졌다. 합동조사단은 초동조사 결과와 대기 질 모니터링 자료 분석 피해 학생과 교사 역학조사 등 추가조사 자료 등을 바탕으로 자체 조사를 벌였다. 조사단은 결론적으로 초동조사 때 시료를 채취하지 못해 원인 물질 성분 발생원 유입경로 등에 대한 확인이 불가능했고 사후 조사의 한계로 명확한 사고 원인을 밝히지 못했다 고 밝혔다. 조사단 관계자는 피해 학생들의 혈중 이산화탄소 CO 수치가 1.5% 이상인 사례가 많은 점 등으로 미뤄 외부적 요인에 의한 가능성을 추정할 수 있으나 단정할 수는 없다 고 설명했다. 조사단은 이러한 결과를 바탕으로 사고 재발을 막기 위해 경상여고 인근 사업장에 대한 집중관리와 대기 질 개선방안 등을 대구시와 관계기관에 권고했다. 백성옥 합동조사단 단장 영남대 교수 은 민간 감시기구를 구성해 학교 주변 사업장 관리를 강화하고 인근 지역을 악취관리지역으로 지정하도록 권고했으며 교내 시설개선 필요성을 지적했다 고 말했다. 이에 대해 대구시는 합동조사단 권고를 계기로 도심 산단 악취 및 유해 대기오염물질 저감을 위한 종합계획을 수립해 도심 산단 대기 질을 개선하겠다 고 밝혔다.', 'https://news.naver.com/main/read.nhn?mode=LSD&mid=sec&sid1=102&oid=001&aid=0011327576', '사회', '대구 경상여고 가스흡입 사고 원인 못 밝힌 채 조사 마무리', 'https://imgnews.pstatic.net/image/001/2020/01/10/AKR20200110076500053_01_i_20200110135112791.jpg', 0.0021691973969631237, '2021-09-01 20:58:28', 0.0021691973969631237), (11040560010781295, '2020-01-10 12:50:00', '2021-09-01 20:58:28', '앵커 팔다 남아 버려지는 식품을 줄이기 위해 날씨 정보와 스마트폰 앱 등을 활용한 대책이 도입되고 있습니다. 리포트 이 대형마트에서는 매일 신선식품과 반찬 등의 10% 정도가 팔다 남아 버려졌는데요. 식품 폐기는 자원 낭비일 뿐 아니라 점포 입장에서는 손실이기 때문에 이 같은 적극적인 대책을 마련하는 곳이 늘어날 전망입니다.', 'https://news.naver.com/main/read.nhn?mode=LSD&mid=sec&sid1=104&oid=056&aid=0010781295', '세계', '일본 버려지는 식품 줄이기 위해 날씨 정보 활용', 'https://imgnews.pstatic.net/image/056/2020/01/10/0010781295_001_20200110125003671.jpg', 0.0021691973969631237, '2021-09-01 20:58:28', 0.0021691973969631237), (11020140004355774, '2020-01-10 12:46:00', '2021-09-01 20:58:28', '새만금 입주 연구기관에 국공유 재산 사용료 감면 혜택 투자유치 활성화와 수질개선 탄력 기대 ‘새만금 사업 추진 및 지원에 관한 특별법’ 이 지난 9일 국회 본회의를 통과해 새만금 활성화가 기대된다.사진 뉴스1 DB 파이낸셜뉴스 전주 전북도는 새만금 개발사업 활성화와 새만금유역 수질개선 사업 추진 내용을 담은 ‘새만금사업 추진 및 지원에 관한 특별법’ 개정안이 국회 본회의를 통과했다고 10일 밝혔다. 지난해 2월 이춘석 의원이 발의한 개정안과 3월 김관영 의원 발의 개정안 그리고 5월 조배숙 의원이 발의한 개정안을 통합한 내용으로 지난해 11월 27일 국회 법사위를 통과한 후 드디어 9일 본회의에서 가결 처리 됐다. 개정안은 새만금개발청이 사업시행자를 보다 효과적으로 관리·감독할 수 있도록 사업시행자 지정의 취소 및 대체지정 이와 연계된 조성 토지 매도명령에 대한 법적 근거를 마련한 게 주요 골자다. 구체적으로는 △사업 착수 등을 아니한 사업시행자 지정취소 및 대체지정 외국인 출입국관리 특례 부여 △연구기관도 국공유지 임대료 감면 및 수의계약 특례 부여 △새만금유역 수질개선을 위한 익산 왕궁 현업축사 매입사업 유효기간 오는 2024년까지 5년 연장 등이다. 전북도는 새만금 내부개발 사업과 투자유치가 더욱 활성화되고 익산 왕궁 현업축사 매입 사업의 안정적 추진으로 새만금유역 수질개선이 탄력을 받을 것으로 기대했다. 또 하반기부터 새만금 사업 지역에 입주하는 연구기관이 국·공유 재산의 사용료 감면 혜택을 받는다. 새만금에 연구기관을 유치 산업 클러스터를 조성하기 위해 입주 기업에만 적용되던 국·공유 재산의 사용료·대부료 감면 혜택을 연구기관까지 확대한다. 국·공유 재산 가액의 1%까지 감면받는다. 구체적인 연구기관의 범위는 이후 시행령 등으로 정하게 된다.', 'https://news.naver.com/main/read.nhn?mode=LSD&mid=sec&sid1=102&oid=014&aid=0004355774', '사회', '전북도 ‘새만금 사업 추진 및 지원에 관한 특별법’ 국회 통과', 'https://imgnews.pstatic.net/image/014/2020/01/10/0004355774_001_20200110124602641.jpg', 0.0021691973969631237, '2021-09-01 20:58:28', 0.0021691973969631237), (11030210002413605, '2020-01-10 12:41:00', '2021-09-01 20:58:28', '군고구마의 사촌인 군밤도 있는데 불에 구워서 만든 것이니 ‘구운 고구마’나 ‘구운 밤’이 변해서 된 말임을 알 수 있다. 여러 조리법이 있지만 최초의 조리법은 역시 불에 굽는 것일 수밖에 없다. 가장 원초적인 조리법인 굽는 방법은 앞에 쓰일 때는 ‘구운’으로 뒤에 쓰일 때는 ‘구이’로 나타난다.', 'https://news.naver.com/main/read.nhn?mode=LSD&mid=sec&sid1=103&oid=021&aid=0002413605', '생활/문화', '한성우 교수의 맛의 말 말의 맛군고구마', 'https://imgnews.pstatic.net/image/021/2020/01/10/0002413605_001_20200110124105627.jpg', 0.0021691973969631237, '2021-09-01 20:58:28', 0.0021691973969631237), (11020050001277018, '2020-01-10 12:39:00', '2021-09-01 20:58:28', '건강상의 이유를 들었고 그것이 사실로도 알려졌지만 임기내내 ‘재밋섬’ 뒷수습에 매달려온 탓에 재단 안팎에서는 재밋섬 사태가 사실상 9대 이사장 체제의 발목을 잡았다는 아쉬움이 제기된다. 재단 등에 따르면 고경대 이사장이 최근 사직 의사를 표함에 따라 제주도가 오늘 10일 자로 면직처리했다. 제주문화예술재단은 오늘부터 직무대행 체제에 들어간다. 고경대 이사장은 2018년 9월 제9대 이사장으로 취임했다.', 'https://news.naver.com/main/read.nhn?mode=LSD&mid=sec&sid1=102&oid=005&aid=0001277018', '사회', '‘재밋섬’이 발목잡은 제주문화예술재단 ‘2년’', 'https://imgnews.pstatic.net/image/005/2020/01/10/611220270014116654_1_20200110124202124.jpg', 0.0021691973969631237, '2021-09-01 20:58:28', 0.0021691973969631237), (11010820000972879, '2020-01-10 12:36:00', '2021-09-01 20:58:28', '연합뉴스 지난해 3월 발생한 러시아 화물선의 부산 광안대교 충돌 사고처럼 술에 취한 채 선박을 운항한 사람에 대한 벌칙이 강화된다. 해양수산부는 이 같은 내용을 담은 해사안전법 일부개정법률안 등 소관 법률안 52건이 국회 본회의를 통과했다고 9일 밝혔다. 해수부는 해사안전법 개정안은 일명 선박에 대한 윤창호법이라 할 수 있다 며 현행 벌칙과 행정처분을 혈중알코올 농도에 따라 세분화하고 강화했다 고 소개했다.', 'https://news.naver.com/main/read.nhn?mode=LSD&mid=sec&sid1=101&oid=082&aid=0000972879', '경제', '선박판 윤창호법 도입…음주운항 징역 최대 3년→5년', 'https://imgnews.pstatic.net/image/082/2020/01/10/0000972879_001_20200110003605631.jpg', 0.0021691973969631237, '2021-09-01 20:58:28', 0.0021691973969631237)]\n"
     ]
    }
   ],
   "source": [
    "# db.update_cid_representative(total_data)\n",
    "print(total_data[:10])\n",
    "\n",
    "# dbs.upsert_news(list(service_data.values()))\n",
    "print(list(service_data.values())[:10])\n",
    "\n",
    "# dbs.insert_keyword_news_relation(keyword_news_list)\n",
    "print(keyword_news_list[:10])\n",
    "\n",
    "# dbs.remove_news_by_id(list(no_service_data.values()))\n",
    "print(list(no_service_data.values())[:10])\n",
    "\n",
    "# dbs.remove_keyword_news_mapping_by_newsid(list(service_data.values()))\n",
    "print(list(service_data.values())[:10])"
   ]
  },
  {
   "cell_type": "code",
   "execution_count": 28,
   "id": "f54654a3",
   "metadata": {},
   "outputs": [],
   "source": [
    "# update 테스트시에는 실행 X\n",
    "# while True:\n",
    "#     try:\n",
    "#         db.update_cid_representative(total_data)\n",
    "#         break\n",
    "#     except Exception as e:\n",
    "#         log(\"update_cluster_error.txt\", e)\n",
    "#         log(\"update_cluster_error.txt\", \"\")\n",
    "#         timelib.sleep(1)\n",
    "#         db = DBController()\n",
    "\n",
    "# while True:\n",
    "#     try:\n",
    "#         # 새롭게 선출된 뉴스 추가\n",
    "#         dbs.upsert_news(list(service_data.values()))\n",
    "#         break\n",
    "#     except Exception as e:\n",
    "#         log(\"upsert_repr_news_error.txt\", e)\n",
    "#         log(\"upsert_repr_news_error.txt\", \"\")\n",
    "#         timelib.sleep(1)\n",
    "#         dbs = ServiceDBController()\n",
    "# 키워드 매핑 관계 DB에 추가\n",
    "# dbs.insert_keyword_news_relation(keyword_news_list)\n",
    "\n",
    "# while True:\n",
    "#     try:\n",
    "#         # 탈락 뉴스 Service DB에서 삭제\n",
    "#         dbs.remove_news_by_id(list(no_service_data.values()))\n",
    "#         # 뉴스 키워드 매핑 정보까지 삭제\n",
    "#         dbs.remove_keyword_news_mapping_by_newsid(list(service_data.values()))\n",
    "#         break\n",
    "#     except Exception as e:\n",
    "#         log(\"remove_service_error.txt\", e)\n",
    "#         log(\"remove_service_error.txt\", \"\")\n",
    "#         timelib.sleep(1)\n",
    "#         dbs = ServiceDBController()"
   ]
  },
  {
   "cell_type": "code",
   "execution_count": null,
   "id": "59322486",
   "metadata": {},
   "outputs": [],
   "source": []
  },
  {
   "cell_type": "code",
   "execution_count": null,
   "id": "1446b463",
   "metadata": {},
   "outputs": [],
   "source": []
  },
  {
   "cell_type": "code",
   "execution_count": null,
   "id": "3cf1d4c7",
   "metadata": {},
   "outputs": [],
   "source": []
  }
 ],
 "metadata": {
  "kernelspec": {
   "display_name": "Python 3",
   "language": "python",
   "name": "python3"
  },
  "language_info": {
   "codemirror_mode": {
    "name": "ipython",
    "version": 3
   },
   "file_extension": ".py",
   "mimetype": "text/x-python",
   "name": "python",
   "nbconvert_exporter": "python",
   "pygments_lexer": "ipython3",
   "version": "3.6.8"
  }
 },
 "nbformat": 4,
 "nbformat_minor": 5
}
